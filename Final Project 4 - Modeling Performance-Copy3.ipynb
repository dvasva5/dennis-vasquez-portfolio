{
 "cells": [
  {
   "cell_type": "markdown",
   "metadata": {},
   "source": [
    "# Final Project 4 - Modeling Performance"
   ]
  },
  {
   "cell_type": "markdown",
   "metadata": {},
   "source": [
    "The Lending Club's dataset originally contained 74 columns. After inspecting the relevance of each feature in predicting loan performance, more than half the columns were discarded. The types of columns discarded fell into a category of being either \"applicant identifier, categorical\" or \"processed/decisioned application features\". Examples of the first irrelevant category were \"member ID\", \"State\", or \"reasons seeking a loan\" columns, to name a few. The latter group were columns that were already decisioned by Lending Club, i.e. \"interest rates\", \"loan amounts\", and \"grade\" of the loan - all features that already include correlated features of ultimate loan performance.\n",
    "\n",
    "The current dataset only contains columns that include prior credit history, ultimately a credit profile of each applicant to include in our learning models in helping to determine any predictive capabilities pre-funding a loan."
   ]
  },
  {
   "cell_type": "markdown",
   "metadata": {},
   "source": [
    "### Importing packages and dataset"
   ]
  },
  {
   "cell_type": "code",
   "execution_count": 1,
   "metadata": {
    "collapsed": true
   },
   "outputs": [],
   "source": [
    "import pandas as pd\n",
    "import numpy as np\n",
    "import matplotlib.pyplot as plt\n",
    "import seaborn as sns\n",
    "%matplotlib inline"
   ]
  },
  {
   "cell_type": "code",
   "execution_count": 329,
   "metadata": {
    "collapsed": false,
    "scrolled": true
   },
   "outputs": [
    {
     "data": {
      "text/html": [
       "<div>\n",
       "<table border=\"1\" class=\"dataframe\">\n",
       "  <thead>\n",
       "    <tr style=\"text-align: right;\">\n",
       "      <th></th>\n",
       "      <th>loan_amnt</th>\n",
       "      <th>grade</th>\n",
       "      <th>emp_length</th>\n",
       "      <th>home_ownership</th>\n",
       "      <th>annual_inc</th>\n",
       "      <th>loan_status</th>\n",
       "      <th>dti</th>\n",
       "      <th>delinq_2yrs</th>\n",
       "      <th>inq_last_6mths</th>\n",
       "      <th>mths_since_last_delinq</th>\n",
       "      <th>...</th>\n",
       "      <th>total_bal_il</th>\n",
       "      <th>il_util</th>\n",
       "      <th>open_rv_12m</th>\n",
       "      <th>open_rv_24m</th>\n",
       "      <th>max_bal_bc</th>\n",
       "      <th>all_util</th>\n",
       "      <th>total_rev_hi_lim</th>\n",
       "      <th>inq_fi</th>\n",
       "      <th>total_cu_tl</th>\n",
       "      <th>inq_last_12m</th>\n",
       "    </tr>\n",
       "  </thead>\n",
       "  <tbody>\n",
       "    <tr>\n",
       "      <th>320709</th>\n",
       "      <td>4800.0</td>\n",
       "      <td>F</td>\n",
       "      <td>2 years</td>\n",
       "      <td>RENT</td>\n",
       "      <td>59000.0</td>\n",
       "      <td>Charged Off</td>\n",
       "      <td>33.89</td>\n",
       "      <td>0.0</td>\n",
       "      <td>3.0</td>\n",
       "      <td>NaN</td>\n",
       "      <td>...</td>\n",
       "      <td>NaN</td>\n",
       "      <td>NaN</td>\n",
       "      <td>NaN</td>\n",
       "      <td>NaN</td>\n",
       "      <td>NaN</td>\n",
       "      <td>NaN</td>\n",
       "      <td>34000.0</td>\n",
       "      <td>NaN</td>\n",
       "      <td>NaN</td>\n",
       "      <td>NaN</td>\n",
       "    </tr>\n",
       "    <tr>\n",
       "      <th>471256</th>\n",
       "      <td>20000.0</td>\n",
       "      <td>A</td>\n",
       "      <td>10+ years</td>\n",
       "      <td>OWN</td>\n",
       "      <td>83918.0</td>\n",
       "      <td>Issued</td>\n",
       "      <td>20.88</td>\n",
       "      <td>2.0</td>\n",
       "      <td>0.0</td>\n",
       "      <td>15.0</td>\n",
       "      <td>...</td>\n",
       "      <td>20449.0</td>\n",
       "      <td>45.9</td>\n",
       "      <td>2.0</td>\n",
       "      <td>2.0</td>\n",
       "      <td>6889.0</td>\n",
       "      <td>59.4</td>\n",
       "      <td>26600.0</td>\n",
       "      <td>0.0</td>\n",
       "      <td>7.0</td>\n",
       "      <td>0.0</td>\n",
       "    </tr>\n",
       "    <tr>\n",
       "      <th>326906</th>\n",
       "      <td>19800.0</td>\n",
       "      <td>C</td>\n",
       "      <td>8 years</td>\n",
       "      <td>MORTGAGE</td>\n",
       "      <td>82923.0</td>\n",
       "      <td>Current</td>\n",
       "      <td>19.54</td>\n",
       "      <td>0.0</td>\n",
       "      <td>0.0</td>\n",
       "      <td>NaN</td>\n",
       "      <td>...</td>\n",
       "      <td>NaN</td>\n",
       "      <td>NaN</td>\n",
       "      <td>NaN</td>\n",
       "      <td>NaN</td>\n",
       "      <td>NaN</td>\n",
       "      <td>NaN</td>\n",
       "      <td>39000.0</td>\n",
       "      <td>NaN</td>\n",
       "      <td>NaN</td>\n",
       "      <td>NaN</td>\n",
       "    </tr>\n",
       "    <tr>\n",
       "      <th>834424</th>\n",
       "      <td>21000.0</td>\n",
       "      <td>A</td>\n",
       "      <td>7 years</td>\n",
       "      <td>MORTGAGE</td>\n",
       "      <td>83000.0</td>\n",
       "      <td>Current</td>\n",
       "      <td>24.87</td>\n",
       "      <td>0.0</td>\n",
       "      <td>0.0</td>\n",
       "      <td>24.0</td>\n",
       "      <td>...</td>\n",
       "      <td>NaN</td>\n",
       "      <td>NaN</td>\n",
       "      <td>NaN</td>\n",
       "      <td>NaN</td>\n",
       "      <td>NaN</td>\n",
       "      <td>NaN</td>\n",
       "      <td>30400.0</td>\n",
       "      <td>NaN</td>\n",
       "      <td>NaN</td>\n",
       "      <td>NaN</td>\n",
       "    </tr>\n",
       "    <tr>\n",
       "      <th>823776</th>\n",
       "      <td>9300.0</td>\n",
       "      <td>A</td>\n",
       "      <td>1 year</td>\n",
       "      <td>RENT</td>\n",
       "      <td>42000.0</td>\n",
       "      <td>Current</td>\n",
       "      <td>15.69</td>\n",
       "      <td>1.0</td>\n",
       "      <td>0.0</td>\n",
       "      <td>21.0</td>\n",
       "      <td>...</td>\n",
       "      <td>NaN</td>\n",
       "      <td>NaN</td>\n",
       "      <td>NaN</td>\n",
       "      <td>NaN</td>\n",
       "      <td>NaN</td>\n",
       "      <td>NaN</td>\n",
       "      <td>11800.0</td>\n",
       "      <td>NaN</td>\n",
       "      <td>NaN</td>\n",
       "      <td>NaN</td>\n",
       "    </tr>\n",
       "  </tbody>\n",
       "</table>\n",
       "<p>5 rows × 34 columns</p>\n",
       "</div>"
      ],
      "text/plain": [
       "        loan_amnt grade emp_length home_ownership  annual_inc  loan_status  \\\n",
       "320709     4800.0     F    2 years           RENT     59000.0  Charged Off   \n",
       "471256    20000.0     A  10+ years            OWN     83918.0       Issued   \n",
       "326906    19800.0     C    8 years       MORTGAGE     82923.0      Current   \n",
       "834424    21000.0     A    7 years       MORTGAGE     83000.0      Current   \n",
       "823776     9300.0     A     1 year           RENT     42000.0      Current   \n",
       "\n",
       "          dti  delinq_2yrs  inq_last_6mths  mths_since_last_delinq  \\\n",
       "320709  33.89          0.0             3.0                     NaN   \n",
       "471256  20.88          2.0             0.0                    15.0   \n",
       "326906  19.54          0.0             0.0                     NaN   \n",
       "834424  24.87          0.0             0.0                    24.0   \n",
       "823776  15.69          1.0             0.0                    21.0   \n",
       "\n",
       "            ...       total_bal_il  il_util  open_rv_12m  open_rv_24m  \\\n",
       "320709      ...                NaN      NaN          NaN          NaN   \n",
       "471256      ...            20449.0     45.9          2.0          2.0   \n",
       "326906      ...                NaN      NaN          NaN          NaN   \n",
       "834424      ...                NaN      NaN          NaN          NaN   \n",
       "823776      ...                NaN      NaN          NaN          NaN   \n",
       "\n",
       "        max_bal_bc  all_util  total_rev_hi_lim  inq_fi  total_cu_tl  \\\n",
       "320709         NaN       NaN           34000.0     NaN          NaN   \n",
       "471256      6889.0      59.4           26600.0     0.0          7.0   \n",
       "326906         NaN       NaN           39000.0     NaN          NaN   \n",
       "834424         NaN       NaN           30400.0     NaN          NaN   \n",
       "823776         NaN       NaN           11800.0     NaN          NaN   \n",
       "\n",
       "        inq_last_12m  \n",
       "320709           NaN  \n",
       "471256           0.0  \n",
       "326906           NaN  \n",
       "834424           NaN  \n",
       "823776           NaN  \n",
       "\n",
       "[5 rows x 34 columns]"
      ]
     },
     "execution_count": 329,
     "metadata": {},
     "output_type": "execute_result"
    }
   ],
   "source": [
    "lend = pd.read_csv('/Users/dennisvasquez/Downloads/lending-club-loan-data/loan.csv', \n",
    "                   usecols=[\n",
    "'loan_amnt',\n",
    "'grade',\n",
    "'home_ownership',\n",
    "'annual_inc',\n",
    "'loan_status',\n",
    "'dti',\n",
    "'emp_length',\n",
    "'delinq_2yrs',\n",
    "'inq_last_6mths',\n",
    "'mths_since_last_delinq',\n",
    "'mths_since_last_record',\n",
    "'open_acc',\n",
    "'pub_rec',\n",
    "'revol_bal',\n",
    "'revol_util',\n",
    "'total_acc',\n",
    "'mths_since_last_major_derog',\n",
    "'acc_now_delinq',\n",
    "'tot_cur_bal',\n",
    "'open_acc_6m',\n",
    "'open_il_6m',\n",
    "'open_il_12m',\n",
    "'open_il_24m',\n",
    "'mths_since_rcnt_il',\n",
    "'total_bal_il',\n",
    "'il_util',\n",
    "'open_rv_12m',\n",
    "'open_rv_24m',\n",
    "'max_bal_bc',\n",
    "'all_util',\n",
    "'total_rev_hi_lim',\n",
    "'inq_fi',\n",
    "'total_cu_tl',\n",
    "'inq_last_12m'\n",
    "], low_memory=False);\n",
    "\n",
    "lend.sample(5)"
   ]
  },
  {
   "cell_type": "code",
   "execution_count": 330,
   "metadata": {
    "collapsed": false
   },
   "outputs": [
    {
     "data": {
      "text/plain": [
       "(887379, 34)"
      ]
     },
     "execution_count": 330,
     "metadata": {},
     "output_type": "execute_result"
    }
   ],
   "source": [
    "# 887,379 ; 34\n",
    "lend.shape"
   ]
  },
  {
   "cell_type": "code",
   "execution_count": 4,
   "metadata": {
    "collapsed": true
   },
   "outputs": [],
   "source": [
    "# START #\n",
    "\n",
    "lend = lend.iloc[480000:]"
   ]
  },
  {
   "cell_type": "code",
   "execution_count": 5,
   "metadata": {
    "collapsed": false
   },
   "outputs": [
    {
     "data": {
      "text/plain": [
       "(407379, 34)"
      ]
     },
     "execution_count": 5,
     "metadata": {},
     "output_type": "execute_result"
    }
   ],
   "source": [
    "lend.shape"
   ]
  },
  {
   "cell_type": "code",
   "execution_count": null,
   "metadata": {
    "collapsed": false
   },
   "outputs": [],
   "source": [
    "bot = lend.dropna(subset=['open_il_6m'])\n",
    "bot.shape"
   ]
  },
  {
   "cell_type": "code",
   "execution_count": null,
   "metadata": {
    "collapsed": false
   },
   "outputs": [],
   "source": [
    "#466295 #df.iloc[1:2]\n",
    "lend.total_cu_tl.iloc[466294]"
   ]
  },
  {
   "cell_type": "code",
   "execution_count": null,
   "metadata": {
    "collapsed": false
   },
   "outputs": [],
   "source": [
    "# df[df['deaths'] > 50]\n",
    "\n",
    "lend[lend['total_cu_tl'] >= 1];"
   ]
  },
  {
   "cell_type": "code",
   "execution_count": null,
   "metadata": {
    "collapsed": false
   },
   "outputs": [],
   "source": [
    "lend[lend['il_util'] >= 5];"
   ]
  },
  {
   "cell_type": "code",
   "execution_count": null,
   "metadata": {
    "collapsed": false
   },
   "outputs": [],
   "source": [
    "lend = lend.dropna(thresh=20)\n",
    "lend.sample(10);"
   ]
  },
  {
   "cell_type": "code",
   "execution_count": null,
   "metadata": {
    "collapsed": true
   },
   "outputs": [],
   "source": [
    "\n",
    "dti = g2g\n",
    "emp_length = g2g\n",
    "delinq_2yrs = g2g\n",
    "inq_last_6mths = g2g\n",
    "mths_since_last_delinq = half, 400K are good and nan\n",
    "mths_since_last_record = only 130k are good\n",
    "open_acc = g2g\n",
    "pub_rec = g2g\n",
    "revol_bal = g2g\n",
    "revol_util = good to go\n",
    "total_acc = good to go, only 29 are NaN\n",
    "mths_since_last_major_derog = about 220k good\n",
    "acc_now_delinq = '' very weird says only 29 are NaN, 800+ are 0??\n",
    "tot_cur_bal = YES MIMP FOR 70K\n",
    "open_acc_6m = ''\n",
    "open_il_6m = ''\n",
    "open_il_12m = ''\n",
    "open_il_24m = '' same\n",
    "mths_since_rcnt_il = ''\n",
    "total_bal_il = ''\n",
    "il_util = '' about 18k\n",
    "open_rv_12m = ''\n",
    "open_rv_24m = ''\n",
    "max_bal_bc = ''same\n",
    "all_util = '' same\n",
    "total_rev_hi_lim = YES, M.IMP keep\n",
    "inq_fi = '' same\n",
    "total_cu_tl = '' same\n",
    "inq_last_12m = leave out, cant guess on 800k loans, STILL BAD AT 400K"
   ]
  },
  {
   "cell_type": "code",
   "execution_count": null,
   "metadata": {
    "collapsed": true
   },
   "outputs": [],
   "source": [
    "# keep\n",
    "#lend.inq_last_12m = lend.inq_last_12m.replace('-4', 4)"
   ]
  },
  {
   "cell_type": "code",
   "execution_count": null,
   "metadata": {
    "collapsed": false
   },
   "outputs": [],
   "source": [
    "\n",
    "### keep ###\n",
    "\n",
    "lend.open_il_24m.isnull().value_counts()"
   ]
  },
  {
   "cell_type": "code",
   "execution_count": null,
   "metadata": {
    "collapsed": false
   },
   "outputs": [],
   "source": [
    "# keep\n",
    "lend.inq_last_12m.value_counts()"
   ]
  },
  {
   "cell_type": "code",
   "execution_count": null,
   "metadata": {
    "collapsed": false
   },
   "outputs": [],
   "source": [
    "# keep\n",
    "lend.pub_rec.unique()"
   ]
  },
  {
   "cell_type": "code",
   "execution_count": null,
   "metadata": {
    "collapsed": false
   },
   "outputs": [],
   "source": [
    "lend.pub_rec.describe()"
   ]
  },
  {
   "cell_type": "code",
   "execution_count": null,
   "metadata": {
    "collapsed": false
   },
   "outputs": [],
   "source": [
    "lend.inq_last_6mths.drop(lend.index[[]], inplace=True)"
   ]
  },
  {
   "cell_type": "code",
   "execution_count": null,
   "metadata": {
    "collapsed": false
   },
   "outputs": [],
   "source": [
    "plt.hist(lend.revol_bal, alpha=.3);"
   ]
  },
  {
   "cell_type": "code",
   "execution_count": null,
   "metadata": {
    "collapsed": false
   },
   "outputs": [],
   "source": [
    "sns.boxplot(lend.dti);"
   ]
  },
  {
   "cell_type": "code",
   "execution_count": null,
   "metadata": {
    "collapsed": false
   },
   "outputs": [],
   "source": [
    "# Number of rows by columns\n",
    "lend.shape"
   ]
  },
  {
   "cell_type": "code",
   "execution_count": null,
   "metadata": {
    "collapsed": false
   },
   "outputs": [],
   "source": [
    "# $13,093,511,950 Total loan portfolio, includes loans from 2007 - 2015\n",
    "print(sum(lend.loan_amnt))"
   ]
  },
  {
   "cell_type": "markdown",
   "metadata": {},
   "source": [
    "## Cleaning the dataset"
   ]
  },
  {
   "cell_type": "markdown",
   "metadata": {},
   "source": [
    "### Making a dummy variable for the 'home_ownership' field"
   ]
  },
  {
   "cell_type": "code",
   "execution_count": 331,
   "metadata": {
    "collapsed": false
   },
   "outputs": [],
   "source": [
    "# Create dummy variables of the grade column\n",
    "lend['grade_ord'] = lend.grade.map({'A': 7,\n",
    "                                    'B': 6,\n",
    "                                    'C': 5,\n",
    "                                    'D': 4,\n",
    "                                    'E': 3,\n",
    "                                    'F': 2,\n",
    "                                    'G': 1})\n",
    "\n",
    "lend = lend.drop('grade', axis=1);"
   ]
  },
  {
   "cell_type": "code",
   "execution_count": 332,
   "metadata": {
    "collapsed": false
   },
   "outputs": [
    {
     "data": {
      "text/plain": [
       "array(['RENT', 'OWN', 'MORTGAGE', 'OTHER', 'NONE', 'ANY'], dtype=object)"
      ]
     },
     "execution_count": 332,
     "metadata": {},
     "output_type": "execute_result"
    }
   ],
   "source": [
    "lend.home_ownership.unique()"
   ]
  },
  {
   "cell_type": "code",
   "execution_count": 333,
   "metadata": {
    "collapsed": false
   },
   "outputs": [
    {
     "data": {
      "text/plain": [
       "MORTGAGE    443557\n",
       "RENT        356117\n",
       "OWN          87470\n",
       "OTHER          182\n",
       "NONE            50\n",
       "ANY              3\n",
       "Name: home_ownership, dtype: int64"
      ]
     },
     "execution_count": 333,
     "metadata": {},
     "output_type": "execute_result"
    }
   ],
   "source": [
    "lend.home_ownership.value_counts()"
   ]
  },
  {
   "cell_type": "code",
   "execution_count": 334,
   "metadata": {
    "collapsed": true
   },
   "outputs": [],
   "source": [
    "# Deleting the 'OTHER', 'NONE', and 'ANY' home ownership columns to reduce noise in data since they're smaller amounts\n",
    "lend = lend[lend.home_ownership != 'OTHER']\n",
    "lend = lend[lend.home_ownership != 'NONE']\n",
    "lend = lend[lend.home_ownership != 'ANY']"
   ]
  },
  {
   "cell_type": "code",
   "execution_count": 335,
   "metadata": {
    "collapsed": false
   },
   "outputs": [],
   "source": [
    "# Calling the get_dummies function then adding the new dummy columns into the dataset\n",
    "lend_reside = pd.get_dummies(lend['home_ownership'],prefix='home',drop_first=False)\n",
    "lend = pd.concat([lend, lend_reside], axis=1)\n",
    "lend = lend.drop('home_ownership', axis=1);"
   ]
  },
  {
   "cell_type": "code",
   "execution_count": 336,
   "metadata": {
    "collapsed": false
   },
   "outputs": [
    {
     "data": {
      "text/html": [
       "<div>\n",
       "<table border=\"1\" class=\"dataframe\">\n",
       "  <thead>\n",
       "    <tr style=\"text-align: right;\">\n",
       "      <th></th>\n",
       "      <th>loan_amnt</th>\n",
       "      <th>emp_length</th>\n",
       "      <th>annual_inc</th>\n",
       "      <th>loan_status</th>\n",
       "      <th>dti</th>\n",
       "      <th>delinq_2yrs</th>\n",
       "      <th>inq_last_6mths</th>\n",
       "      <th>mths_since_last_delinq</th>\n",
       "      <th>mths_since_last_record</th>\n",
       "      <th>open_acc</th>\n",
       "      <th>...</th>\n",
       "      <th>max_bal_bc</th>\n",
       "      <th>all_util</th>\n",
       "      <th>total_rev_hi_lim</th>\n",
       "      <th>inq_fi</th>\n",
       "      <th>total_cu_tl</th>\n",
       "      <th>inq_last_12m</th>\n",
       "      <th>grade_ord</th>\n",
       "      <th>home_MORTGAGE</th>\n",
       "      <th>home_OWN</th>\n",
       "      <th>home_RENT</th>\n",
       "    </tr>\n",
       "  </thead>\n",
       "  <tbody>\n",
       "    <tr>\n",
       "      <th>3401</th>\n",
       "      <td>7500.0</td>\n",
       "      <td>3 years</td>\n",
       "      <td>40000.0</td>\n",
       "      <td>Fully Paid</td>\n",
       "      <td>1.44</td>\n",
       "      <td>1.0</td>\n",
       "      <td>0.0</td>\n",
       "      <td>12.0</td>\n",
       "      <td>NaN</td>\n",
       "      <td>6.0</td>\n",
       "      <td>...</td>\n",
       "      <td>NaN</td>\n",
       "      <td>NaN</td>\n",
       "      <td>NaN</td>\n",
       "      <td>NaN</td>\n",
       "      <td>NaN</td>\n",
       "      <td>NaN</td>\n",
       "      <td>6</td>\n",
       "      <td>0</td>\n",
       "      <td>0</td>\n",
       "      <td>1</td>\n",
       "    </tr>\n",
       "    <tr>\n",
       "      <th>351452</th>\n",
       "      <td>2000.0</td>\n",
       "      <td>1 year</td>\n",
       "      <td>100000.0</td>\n",
       "      <td>Fully Paid</td>\n",
       "      <td>1.89</td>\n",
       "      <td>0.0</td>\n",
       "      <td>3.0</td>\n",
       "      <td>73.0</td>\n",
       "      <td>NaN</td>\n",
       "      <td>15.0</td>\n",
       "      <td>...</td>\n",
       "      <td>NaN</td>\n",
       "      <td>NaN</td>\n",
       "      <td>18700.0</td>\n",
       "      <td>NaN</td>\n",
       "      <td>NaN</td>\n",
       "      <td>NaN</td>\n",
       "      <td>6</td>\n",
       "      <td>0</td>\n",
       "      <td>0</td>\n",
       "      <td>1</td>\n",
       "    </tr>\n",
       "    <tr>\n",
       "      <th>326437</th>\n",
       "      <td>7000.0</td>\n",
       "      <td>9 years</td>\n",
       "      <td>48000.0</td>\n",
       "      <td>Current</td>\n",
       "      <td>31.93</td>\n",
       "      <td>1.0</td>\n",
       "      <td>0.0</td>\n",
       "      <td>2.0</td>\n",
       "      <td>NaN</td>\n",
       "      <td>20.0</td>\n",
       "      <td>...</td>\n",
       "      <td>NaN</td>\n",
       "      <td>NaN</td>\n",
       "      <td>20100.0</td>\n",
       "      <td>NaN</td>\n",
       "      <td>NaN</td>\n",
       "      <td>NaN</td>\n",
       "      <td>4</td>\n",
       "      <td>0</td>\n",
       "      <td>0</td>\n",
       "      <td>1</td>\n",
       "    </tr>\n",
       "    <tr>\n",
       "      <th>343981</th>\n",
       "      <td>23450.0</td>\n",
       "      <td>3 years</td>\n",
       "      <td>62000.0</td>\n",
       "      <td>Current</td>\n",
       "      <td>21.29</td>\n",
       "      <td>0.0</td>\n",
       "      <td>3.0</td>\n",
       "      <td>43.0</td>\n",
       "      <td>NaN</td>\n",
       "      <td>10.0</td>\n",
       "      <td>...</td>\n",
       "      <td>NaN</td>\n",
       "      <td>NaN</td>\n",
       "      <td>19200.0</td>\n",
       "      <td>NaN</td>\n",
       "      <td>NaN</td>\n",
       "      <td>NaN</td>\n",
       "      <td>5</td>\n",
       "      <td>0</td>\n",
       "      <td>1</td>\n",
       "      <td>0</td>\n",
       "    </tr>\n",
       "    <tr>\n",
       "      <th>65717</th>\n",
       "      <td>1000.0</td>\n",
       "      <td>3 years</td>\n",
       "      <td>35000.0</td>\n",
       "      <td>Current</td>\n",
       "      <td>25.94</td>\n",
       "      <td>0.0</td>\n",
       "      <td>0.0</td>\n",
       "      <td>NaN</td>\n",
       "      <td>NaN</td>\n",
       "      <td>7.0</td>\n",
       "      <td>...</td>\n",
       "      <td>NaN</td>\n",
       "      <td>NaN</td>\n",
       "      <td>22800.0</td>\n",
       "      <td>NaN</td>\n",
       "      <td>NaN</td>\n",
       "      <td>NaN</td>\n",
       "      <td>6</td>\n",
       "      <td>0</td>\n",
       "      <td>0</td>\n",
       "      <td>1</td>\n",
       "    </tr>\n",
       "  </tbody>\n",
       "</table>\n",
       "<p>5 rows × 36 columns</p>\n",
       "</div>"
      ],
      "text/plain": [
       "        loan_amnt emp_length  annual_inc loan_status    dti  delinq_2yrs  \\\n",
       "3401       7500.0    3 years     40000.0  Fully Paid   1.44          1.0   \n",
       "351452     2000.0     1 year    100000.0  Fully Paid   1.89          0.0   \n",
       "326437     7000.0    9 years     48000.0     Current  31.93          1.0   \n",
       "343981    23450.0    3 years     62000.0     Current  21.29          0.0   \n",
       "65717      1000.0    3 years     35000.0     Current  25.94          0.0   \n",
       "\n",
       "        inq_last_6mths  mths_since_last_delinq  mths_since_last_record  \\\n",
       "3401               0.0                    12.0                     NaN   \n",
       "351452             3.0                    73.0                     NaN   \n",
       "326437             0.0                     2.0                     NaN   \n",
       "343981             3.0                    43.0                     NaN   \n",
       "65717              0.0                     NaN                     NaN   \n",
       "\n",
       "        open_acc    ...      max_bal_bc  all_util  total_rev_hi_lim  inq_fi  \\\n",
       "3401         6.0    ...             NaN       NaN               NaN     NaN   \n",
       "351452      15.0    ...             NaN       NaN           18700.0     NaN   \n",
       "326437      20.0    ...             NaN       NaN           20100.0     NaN   \n",
       "343981      10.0    ...             NaN       NaN           19200.0     NaN   \n",
       "65717        7.0    ...             NaN       NaN           22800.0     NaN   \n",
       "\n",
       "        total_cu_tl  inq_last_12m  grade_ord  home_MORTGAGE  home_OWN  \\\n",
       "3401            NaN           NaN          6              0         0   \n",
       "351452          NaN           NaN          6              0         0   \n",
       "326437          NaN           NaN          4              0         0   \n",
       "343981          NaN           NaN          5              0         1   \n",
       "65717           NaN           NaN          6              0         0   \n",
       "\n",
       "        home_RENT  \n",
       "3401            1  \n",
       "351452          1  \n",
       "326437          1  \n",
       "343981          0  \n",
       "65717           1  \n",
       "\n",
       "[5 rows x 36 columns]"
      ]
     },
     "execution_count": 336,
     "metadata": {},
     "output_type": "execute_result"
    }
   ],
   "source": [
    "lend.sample(5)"
   ]
  },
  {
   "cell_type": "markdown",
   "metadata": {},
   "source": [
    "### Cleaning the \"emp_length\" column"
   ]
  },
  {
   "cell_type": "code",
   "execution_count": 337,
   "metadata": {
    "collapsed": false
   },
   "outputs": [],
   "source": [
    "# Truncating and converting the 'emp_lenght' or employment length column into a float variable\n",
    "lend.loc[:, 'emp_length'] = lend['emp_length'].str.split('years').apply(lambda x: x[0])\n",
    "lend.loc[:, 'emp_length'] = lend['emp_length'].str.split('year').apply(lambda x: x[0])\n",
    "lend.emp_length = lend.emp_length.replace('< 1 ', 1)\n",
    "lend.emp_length = lend.emp_length.replace('10+ ', 10)\n",
    "lend = lend[lend.emp_length != 'n/a']\n",
    "lend['emp_length'] = lend['emp_length'].astype(int)"
   ]
  },
  {
   "cell_type": "markdown",
   "metadata": {},
   "source": [
    "### Cleaning the \"loan_status\" column\n",
    "#### The \"loan_status\" field is the dependent variable or y column that we will try to predict"
   ]
  },
  {
   "cell_type": "code",
   "execution_count": 338,
   "metadata": {
    "collapsed": false
   },
   "outputs": [
    {
     "data": {
      "text/plain": [
       "Current                                                568679\n",
       "Fully Paid                                             200203\n",
       "Charged Off                                             42690\n",
       "Late (31-120 days)                                      10872\n",
       "Issued                                                   7829\n",
       "In Grace Period                                          6015\n",
       "Late (16-30 days)                                        2215\n",
       "Does not meet the credit policy. Status:Fully Paid       1938\n",
       "Default                                                  1148\n",
       "Does not meet the credit policy. Status:Charged Off       734\n",
       "Name: loan_status, dtype: int64"
      ]
     },
     "execution_count": 338,
     "metadata": {},
     "output_type": "execute_result"
    }
   ],
   "source": [
    "# Display frequency table of all the loan status\n",
    "lend.loan_status.value_counts()"
   ]
  },
  {
   "cell_type": "code",
   "execution_count": 339,
   "metadata": {
    "collapsed": false
   },
   "outputs": [
    {
     "data": {
      "text/plain": [
       "(265815, 36)"
      ]
     },
     "execution_count": 339,
     "metadata": {},
     "output_type": "execute_result"
    }
   ],
   "source": [
    "# Delete 'Current' and 'Issued' status, as it is not indicative in determing the FINAL performance status of the loan\n",
    "# Note the reduction in rows\n",
    "lend = lend[lend.loan_status != 'Current']\n",
    "lend = lend[lend.loan_status != 'Issued']\n",
    "lend.shape"
   ]
  },
  {
   "cell_type": "code",
   "execution_count": 340,
   "metadata": {
    "collapsed": false,
    "scrolled": true
   },
   "outputs": [],
   "source": [
    "# Create binary dummy variables of the loan status column into a new column, \"status_group\"\n",
    "# Bad performing loans: 1, paid in full loans: 0\n",
    "lend['status_group'] = lend.loan_status.map({'Fully Paid': 0,\n",
    "                                             'Charged Off': 1, \n",
    "                                             'Late (31-120 days)': 1,\n",
    "                                             'In Grace Period': 1,\n",
    "                                             'Late (16-30 days)': 1,\n",
    "                                             'Does not meet the credit policy. Status:Fully Paid': 0,\n",
    "                                             'Default': 1,\n",
    "                                             'Does not meet the credit policy. Status:Charged Off': 1})\n",
    "\n",
    "#lend[['loan_status','status_group']].sample(5)\n",
    "lend = lend.drop('loan_status', axis=1);"
   ]
  },
  {
   "cell_type": "markdown",
   "metadata": {},
   "source": [
    "### This is our overall base rate that we will compare our learning model scores against:"
   ]
  },
  {
   "cell_type": "code",
   "execution_count": 341,
   "metadata": {
    "collapsed": false
   },
   "outputs": [
    {
     "data": {
      "text/plain": [
       "0    202141\n",
       "1     63674\n",
       "Name: status_group, dtype: int64"
      ]
     },
     "execution_count": 341,
     "metadata": {},
     "output_type": "execute_result"
    }
   ],
   "source": [
    "# 0.314997947 or 0.685002053 split of fully paid to bad performing loans \n",
    "# 68.5% of the dataset are loans paid in full\n",
    "lend.status_group.value_counts()"
   ]
  },
  {
   "cell_type": "code",
   "execution_count": 342,
   "metadata": {
    "collapsed": false
   },
   "outputs": [
    {
     "data": {
      "text/html": [
       "<div>\n",
       "<table border=\"1\" class=\"dataframe\">\n",
       "  <thead>\n",
       "    <tr style=\"text-align: right;\">\n",
       "      <th></th>\n",
       "      <th>loan_amnt</th>\n",
       "      <th>emp_length</th>\n",
       "      <th>annual_inc</th>\n",
       "      <th>dti</th>\n",
       "      <th>delinq_2yrs</th>\n",
       "      <th>inq_last_6mths</th>\n",
       "      <th>mths_since_last_delinq</th>\n",
       "      <th>mths_since_last_record</th>\n",
       "      <th>open_acc</th>\n",
       "      <th>pub_rec</th>\n",
       "      <th>...</th>\n",
       "      <th>all_util</th>\n",
       "      <th>total_rev_hi_lim</th>\n",
       "      <th>inq_fi</th>\n",
       "      <th>total_cu_tl</th>\n",
       "      <th>inq_last_12m</th>\n",
       "      <th>grade_ord</th>\n",
       "      <th>home_MORTGAGE</th>\n",
       "      <th>home_OWN</th>\n",
       "      <th>home_RENT</th>\n",
       "      <th>status_group</th>\n",
       "    </tr>\n",
       "  </thead>\n",
       "  <tbody>\n",
       "    <tr>\n",
       "      <th>299575</th>\n",
       "      <td>10000.0</td>\n",
       "      <td>4</td>\n",
       "      <td>50000.0</td>\n",
       "      <td>14.89</td>\n",
       "      <td>0.0</td>\n",
       "      <td>0.0</td>\n",
       "      <td>NaN</td>\n",
       "      <td>NaN</td>\n",
       "      <td>20.0</td>\n",
       "      <td>0.0</td>\n",
       "      <td>...</td>\n",
       "      <td>NaN</td>\n",
       "      <td>16600.0</td>\n",
       "      <td>NaN</td>\n",
       "      <td>NaN</td>\n",
       "      <td>NaN</td>\n",
       "      <td>7</td>\n",
       "      <td>1</td>\n",
       "      <td>0</td>\n",
       "      <td>0</td>\n",
       "      <td>0</td>\n",
       "    </tr>\n",
       "    <tr>\n",
       "      <th>254087</th>\n",
       "      <td>6200.0</td>\n",
       "      <td>3</td>\n",
       "      <td>46000.0</td>\n",
       "      <td>21.53</td>\n",
       "      <td>0.0</td>\n",
       "      <td>0.0</td>\n",
       "      <td>NaN</td>\n",
       "      <td>NaN</td>\n",
       "      <td>22.0</td>\n",
       "      <td>0.0</td>\n",
       "      <td>...</td>\n",
       "      <td>NaN</td>\n",
       "      <td>105600.0</td>\n",
       "      <td>NaN</td>\n",
       "      <td>NaN</td>\n",
       "      <td>NaN</td>\n",
       "      <td>7</td>\n",
       "      <td>0</td>\n",
       "      <td>0</td>\n",
       "      <td>1</td>\n",
       "      <td>0</td>\n",
       "    </tr>\n",
       "    <tr>\n",
       "      <th>83220</th>\n",
       "      <td>12750.0</td>\n",
       "      <td>2</td>\n",
       "      <td>91000.0</td>\n",
       "      <td>10.18</td>\n",
       "      <td>0.0</td>\n",
       "      <td>2.0</td>\n",
       "      <td>NaN</td>\n",
       "      <td>NaN</td>\n",
       "      <td>14.0</td>\n",
       "      <td>0.0</td>\n",
       "      <td>...</td>\n",
       "      <td>NaN</td>\n",
       "      <td>27400.0</td>\n",
       "      <td>NaN</td>\n",
       "      <td>NaN</td>\n",
       "      <td>NaN</td>\n",
       "      <td>5</td>\n",
       "      <td>1</td>\n",
       "      <td>0</td>\n",
       "      <td>0</td>\n",
       "      <td>0</td>\n",
       "    </tr>\n",
       "    <tr>\n",
       "      <th>109796</th>\n",
       "      <td>28200.0</td>\n",
       "      <td>9</td>\n",
       "      <td>127000.0</td>\n",
       "      <td>1.81</td>\n",
       "      <td>0.0</td>\n",
       "      <td>0.0</td>\n",
       "      <td>NaN</td>\n",
       "      <td>100.0</td>\n",
       "      <td>5.0</td>\n",
       "      <td>1.0</td>\n",
       "      <td>...</td>\n",
       "      <td>NaN</td>\n",
       "      <td>16200.0</td>\n",
       "      <td>NaN</td>\n",
       "      <td>NaN</td>\n",
       "      <td>NaN</td>\n",
       "      <td>5</td>\n",
       "      <td>0</td>\n",
       "      <td>0</td>\n",
       "      <td>1</td>\n",
       "      <td>0</td>\n",
       "    </tr>\n",
       "    <tr>\n",
       "      <th>168079</th>\n",
       "      <td>30000.0</td>\n",
       "      <td>1</td>\n",
       "      <td>140000.0</td>\n",
       "      <td>11.29</td>\n",
       "      <td>1.0</td>\n",
       "      <td>1.0</td>\n",
       "      <td>12.0</td>\n",
       "      <td>NaN</td>\n",
       "      <td>6.0</td>\n",
       "      <td>0.0</td>\n",
       "      <td>...</td>\n",
       "      <td>NaN</td>\n",
       "      <td>6500.0</td>\n",
       "      <td>NaN</td>\n",
       "      <td>NaN</td>\n",
       "      <td>NaN</td>\n",
       "      <td>5</td>\n",
       "      <td>1</td>\n",
       "      <td>0</td>\n",
       "      <td>0</td>\n",
       "      <td>0</td>\n",
       "    </tr>\n",
       "  </tbody>\n",
       "</table>\n",
       "<p>5 rows × 36 columns</p>\n",
       "</div>"
      ],
      "text/plain": [
       "        loan_amnt  emp_length  annual_inc    dti  delinq_2yrs  inq_last_6mths  \\\n",
       "299575    10000.0           4     50000.0  14.89          0.0             0.0   \n",
       "254087     6200.0           3     46000.0  21.53          0.0             0.0   \n",
       "83220     12750.0           2     91000.0  10.18          0.0             2.0   \n",
       "109796    28200.0           9    127000.0   1.81          0.0             0.0   \n",
       "168079    30000.0           1    140000.0  11.29          1.0             1.0   \n",
       "\n",
       "        mths_since_last_delinq  mths_since_last_record  open_acc  pub_rec  \\\n",
       "299575                     NaN                     NaN      20.0      0.0   \n",
       "254087                     NaN                     NaN      22.0      0.0   \n",
       "83220                      NaN                     NaN      14.0      0.0   \n",
       "109796                     NaN                   100.0       5.0      1.0   \n",
       "168079                    12.0                     NaN       6.0      0.0   \n",
       "\n",
       "            ...       all_util  total_rev_hi_lim  inq_fi  total_cu_tl  \\\n",
       "299575      ...            NaN           16600.0     NaN          NaN   \n",
       "254087      ...            NaN          105600.0     NaN          NaN   \n",
       "83220       ...            NaN           27400.0     NaN          NaN   \n",
       "109796      ...            NaN           16200.0     NaN          NaN   \n",
       "168079      ...            NaN            6500.0     NaN          NaN   \n",
       "\n",
       "        inq_last_12m  grade_ord  home_MORTGAGE  home_OWN  home_RENT  \\\n",
       "299575           NaN          7              1         0          0   \n",
       "254087           NaN          7              0         0          1   \n",
       "83220            NaN          5              1         0          0   \n",
       "109796           NaN          5              0         0          1   \n",
       "168079           NaN          5              1         0          0   \n",
       "\n",
       "        status_group  \n",
       "299575             0  \n",
       "254087             0  \n",
       "83220              0  \n",
       "109796             0  \n",
       "168079             0  \n",
       "\n",
       "[5 rows x 36 columns]"
      ]
     },
     "execution_count": 342,
     "metadata": {},
     "output_type": "execute_result"
    }
   ],
   "source": [
    "# Modified dataset sample\n",
    "lend.sample(5)"
   ]
  },
  {
   "cell_type": "markdown",
   "metadata": {
    "collapsed": true
   },
   "source": [
    "## Cleaning specific fields of outliers"
   ]
  },
  {
   "cell_type": "markdown",
   "metadata": {},
   "source": [
    "### Cleaning the \"annual_inc\" column of typo values"
   ]
  },
  {
   "cell_type": "code",
   "execution_count": 343,
   "metadata": {
    "collapsed": false
   },
   "outputs": [],
   "source": [
    "# mean impute values for all NaNs in the total_rev_hi_lim column\n",
    "lend.total_rev_hi_lim.fillna(lend.total_rev_hi_lim.mean(), inplace=True)"
   ]
  },
  {
   "cell_type": "code",
   "execution_count": 344,
   "metadata": {
    "collapsed": false
   },
   "outputs": [],
   "source": [
    "lend.tot_cur_bal.fillna(lend.tot_cur_bal.mean(), inplace=True)"
   ]
  },
  {
   "cell_type": "code",
   "execution_count": 345,
   "metadata": {
    "collapsed": true
   },
   "outputs": [],
   "source": [
    "lend.mths_since_last_major_derog.fillna(lend.tot_cur_bal.mean(), inplace=True)"
   ]
  },
  {
   "cell_type": "code",
   "execution_count": 346,
   "metadata": {
    "collapsed": false
   },
   "outputs": [
    {
     "data": {
      "text/plain": [
       "count    2.658150e+05\n",
       "mean     7.350731e+04\n",
       "std      6.143433e+04\n",
       "min      1.896000e+03\n",
       "25%      4.500000e+04\n",
       "50%      6.300000e+04\n",
       "75%      8.830000e+04\n",
       "max      8.900060e+06\n",
       "Name: annual_inc, dtype: float64"
      ]
     },
     "execution_count": 346,
     "metadata": {},
     "output_type": "execute_result"
    }
   ],
   "source": [
    "lend.annual_inc.describe()"
   ]
  },
  {
   "cell_type": "code",
   "execution_count": 347,
   "metadata": {
    "collapsed": false
   },
   "outputs": [
    {
     "data": {
      "text/plain": [
       "714064    2146496.0\n",
       "29708     3900000.0\n",
       "306811    4900000.0\n",
       "180080    5000000.0\n",
       "30176     6000000.0\n",
       "675609    6000000.0\n",
       "169235    6100000.0\n",
       "177182    7141778.0\n",
       "866973    8706582.0\n",
       "684000    8900060.0\n",
       "Name: annual_inc, dtype: float64"
      ]
     },
     "execution_count": 347,
     "metadata": {},
     "output_type": "execute_result"
    }
   ],
   "source": [
    "# Shows the last 10 outliers greater than $3MM in the annual income field\n",
    "lend.annual_inc.sort_values().tail(10)"
   ]
  },
  {
   "cell_type": "code",
   "execution_count": 348,
   "metadata": {
    "collapsed": false
   },
   "outputs": [],
   "source": [
    "# Keeps all values <= 3,000,000 in the \"annual income\" column, deletes any rows > 3,000,000\n",
    "lend = lend[lend['annual_inc'] <= 3000000]"
   ]
  },
  {
   "cell_type": "markdown",
   "metadata": {},
   "source": [
    "### Cleaning the \"inq_last_12m\" column of typo values"
   ]
  },
  {
   "cell_type": "code",
   "execution_count": 349,
   "metadata": {
    "collapsed": true
   },
   "outputs": [],
   "source": [
    "# Fixing typo for inq_last_12m field\n",
    "lend.inq_last_12m.value_counts()\n",
    "lend.inq_last_12m = lend.inq_last_12m.replace('-4', 4)"
   ]
  },
  {
   "cell_type": "markdown",
   "metadata": {},
   "source": [
    "### Cleaning the \"revol_util\" column of typo values"
   ]
  },
  {
   "cell_type": "code",
   "execution_count": 350,
   "metadata": {
    "collapsed": false
   },
   "outputs": [
    {
     "data": {
      "text/plain": [
       "count    265567.000000\n",
       "mean         54.767811\n",
       "std          24.752243\n",
       "min           0.000000\n",
       "25%          36.800000\n",
       "50%          56.300000\n",
       "75%          74.300000\n",
       "max         892.300000\n",
       "Name: revol_util, dtype: float64"
      ]
     },
     "execution_count": 350,
     "metadata": {},
     "output_type": "execute_result"
    }
   ],
   "source": [
    "# Revolving account credit utilization rate column\n",
    "# Shows inaccurate typo values greater than 100 (i.e. 829., 366., 153., etc.)\n",
    "# Instead of correcting and dividing these rows by 10, I simply delete them from the set\n",
    "lend.revol_util.describe()"
   ]
  },
  {
   "cell_type": "code",
   "execution_count": 351,
   "metadata": {
    "collapsed": false
   },
   "outputs": [
    {
     "data": {
      "text/plain": [
       "array([ 106.4,  101.8,  104.3,  104.2,  108.8,  106.1,  106.2,  100.5,\n",
       "        101.4,  103.9,  102.8,  100.7,  105.2,  106.5,  103.1,  100.6,\n",
       "        102.7,  103.2,  101.5,  119. ,  103.5,  105.3,  105.7,  104.5,\n",
       "        100.4,  103.6,  102. ,  105.8,  103.3,  100.9,  100.1,  100.2,\n",
       "        107.7,  101.1,  101.2,  101.3,  104.1,  101. ,  112.9,  100.8,\n",
       "        106.9,  103.7,  101.6,  109.9,  102.5,  102.4,  100.3,  102.2,\n",
       "        104.4,  128.1,  101.9,  127.6,  120.2,  109.1,  101.7,  102.6,\n",
       "        105.1,  102.3,  115.3,  102.1,  122.5,  112.7,  103.4,  103.8,\n",
       "        107. ,  104.9,  110.3,  107.3,  103. ,  129.5,  112.5,  118.9,\n",
       "        107.2,  114.9,  109.7,  129.4,  105.5,  112.1,  130.2,  111. ,\n",
       "        113.4,  106.3,  146.1,  108.2,  106.6,  108.3,  127.4,  123.2,\n",
       "        107.8,  113.1,  109.3,  108.4,  104.6,  109.5,  366.6,  115.1,\n",
       "        105.4,  111.4,  148. ,  150.7,  892.3,  109.8,  153. ,  110.1,\n",
       "        110.6,  108.9,  112.2,  111.3,  113. ,  105.9,  141.8,  110. ,\n",
       "        113.7,  104. ,  117.6,  108.5,  109. ,  102.9,  130.4,  107.6,\n",
       "        141.1,  126.1,  117.7,  109.4,  132.1,  111.1,  104.8,  117.2,\n",
       "        116.4,  112. ,  127.1,  126.3,  114.5,  106.8,  117.9])"
      ]
     },
     "execution_count": 351,
     "metadata": {},
     "output_type": "execute_result"
    }
   ],
   "source": [
    "# Shows which and how many innacurate or typo values are present, shown as greater than 100\n",
    "rev = lend[(lend.revol_util > 100)].revol_util.unique()\n",
    "rev"
   ]
  },
  {
   "cell_type": "code",
   "execution_count": 352,
   "metadata": {
    "collapsed": false
   },
   "outputs": [],
   "source": [
    "# Keeps all values <= 100 in the \"revol_util\" column, deletes any rows > 100\n",
    "lend = lend[lend['revol_util'] <= 100]"
   ]
  },
  {
   "cell_type": "markdown",
   "metadata": {},
   "source": [
    "### Replacing NaN values in the dataset"
   ]
  },
  {
   "cell_type": "code",
   "execution_count": 353,
   "metadata": {
    "collapsed": false
   },
   "outputs": [],
   "source": [
    "lend = lend.drop('open_acc_6m', axis=1)\n",
    "lend = lend.drop('open_il_6m', axis=1)\n",
    "lend = lend.drop('open_il_12m', axis=1)\n",
    "lend = lend.drop('open_il_24m', axis=1)\n",
    "lend = lend.drop('mths_since_rcnt_il', axis=1)\n",
    "lend = lend.drop('total_bal_il', axis=1)\n",
    "lend = lend.drop('open_rv_12m', axis=1)\n",
    "lend = lend.drop('open_rv_24m', axis=1)\n",
    "lend = lend.drop('max_bal_bc', axis=1)\n",
    "lend = lend.drop('all_util', axis=1)\n",
    "lend = lend.drop('inq_fi', axis=1)\n",
    "lend = lend.drop('total_cu_tl', axis=1)\n",
    "lend = lend.drop('inq_last_12m', axis=1)\n",
    "lend = lend.drop('il_util', axis=1);"
   ]
  },
  {
   "cell_type": "code",
   "execution_count": 354,
   "metadata": {
    "collapsed": true
   },
   "outputs": [],
   "source": [
    "# Replacing all 'NaN' fields with '0' throughout the entire dataset\n",
    "lend = lend.replace('NaN', 0)"
   ]
  },
  {
   "cell_type": "code",
   "execution_count": 355,
   "metadata": {
    "collapsed": false
   },
   "outputs": [
    {
     "data": {
      "text/plain": [
       "0    201536\n",
       "1     63289\n",
       "Name: status_group, dtype: int64"
      ]
     },
     "execution_count": 355,
     "metadata": {},
     "output_type": "execute_result"
    }
   ],
   "source": [
    "lend.status_group.value_counts()"
   ]
  },
  {
   "cell_type": "markdown",
   "metadata": {},
   "source": [
    "## Visualizing the features and their correlations"
   ]
  },
  {
   "cell_type": "code",
   "execution_count": null,
   "metadata": {
    "collapsed": false
   },
   "outputs": [],
   "source": [
    "# Displaying boxplots of binary loan status (0 = good loan perfomance vs 1 = bad) against dti (debt-to-income ratios) \n",
    "sns.boxplot(x='status_group', y='dti',data = lend, palette=\"Set2\");"
   ]
  },
  {
   "cell_type": "code",
   "execution_count": null,
   "metadata": {
    "collapsed": false
   },
   "outputs": [],
   "source": [
    "# Displaying boxplots of binary loan status against revol_util (revolving utilization rate) \n",
    "sns.boxplot(x='status_group', y='revol_util', data = lend, palette=\"Set2\");"
   ]
  },
  {
   "cell_type": "code",
   "execution_count": null,
   "metadata": {
    "collapsed": false
   },
   "outputs": [],
   "source": [
    "correl = pd.DataFrame(corr);"
   ]
  },
  {
   "cell_type": "code",
   "execution_count": null,
   "metadata": {
    "collapsed": false
   },
   "outputs": [],
   "source": [
    "#rev = lend[(lend.revol_util > 100)].revol_util.unique()\n",
    "\n",
    "rell = correl >.65\n",
    "rell = pd.DataFrame(rell);"
   ]
  },
  {
   "cell_type": "code",
   "execution_count": null,
   "metadata": {
    "collapsed": false,
    "scrolled": false
   },
   "outputs": [],
   "source": [
    "rell"
   ]
  },
  {
   "cell_type": "code",
   "execution_count": null,
   "metadata": {
    "collapsed": false
   },
   "outputs": [],
   "source": [
    "# Correlation matrix\n",
    "corr = lend.corr()\n",
    "corr"
   ]
  },
  {
   "cell_type": "code",
   "execution_count": null,
   "metadata": {
    "collapsed": false
   },
   "outputs": [],
   "source": [
    "sns.lmplot('open_acc_6m', 'inq_last_12m', data=lend, fit_reg=True,palette=\"Set1\");"
   ]
  },
  {
   "cell_type": "code",
   "execution_count": null,
   "metadata": {
    "collapsed": false
   },
   "outputs": [],
   "source": [
    "sns.lmplot('all_util', 'il_util', data=lend, fit_reg=True, palette=\"Set2\");"
   ]
  },
  {
   "cell_type": "code",
   "execution_count": null,
   "metadata": {
    "collapsed": false
   },
   "outputs": [],
   "source": [
    "lend.hist(column=['dti','emp_length','grade','loan_amnt','mths_since_last_delinq',\n",
    "                  'open_acc','revol_util','total_acc','pub_rec','total_rev_hi_lim'],figsize = (12,8));"
   ]
  },
  {
   "cell_type": "code",
   "execution_count": null,
   "metadata": {
    "collapsed": false
   },
   "outputs": [],
   "source": [
    "# Correlation matrix heatmap of columns\n",
    "sns.set(style=\"white\")\n",
    "\n",
    "mask = np.zeros_like(corr, dtype=np.bool)\n",
    "mask[np.triu_indices_from(mask)] = True\n",
    "\n",
    "f, ax = plt.subplots(figsize=(7, 7))\n",
    "\n",
    "cmap = sns.diverging_palette(220, 10, as_cmap=True)\n",
    "\n",
    "sns.heatmap(corr, mask=mask, cmap=cmap, vmax=1,\n",
    "            square=True, xticklabels=2, yticklabels=2,\n",
    "            linewidths=.5, cbar_kws={\"shrink\": .5}, ax=ax);"
   ]
  },
  {
   "cell_type": "code",
   "execution_count": null,
   "metadata": {
    "collapsed": false
   },
   "outputs": [],
   "source": [
    "# Covariance matrix heatmap of columns\n",
    "cov = lend.cov()\n",
    "sns.set(style=\"white\")\n",
    "\n",
    "# Generate a mask for the upper triangle\n",
    "mask = np.zeros_like(cov, dtype=np.bool)\n",
    "mask[np.triu_indices_from(mask)] = True\n",
    "\n",
    "f, ax = plt.subplots(figsize=(7, 7))\n",
    "\n",
    "cmap = sns.diverging_palette(220, 10, as_cmap=True)\n",
    "\n",
    "sns.heatmap(cov, mask=mask, cmap=cmap, vmax=1,\n",
    "            square=True, xticklabels=2, yticklabels=2,\n",
    "            linewidths=.5, cbar_kws={\"shrink\": .5}, ax=ax);"
   ]
  },
  {
   "cell_type": "markdown",
   "metadata": {
    "collapsed": true
   },
   "source": [
    "## Applying the Learning Models"
   ]
  },
  {
   "cell_type": "markdown",
   "metadata": {},
   "source": [
    "### Logistic Regression Model"
   ]
  },
  {
   "cell_type": "code",
   "execution_count": null,
   "metadata": {
    "collapsed": false
   },
   "outputs": [],
   "source": [
    "'loan_amnt',                   \n",
    "'emp_length',                     \n",
    "'annual_inc',                     \n",
    "'dti',                  \n",
    "'delinq_2yrs',               \n",
    "'inq_last_6mths',       \n",
    "'mths_since_last_delinq',       \n",
    "'mths_since_last_record',        \n",
    "'open_acc',                      \n",
    "'pub_rec',                    \n",
    "'revol_bal',                   \n",
    "'revol_util',                   \n",
    "'total_acc',  \n",
    "'mths_since_last_major_derog',    \n",
    "'acc_now_delinq',                 \n",
    "'tot_cur_bal',                  \n",
    "'open_acc_6m',                  \n",
    "'open_il_6m',                  \n",
    "'open_il_12m',                  \n",
    "'open_il_24m',           \n",
    "'mths_since_rcnt_il',             \n",
    "'total_bal_il',                   \n",
    "'il_util',                  \n",
    "'open_rv_12m',                  \n",
    "'open_rv_24m',                  \n",
    "'max_bal_bc',                    \n",
    "'all_util',             \n",
    "'total_rev_hi_lim',               \n",
    "'inq_fi',                  \n",
    "'total_cu_tl',                 \n",
    "'inq_last_12m',                   \n",
    "'grade_ord',                  \n",
    "'home_MORTGAGE',                    \n",
    "'home_OWN',                       \n",
    "'home_RENT'"
   ]
  },
  {
   "cell_type": "code",
   "execution_count": 309,
   "metadata": {
    "collapsed": false
   },
   "outputs": [
    {
     "data": {
      "text/plain": [
       "Index([u'loan_amnt', u'emp_length', u'annual_inc', u'dti', u'delinq_2yrs',\n",
       "       u'inq_last_6mths', u'mths_since_last_delinq', u'mths_since_last_record',\n",
       "       u'open_acc', u'pub_rec', u'revol_bal', u'revol_util', u'total_acc',\n",
       "       u'mths_since_last_major_derog', u'acc_now_delinq', u'tot_cur_bal',\n",
       "       u'total_rev_hi_lim', u'grade_ord', u'home_MORTGAGE', u'home_OWN',\n",
       "       u'home_RENT', u'status_group'],\n",
       "      dtype='object')"
      ]
     },
     "execution_count": 309,
     "metadata": {},
     "output_type": "execute_result"
    }
   ],
   "source": [
    "lend.columns"
   ]
  },
  {
   "cell_type": "code",
   "execution_count": 356,
   "metadata": {
    "collapsed": false
   },
   "outputs": [],
   "source": [
    "# assigning the independent and dependent variables. \n",
    "\n",
    "features = [ u'annual_inc', u'dti', u'delinq_2yrs',\n",
    "       u'open_acc', u'pub_rec', u'revol_bal', u'revol_util', u'total_acc',\n",
    "     u'acc_now_delinq', u'tot_cur_bal',\n",
    "       u'total_rev_hi_lim', u'grade_ord']\n",
    "X = lend[features]\n",
    "y = lend.status_group"
   ]
  },
  {
   "cell_type": "code",
   "execution_count": 357,
   "metadata": {
    "collapsed": false
   },
   "outputs": [],
   "source": [
    "# Split data into train/test sets\n",
    "from sklearn.model_selection import train_test_split\n",
    "\n",
    "X_train, X_test, y_train, y_test = train_test_split(X, y, test_size=0.35)"
   ]
  },
  {
   "cell_type": "code",
   "execution_count": 312,
   "metadata": {
    "collapsed": false
   },
   "outputs": [],
   "source": [
    "from sklearn.preprocessing import StandardScaler\n",
    "\n",
    "scale = StandardScaler()\n",
    "# transform our training features\n",
    "X_train_scale = scale.fit_transform(X_train)\n",
    "\n",
    "# transform the testing features in the same way\n",
    "X_test_scale = scale.transform(X_test)"
   ]
  },
  {
   "cell_type": "code",
   "execution_count": 404,
   "metadata": {
    "collapsed": false
   },
   "outputs": [],
   "source": [
    "# Calling the logistic regression model function\n",
    "from sklearn.linear_model import LogisticRegression\n",
    "\n",
    "logreg = LogisticRegression(penalty='l1', C=20)"
   ]
  },
  {
   "cell_type": "code",
   "execution_count": 405,
   "metadata": {
    "collapsed": false
   },
   "outputs": [
    {
     "data": {
      "text/plain": [
       "LogisticRegression(C=20, class_weight=None, dual=False, fit_intercept=True,\n",
       "          intercept_scaling=1, max_iter=100, multi_class='ovr', n_jobs=1,\n",
       "          penalty='l1', random_state=None, solver='liblinear', tol=0.0001,\n",
       "          verbose=0, warm_start=False)"
      ]
     },
     "execution_count": 405,
     "metadata": {},
     "output_type": "execute_result"
    }
   ],
   "source": [
    "# Fitting the data to the logistic regression model\n",
    "logreg.fit(X_train, y_train)"
   ]
  },
  {
   "cell_type": "code",
   "execution_count": 406,
   "metadata": {
    "collapsed": false
   },
   "outputs": [
    {
     "data": {
      "text/html": [
       "<div>\n",
       "<table border=\"1\" class=\"dataframe\">\n",
       "  <thead>\n",
       "    <tr style=\"text-align: right;\">\n",
       "      <th></th>\n",
       "      <th>coefficients</th>\n",
       "      <th>features</th>\n",
       "    </tr>\n",
       "  </thead>\n",
       "  <tbody>\n",
       "    <tr>\n",
       "      <th>0</th>\n",
       "      <td>-1.321597e-06</td>\n",
       "      <td>annual_inc</td>\n",
       "    </tr>\n",
       "    <tr>\n",
       "      <th>1</th>\n",
       "      <td>3.146292e-02</td>\n",
       "      <td>dti</td>\n",
       "    </tr>\n",
       "    <tr>\n",
       "      <th>2</th>\n",
       "      <td>1.225632e-06</td>\n",
       "      <td>revol_bal</td>\n",
       "    </tr>\n",
       "    <tr>\n",
       "      <th>3</th>\n",
       "      <td>2.508056e-03</td>\n",
       "      <td>revol_util</td>\n",
       "    </tr>\n",
       "    <tr>\n",
       "      <th>4</th>\n",
       "      <td>-9.111629e-07</td>\n",
       "      <td>tot_cur_bal</td>\n",
       "    </tr>\n",
       "    <tr>\n",
       "      <th>5</th>\n",
       "      <td>-1.397216e-06</td>\n",
       "      <td>total_rev_hi_lim</td>\n",
       "    </tr>\n",
       "    <tr>\n",
       "      <th>6</th>\n",
       "      <td>-4.006468e-01</td>\n",
       "      <td>grade_ord</td>\n",
       "    </tr>\n",
       "  </tbody>\n",
       "</table>\n",
       "</div>"
      ],
      "text/plain": [
       "   coefficients          features\n",
       "0 -1.321597e-06        annual_inc\n",
       "1  3.146292e-02               dti\n",
       "2  1.225632e-06         revol_bal\n",
       "3  2.508056e-03        revol_util\n",
       "4 -9.111629e-07       tot_cur_bal\n",
       "5 -1.397216e-06  total_rev_hi_lim\n",
       "6 -4.006468e-01         grade_ord"
      ]
     },
     "execution_count": 406,
     "metadata": {},
     "output_type": "execute_result"
    }
   ],
   "source": [
    "# features and corresponding coefficients\n",
    "coef = pd.DataFrame({'coefficients': logreg.coef_[0],'features': X.columns,})\n",
    "coef"
   ]
  },
  {
   "cell_type": "code",
   "execution_count": 407,
   "metadata": {
    "collapsed": false
   },
   "outputs": [
    {
     "data": {
      "text/plain": [
       "1    3.146292e-02\n",
       "3    2.508056e-03\n",
       "2    1.225632e-06\n",
       "4   -9.111629e-07\n",
       "0   -1.321597e-06\n",
       "5   -1.397216e-06\n",
       "6   -4.006468e-01\n",
       "Name: coefficients, dtype: float64"
      ]
     },
     "execution_count": 407,
     "metadata": {},
     "output_type": "execute_result"
    }
   ],
   "source": [
    "coef.coefficients.sort_values(ascending=False)"
   ]
  },
  {
   "cell_type": "code",
   "execution_count": 408,
   "metadata": {
    "collapsed": false
   },
   "outputs": [],
   "source": [
    "# Make accuracy predictions on test set\n",
    "y_pred_class = logreg.predict(X_test)"
   ]
  },
  {
   "cell_type": "code",
   "execution_count": 318,
   "metadata": {
    "collapsed": false
   },
   "outputs": [],
   "source": [
    "# The accuracy or predicted class divided by the test class\n",
    "#from sklearn import metrics\n",
    "\n",
    "#print metrics.accuracy_score(y_test, y_pred_class)"
   ]
  },
  {
   "cell_type": "code",
   "execution_count": 416,
   "metadata": {
    "collapsed": false
   },
   "outputs": [
    {
     "name": "stdout",
     "output_type": "stream",
     "text": [
      "CV Accuracy [ 0.76250802  0.75689606  0.77211366  0.76006797  0.76144173], Average Accuracy 0.762605490168\n"
     ]
    }
   ],
   "source": [
    "from sklearn.model_selection import cross_val_score\n",
    "\n",
    "scores = cross_val_score(logreg, X, y, scoring='accuracy', cv=5)\n",
    "print('CV Accuracy {}, Average Accuracy {}'.format(scores, scores.mean()))"
   ]
  },
  {
   "cell_type": "code",
   "execution_count": 409,
   "metadata": {
    "collapsed": false
   },
   "outputs": [
    {
     "name": "stdout",
     "output_type": "stream",
     "text": [
      "Confusion matrix:\n",
      "[[49247  1332]\n",
      " [14221  1407]]\n"
     ]
    }
   ],
   "source": [
    "from sklearn.metrics import confusion_matrix\n",
    "\n",
    "confusion = confusion_matrix(y_test, y_pred_class)\n",
    "print(\"Confusion matrix:\\n{}\".format(confusion))"
   ]
  },
  {
   "cell_type": "markdown",
   "metadata": {},
   "source": [
    "* TP: 173 = we predicted yes they are defaults (will perform bad), and they were actual defaults (performed bad).\n",
    "* TN: 49,977 = we predicted no they're not defaults (will perform good), and they were not defaults (performed good).\n",
    "* FP: 196 = we predicted yes they are defaults (will perform bad), but they were not actual defaults (performed good) (Type I error).\n",
    "* FN: 15,920 = we predicted no they're not defaults (will perform good), and they were defaults (they performed bad) (Type II error).\n",
    "\n",
    "**Specificity**: When it's actually not a default, how often does it predict a non-default?\n",
    "(fraction of loans that were actually good, but predicted as bad loans)\n",
    "**Recall or Sensitivity**: When it's actually a default, how often does it predict a default?\n",
    "\n",
    "**Precision**: When it predicts a default, how often is it correct?\n",
    "\n",
    "**F1 Score** = 2*((precision * sensitivity)/(precision + sensitivity))"
   ]
  },
  {
   "cell_type": "code",
   "execution_count": 410,
   "metadata": {
    "collapsed": false
   },
   "outputs": [
    {
     "name": "stdout",
     "output_type": "stream",
     "text": [
      "0.0900307141029\n"
     ]
    }
   ],
   "source": [
    "from sklearn.metrics import recall_score\n",
    "# Sensitivity or Recall (we can idenfity most of the defaults out there) (how good we are about identifying them)\n",
    "print(recall_score(y_test, y_pred_class))"
   ]
  },
  {
   "cell_type": "code",
   "execution_count": 411,
   "metadata": {
    "collapsed": false
   },
   "outputs": [
    {
     "name": "stdout",
     "output_type": "stream",
     "text": [
      "0.513691128149\n"
     ]
    }
   ],
   "source": [
    "from sklearn.metrics import precision_score\n",
    "# Precision (how often we're usually right about identifying the defaults)\n",
    "print(precision_score(y_test, y_pred_class))"
   ]
  },
  {
   "cell_type": "code",
   "execution_count": 412,
   "metadata": {
    "collapsed": false
   },
   "outputs": [
    {
     "name": "stdout",
     "output_type": "stream",
     "text": [
      "0.153209560625\n"
     ]
    }
   ],
   "source": [
    "from sklearn.metrics import f1_score\n",
    "# F1 Score\n",
    "print(f1_score(y_test, y_pred_class))"
   ]
  },
  {
   "cell_type": "code",
   "execution_count": 413,
   "metadata": {
    "collapsed": false
   },
   "outputs": [
    {
     "name": "stdout",
     "output_type": "stream",
     "text": [
      "             precision    recall  f1-score   support\n",
      "\n",
      "non-default       0.78      0.97      0.86     50579\n",
      "    default       0.51      0.09      0.15     15628\n",
      "\n",
      "avg / total       0.71      0.77      0.70     66207\n",
      "\n"
     ]
    }
   ],
   "source": [
    "from sklearn.metrics import classification_report\n",
    "\n",
    "print(classification_report(y_test, y_pred_class, target_names=[\"non-default\", \"default\"]))"
   ]
  },
  {
   "cell_type": "code",
   "execution_count": 414,
   "metadata": {
    "collapsed": false
   },
   "outputs": [
    {
     "name": "stdout",
     "output_type": "stream",
     "text": [
      "True: [0 0 0 0 0 0 0 0 0 0 0 0 1 0 0 0 1 0 0 1 0 0 0 0 0 0 0 0 0 1 0 0 0 0 0 0 0]\n",
      "Pred: [0 0 0 0 0 0 0 0 0 0 0 0 0 1 0 0 0 0 0 0 0 0 0 0 0 0 0 1 0 0 0 0 0 0 0 0 0]\n"
     ]
    }
   ],
   "source": [
    "# print the first 25 true and predicted responses\n",
    "from __future__ import print_function\n",
    "print('True:', y_test.values[0:37])\n",
    "print('Pred:', y_pred_class[0:37])"
   ]
  },
  {
   "cell_type": "code",
   "execution_count": 415,
   "metadata": {
    "collapsed": false
   },
   "outputs": [
    {
     "name": "stdout",
     "output_type": "stream",
     "text": [
      "AUC for Logistic Regression: 0.685\n"
     ]
    }
   ],
   "source": [
    "# IMPORTANT: first argument is true values, second argument is predicted probabilities\n",
    "from sklearn.metrics import roc_auc_score\n",
    "logreg_auc = roc_auc_score(y_test, logreg.predict_proba(X_test)[:, 1])\n",
    "print(\"AUC for Logistic Regression: {:.3f}\".format(logreg_auc))"
   ]
  },
  {
   "cell_type": "code",
   "execution_count": 370,
   "metadata": {
    "collapsed": false,
    "scrolled": false
   },
   "outputs": [
    {
     "data": {
      "image/png": "[encoded data removed]",
      "text/plain": [
       "<matplotlib.figure.Figure at 0x1152764d0>"
      ]
     },
     "metadata": {},
     "output_type": "display_data"
    }
   ],
   "source": [
    "from sklearn.metrics import roc_curve\n",
    "fpr, tpr, thresholds = roc_curve(y_test, logreg.predict_proba(X_test)[:, 1])\n",
    "\n",
    "plt.plot(fpr, tpr, label='ROC Curve (area = %0.2f)' % logreg_auc)\n",
    "plt.plot([0, 1], [0, 1], 'k--')\n",
    "plt.xlim([0.0, 1.0])\n",
    "plt.ylim([0.0, 1.05])\n",
    "plt.xlabel(\"FPR\")\n",
    "plt.ylabel(\"TPR (recall)\")\n",
    "plt.title('ROC Curve')\n",
    "plt.legend(loc=4)\n",
    "plt.show()"
   ]
  },
  {
   "cell_type": "markdown",
   "metadata": {
    "collapsed": true
   },
   "source": [
    "### Random Forest Model"
   ]
  },
  {
   "cell_type": "code",
   "execution_count": null,
   "metadata": {
    "collapsed": true
   },
   "outputs": [],
   "source": [
    "5\ttotal_acc\t0.098052\n",
    "2\topen_acc\t0.077884\n",
    "11\tgrade_ord\t0.070905\n",
    "7\thome_RENT\t0.007890\n",
    "8\thome_MORTGAGE\t0.007650\n",
    "9\thome_OWN"
   ]
  },
  {
   "cell_type": "code",
   "execution_count": 371,
   "metadata": {
    "collapsed": false
   },
   "outputs": [],
   "source": [
    "# assigning the independent and dependent variables. \n",
    "\n",
    "features = ['annual_inc', u'dti', u'revol_bal', u'revol_util',\n",
    "    'tot_cur_bal',\n",
    "       u'total_rev_hi_lim', u'grade_ord']\n",
    "X = lend[features]\n",
    "y = lend.status_group"
   ]
  },
  {
   "cell_type": "code",
   "execution_count": 372,
   "metadata": {
    "collapsed": true
   },
   "outputs": [],
   "source": [
    "X_train, X_test, y_train, y_test = train_test_split(X, y)"
   ]
  },
  {
   "cell_type": "code",
   "execution_count": 373,
   "metadata": {
    "collapsed": false
   },
   "outputs": [
    {
     "data": {
      "text/plain": [
       "RandomForestClassifier(bootstrap=True, class_weight=None, criterion='gini',\n",
       "            max_depth=None, max_features='sqrt', max_leaf_nodes=None,\n",
       "            min_impurity_split=1e-07, min_samples_leaf=1,\n",
       "            min_samples_split=2, min_weight_fraction_leaf=0.0,\n",
       "            n_estimators=150, n_jobs=1, oob_score=False, random_state=None,\n",
       "            verbose=0, warm_start=False)"
      ]
     },
     "execution_count": 373,
     "metadata": {},
     "output_type": "execute_result"
    }
   ],
   "source": [
    "from sklearn.ensemble import RandomForestClassifier\n",
    "    \n",
    "rf = RandomForestClassifier(n_estimators = 150, max_features='sqrt')\n",
    "    \n",
    "rf.fit(X_train, y_train)"
   ]
  },
  {
   "cell_type": "code",
   "execution_count": 374,
   "metadata": {
    "collapsed": false,
    "scrolled": false
   },
   "outputs": [
    {
     "data": {
      "text/html": [
       "<div>\n",
       "<table border=\"1\" class=\"dataframe\">\n",
       "  <thead>\n",
       "    <tr style=\"text-align: right;\">\n",
       "      <th></th>\n",
       "      <th>Features</th>\n",
       "      <th>Importance Score</th>\n",
       "    </tr>\n",
       "  </thead>\n",
       "  <tbody>\n",
       "    <tr>\n",
       "      <th>1</th>\n",
       "      <td>dti</td>\n",
       "      <td>0.185348</td>\n",
       "    </tr>\n",
       "    <tr>\n",
       "      <th>2</th>\n",
       "      <td>revol_bal</td>\n",
       "      <td>0.170536</td>\n",
       "    </tr>\n",
       "    <tr>\n",
       "      <th>3</th>\n",
       "      <td>revol_util</td>\n",
       "      <td>0.166758</td>\n",
       "    </tr>\n",
       "    <tr>\n",
       "      <th>0</th>\n",
       "      <td>annual_inc</td>\n",
       "      <td>0.142573</td>\n",
       "    </tr>\n",
       "    <tr>\n",
       "      <th>4</th>\n",
       "      <td>tot_cur_bal</td>\n",
       "      <td>0.140594</td>\n",
       "    </tr>\n",
       "    <tr>\n",
       "      <th>5</th>\n",
       "      <td>total_rev_hi_lim</td>\n",
       "      <td>0.123904</td>\n",
       "    </tr>\n",
       "    <tr>\n",
       "      <th>6</th>\n",
       "      <td>grade_ord</td>\n",
       "      <td>0.070287</td>\n",
       "    </tr>\n",
       "  </tbody>\n",
       "</table>\n",
       "</div>"
      ],
      "text/plain": [
       "           Features  Importance Score\n",
       "1               dti          0.185348\n",
       "2         revol_bal          0.170536\n",
       "3        revol_util          0.166758\n",
       "0        annual_inc          0.142573\n",
       "4       tot_cur_bal          0.140594\n",
       "5  total_rev_hi_lim          0.123904\n",
       "6         grade_ord          0.070287"
      ]
     },
     "execution_count": 374,
     "metadata": {},
     "output_type": "execute_result"
    }
   ],
   "source": [
    "features = X.columns\n",
    "feature_importances = rf.feature_importances_\n",
    "\n",
    "features_df = pd.DataFrame({'Features': features, 'Importance Score': feature_importances})\n",
    "features_df.sort_values('Importance Score', inplace=True, ascending=False)\n",
    "\n",
    "features_df"
   ]
  },
  {
   "cell_type": "code",
   "execution_count": 375,
   "metadata": {
    "collapsed": true
   },
   "outputs": [],
   "source": [
    "y_pred_rf_class = rf.predict(X_test)"
   ]
  },
  {
   "cell_type": "code",
   "execution_count": null,
   "metadata": {
    "collapsed": false,
    "scrolled": false
   },
   "outputs": [],
   "source": [
    "#from sklearn.model_selection import cross_val_score\n",
    "#scores = cross_val_score(rf, X, y, scoring='accuracy')\n",
    "#print('CV Accuracy {}, Average Accuracy {}'.format(scores, scores.mean()))\n",
    "\n",
    "#for n_trees in range(1, 100, 25):\n",
    "    #model = RandomForestClassifier(n_estimators = n_trees)\n",
    "    #scores = cross_val_score(model, X, y, scoring='accuracy')\n",
    "    #print('n trees: {}, CV accuracy {}, Average accuracy {}'.format(n_trees, scores, scores.mean()))"
   ]
  },
  {
   "cell_type": "code",
   "execution_count": 376,
   "metadata": {
    "collapsed": false
   },
   "outputs": [
    {
     "name": "stdout",
     "output_type": "stream",
     "text": [
      "Confusion matrix:\n",
      "[[48203  2376]\n",
      " [13666  1962]]\n"
     ]
    }
   ],
   "source": [
    "confusion = confusion_matrix(y_test, y_pred_rf_class)\n",
    "print(\"Confusion matrix:\\n{}\".format(confusion))"
   ]
  },
  {
   "cell_type": "code",
   "execution_count": 377,
   "metadata": {
    "collapsed": false
   },
   "outputs": [
    {
     "name": "stdout",
     "output_type": "stream",
     "text": [
      "             precision    recall  f1-score   support\n",
      "\n",
      "non-default       0.78      0.95      0.86     50579\n",
      "    default       0.45      0.13      0.20     15628\n",
      "\n",
      "avg / total       0.70      0.76      0.70     66207\n",
      "\n"
     ]
    }
   ],
   "source": [
    "print(classification_report(y_test, y_pred_rf_class, target_names=[\"non-default\", \"default\"]))"
   ]
  },
  {
   "cell_type": "code",
   "execution_count": 378,
   "metadata": {
    "collapsed": false
   },
   "outputs": [
    {
     "name": "stdout",
     "output_type": "stream",
     "text": [
      "AUC for Random Forests: 0.665\n"
     ]
    }
   ],
   "source": [
    "from sklearn.metrics import roc_auc_score\n",
    "rf_auc = roc_auc_score(y_test, rf.predict_proba(X_test)[:,1])\n",
    "print(\"AUC for Random Forests: {:.3f}\".format(rf_auc))"
   ]
  },
  {
   "cell_type": "code",
   "execution_count": 379,
   "metadata": {
    "collapsed": false
   },
   "outputs": [
    {
     "data": {
      "image/png": "[encoded data removed]",
      "text/plain": [
       "<matplotlib.figure.Figure at 0x115196a90>"
      ]
     },
     "metadata": {},
     "output_type": "display_data"
    }
   ],
   "source": [
    "from sklearn.metrics import roc_curve\n",
    "fpr, tpr, thresholds = roc_curve(y_test, rf.predict_proba(X_test)[:,1])\n",
    "\n",
    "plt.plot(fpr, tpr, label='ROC Curve (area = %0.2f)' % rf_auc)\n",
    "plt.plot([0, 1], [0, 1], 'k--')\n",
    "plt.xlim([0.0, 1.0])\n",
    "plt.ylim([0.0, 1.05])\n",
    "plt.xlabel(\"FPR\")\n",
    "plt.ylabel(\"TPR (recall)\")\n",
    "plt.title('ROC Curve')\n",
    "plt.legend(loc=4)\n",
    "plt.show()"
   ]
  },
  {
   "cell_type": "code",
   "execution_count": null,
   "metadata": {
    "collapsed": true
   },
   "outputs": [],
   "source": []
  },
  {
   "cell_type": "code",
   "execution_count": 139,
   "metadata": {
    "collapsed": false
   },
   "outputs": [
    {
     "data": {
      "text/plain": [
       "(264825, 22)"
      ]
     },
     "execution_count": 139,
     "metadata": {},
     "output_type": "execute_result"
    }
   ],
   "source": [
    "lend.shape"
   ]
  },
  {
   "cell_type": "code",
   "execution_count": 140,
   "metadata": {
    "collapsed": false
   },
   "outputs": [
    {
     "data": {
      "text/plain": [
       "(198618, 9)"
      ]
     },
     "execution_count": 140,
     "metadata": {},
     "output_type": "execute_result"
    }
   ],
   "source": [
    "X_train.shape"
   ]
  },
  {
   "cell_type": "code",
   "execution_count": 141,
   "metadata": {
    "collapsed": false
   },
   "outputs": [
    {
     "data": {
      "text/plain": [
       "(66207, 9)"
      ]
     },
     "execution_count": 141,
     "metadata": {},
     "output_type": "execute_result"
    }
   ],
   "source": [
    "X_test.shape"
   ]
  },
  {
   "cell_type": "code",
   "execution_count": 154,
   "metadata": {
    "collapsed": false
   },
   "outputs": [
    {
     "data": {
      "text/html": [
       "<div>\n",
       "<table border=\"1\" class=\"dataframe\">\n",
       "  <thead>\n",
       "    <tr style=\"text-align: right;\">\n",
       "      <th></th>\n",
       "      <th>annual_inc</th>\n",
       "      <th>dti</th>\n",
       "      <th>open_acc</th>\n",
       "      <th>revol_bal</th>\n",
       "      <th>revol_util</th>\n",
       "      <th>total_acc</th>\n",
       "      <th>tot_cur_bal</th>\n",
       "      <th>home_RENT</th>\n",
       "      <th>home_MORTGAGE</th>\n",
       "      <th>home_OWN</th>\n",
       "      <th>total_rev_hi_lim</th>\n",
       "      <th>grade_ord</th>\n",
       "    </tr>\n",
       "  </thead>\n",
       "  <tbody>\n",
       "    <tr>\n",
       "      <th>741760</th>\n",
       "      <td>60000.00</td>\n",
       "      <td>15.10</td>\n",
       "      <td>23.0</td>\n",
       "      <td>15742.0</td>\n",
       "      <td>66.4</td>\n",
       "      <td>66.0</td>\n",
       "      <td>28418.000000</td>\n",
       "      <td>1</td>\n",
       "      <td>0</td>\n",
       "      <td>0</td>\n",
       "      <td>23800.000000</td>\n",
       "      <td>5</td>\n",
       "    </tr>\n",
       "    <tr>\n",
       "      <th>368818</th>\n",
       "      <td>65000.00</td>\n",
       "      <td>19.57</td>\n",
       "      <td>21.0</td>\n",
       "      <td>14434.0</td>\n",
       "      <td>26.4</td>\n",
       "      <td>50.0</td>\n",
       "      <td>36249.000000</td>\n",
       "      <td>0</td>\n",
       "      <td>0</td>\n",
       "      <td>1</td>\n",
       "      <td>54600.000000</td>\n",
       "      <td>2</td>\n",
       "    </tr>\n",
       "    <tr>\n",
       "      <th>850419</th>\n",
       "      <td>15000.00</td>\n",
       "      <td>34.16</td>\n",
       "      <td>7.0</td>\n",
       "      <td>3601.0</td>\n",
       "      <td>27.3</td>\n",
       "      <td>9.0</td>\n",
       "      <td>11320.000000</td>\n",
       "      <td>1</td>\n",
       "      <td>0</td>\n",
       "      <td>0</td>\n",
       "      <td>13200.000000</td>\n",
       "      <td>5</td>\n",
       "    </tr>\n",
       "    <tr>\n",
       "      <th>387043</th>\n",
       "      <td>57000.00</td>\n",
       "      <td>21.71</td>\n",
       "      <td>14.0</td>\n",
       "      <td>12541.0</td>\n",
       "      <td>51.0</td>\n",
       "      <td>17.0</td>\n",
       "      <td>132669.000000</td>\n",
       "      <td>0</td>\n",
       "      <td>0</td>\n",
       "      <td>1</td>\n",
       "      <td>24600.000000</td>\n",
       "      <td>2</td>\n",
       "    </tr>\n",
       "    <tr>\n",
       "      <th>308058</th>\n",
       "      <td>50000.00</td>\n",
       "      <td>2.50</td>\n",
       "      <td>4.0</td>\n",
       "      <td>3947.0</td>\n",
       "      <td>62.7</td>\n",
       "      <td>6.0</td>\n",
       "      <td>262972.000000</td>\n",
       "      <td>0</td>\n",
       "      <td>1</td>\n",
       "      <td>0</td>\n",
       "      <td>6300.000000</td>\n",
       "      <td>1</td>\n",
       "    </tr>\n",
       "    <tr>\n",
       "      <th>265842</th>\n",
       "      <td>38000.00</td>\n",
       "      <td>19.60</td>\n",
       "      <td>13.0</td>\n",
       "      <td>3420.0</td>\n",
       "      <td>17.2</td>\n",
       "      <td>37.0</td>\n",
       "      <td>18151.000000</td>\n",
       "      <td>1</td>\n",
       "      <td>0</td>\n",
       "      <td>0</td>\n",
       "      <td>19900.000000</td>\n",
       "      <td>2</td>\n",
       "    </tr>\n",
       "    <tr>\n",
       "      <th>459329</th>\n",
       "      <td>122000.00</td>\n",
       "      <td>15.58</td>\n",
       "      <td>18.0</td>\n",
       "      <td>6862.0</td>\n",
       "      <td>23.9</td>\n",
       "      <td>33.0</td>\n",
       "      <td>291099.000000</td>\n",
       "      <td>0</td>\n",
       "      <td>1</td>\n",
       "      <td>0</td>\n",
       "      <td>28700.000000</td>\n",
       "      <td>1</td>\n",
       "    </tr>\n",
       "    <tr>\n",
       "      <th>106651</th>\n",
       "      <td>42000.00</td>\n",
       "      <td>19.86</td>\n",
       "      <td>9.0</td>\n",
       "      <td>6448.0</td>\n",
       "      <td>37.9</td>\n",
       "      <td>27.0</td>\n",
       "      <td>31326.000000</td>\n",
       "      <td>1</td>\n",
       "      <td>0</td>\n",
       "      <td>0</td>\n",
       "      <td>17000.000000</td>\n",
       "      <td>2</td>\n",
       "    </tr>\n",
       "    <tr>\n",
       "      <th>223963</th>\n",
       "      <td>26046.97</td>\n",
       "      <td>11.66</td>\n",
       "      <td>4.0</td>\n",
       "      <td>9036.0</td>\n",
       "      <td>80.7</td>\n",
       "      <td>6.0</td>\n",
       "      <td>138840.067835</td>\n",
       "      <td>1</td>\n",
       "      <td>0</td>\n",
       "      <td>0</td>\n",
       "      <td>29557.496541</td>\n",
       "      <td>1</td>\n",
       "    </tr>\n",
       "    <tr>\n",
       "      <th>828108</th>\n",
       "      <td>50000.00</td>\n",
       "      <td>30.10</td>\n",
       "      <td>19.0</td>\n",
       "      <td>28248.0</td>\n",
       "      <td>39.6</td>\n",
       "      <td>37.0</td>\n",
       "      <td>70974.000000</td>\n",
       "      <td>0</td>\n",
       "      <td>1</td>\n",
       "      <td>0</td>\n",
       "      <td>71300.000000</td>\n",
       "      <td>3</td>\n",
       "    </tr>\n",
       "    <tr>\n",
       "      <th>120854</th>\n",
       "      <td>31200.00</td>\n",
       "      <td>22.31</td>\n",
       "      <td>10.0</td>\n",
       "      <td>4714.0</td>\n",
       "      <td>45.8</td>\n",
       "      <td>12.0</td>\n",
       "      <td>17939.000000</td>\n",
       "      <td>1</td>\n",
       "      <td>0</td>\n",
       "      <td>0</td>\n",
       "      <td>10300.000000</td>\n",
       "      <td>3</td>\n",
       "    </tr>\n",
       "    <tr>\n",
       "      <th>699357</th>\n",
       "      <td>120000.00</td>\n",
       "      <td>18.50</td>\n",
       "      <td>9.0</td>\n",
       "      <td>37957.0</td>\n",
       "      <td>95.6</td>\n",
       "      <td>15.0</td>\n",
       "      <td>62281.000000</td>\n",
       "      <td>0</td>\n",
       "      <td>0</td>\n",
       "      <td>1</td>\n",
       "      <td>39700.000000</td>\n",
       "      <td>1</td>\n",
       "    </tr>\n",
       "    <tr>\n",
       "      <th>748122</th>\n",
       "      <td>72000.00</td>\n",
       "      <td>10.13</td>\n",
       "      <td>9.0</td>\n",
       "      <td>5315.0</td>\n",
       "      <td>27.5</td>\n",
       "      <td>35.0</td>\n",
       "      <td>32480.000000</td>\n",
       "      <td>0</td>\n",
       "      <td>0</td>\n",
       "      <td>1</td>\n",
       "      <td>19300.000000</td>\n",
       "      <td>3</td>\n",
       "    </tr>\n",
       "    <tr>\n",
       "      <th>3700</th>\n",
       "      <td>53000.00</td>\n",
       "      <td>14.29</td>\n",
       "      <td>9.0</td>\n",
       "      <td>9657.0</td>\n",
       "      <td>60.7</td>\n",
       "      <td>35.0</td>\n",
       "      <td>138840.067835</td>\n",
       "      <td>0</td>\n",
       "      <td>0</td>\n",
       "      <td>1</td>\n",
       "      <td>29557.496541</td>\n",
       "      <td>1</td>\n",
       "    </tr>\n",
       "    <tr>\n",
       "      <th>450354</th>\n",
       "      <td>47000.00</td>\n",
       "      <td>25.28</td>\n",
       "      <td>12.0</td>\n",
       "      <td>21100.0</td>\n",
       "      <td>58.4</td>\n",
       "      <td>29.0</td>\n",
       "      <td>132543.000000</td>\n",
       "      <td>0</td>\n",
       "      <td>1</td>\n",
       "      <td>0</td>\n",
       "      <td>36100.000000</td>\n",
       "      <td>1</td>\n",
       "    </tr>\n",
       "    <tr>\n",
       "      <th>364090</th>\n",
       "      <td>90000.00</td>\n",
       "      <td>7.82</td>\n",
       "      <td>9.0</td>\n",
       "      <td>19649.0</td>\n",
       "      <td>53.1</td>\n",
       "      <td>16.0</td>\n",
       "      <td>253912.000000</td>\n",
       "      <td>0</td>\n",
       "      <td>1</td>\n",
       "      <td>0</td>\n",
       "      <td>37000.000000</td>\n",
       "      <td>6</td>\n",
       "    </tr>\n",
       "    <tr>\n",
       "      <th>815159</th>\n",
       "      <td>41172.00</td>\n",
       "      <td>28.21</td>\n",
       "      <td>10.0</td>\n",
       "      <td>6821.0</td>\n",
       "      <td>40.8</td>\n",
       "      <td>28.0</td>\n",
       "      <td>80751.000000</td>\n",
       "      <td>0</td>\n",
       "      <td>1</td>\n",
       "      <td>0</td>\n",
       "      <td>16700.000000</td>\n",
       "      <td>3</td>\n",
       "    </tr>\n",
       "    <tr>\n",
       "      <th>12343</th>\n",
       "      <td>45000.00</td>\n",
       "      <td>5.23</td>\n",
       "      <td>5.0</td>\n",
       "      <td>3387.0</td>\n",
       "      <td>84.7</td>\n",
       "      <td>11.0</td>\n",
       "      <td>138840.067835</td>\n",
       "      <td>0</td>\n",
       "      <td>1</td>\n",
       "      <td>0</td>\n",
       "      <td>29557.496541</td>\n",
       "      <td>2</td>\n",
       "    </tr>\n",
       "    <tr>\n",
       "      <th>39947</th>\n",
       "      <td>100000.00</td>\n",
       "      <td>14.92</td>\n",
       "      <td>11.0</td>\n",
       "      <td>38774.0</td>\n",
       "      <td>84.5</td>\n",
       "      <td>21.0</td>\n",
       "      <td>138840.067835</td>\n",
       "      <td>0</td>\n",
       "      <td>1</td>\n",
       "      <td>0</td>\n",
       "      <td>29557.496541</td>\n",
       "      <td>4</td>\n",
       "    </tr>\n",
       "    <tr>\n",
       "      <th>55369</th>\n",
       "      <td>75000.00</td>\n",
       "      <td>22.90</td>\n",
       "      <td>11.0</td>\n",
       "      <td>9120.0</td>\n",
       "      <td>56.6</td>\n",
       "      <td>19.0</td>\n",
       "      <td>214383.000000</td>\n",
       "      <td>0</td>\n",
       "      <td>1</td>\n",
       "      <td>0</td>\n",
       "      <td>16100.000000</td>\n",
       "      <td>4</td>\n",
       "    </tr>\n",
       "    <tr>\n",
       "      <th>277870</th>\n",
       "      <td>180000.00</td>\n",
       "      <td>13.18</td>\n",
       "      <td>12.0</td>\n",
       "      <td>80544.0</td>\n",
       "      <td>68.8</td>\n",
       "      <td>39.0</td>\n",
       "      <td>334606.000000</td>\n",
       "      <td>0</td>\n",
       "      <td>1</td>\n",
       "      <td>0</td>\n",
       "      <td>101200.000000</td>\n",
       "      <td>1</td>\n",
       "    </tr>\n",
       "    <tr>\n",
       "      <th>126411</th>\n",
       "      <td>50000.00</td>\n",
       "      <td>2.50</td>\n",
       "      <td>7.0</td>\n",
       "      <td>4311.0</td>\n",
       "      <td>64.3</td>\n",
       "      <td>27.0</td>\n",
       "      <td>4311.000000</td>\n",
       "      <td>1</td>\n",
       "      <td>0</td>\n",
       "      <td>0</td>\n",
       "      <td>6700.000000</td>\n",
       "      <td>4</td>\n",
       "    </tr>\n",
       "    <tr>\n",
       "      <th>171300</th>\n",
       "      <td>204000.00</td>\n",
       "      <td>4.65</td>\n",
       "      <td>10.0</td>\n",
       "      <td>32785.0</td>\n",
       "      <td>25.4</td>\n",
       "      <td>23.0</td>\n",
       "      <td>301962.000000</td>\n",
       "      <td>0</td>\n",
       "      <td>1</td>\n",
       "      <td>0</td>\n",
       "      <td>129000.000000</td>\n",
       "      <td>1</td>\n",
       "    </tr>\n",
       "    <tr>\n",
       "      <th>219573</th>\n",
       "      <td>67000.00</td>\n",
       "      <td>10.33</td>\n",
       "      <td>8.0</td>\n",
       "      <td>26554.0</td>\n",
       "      <td>87.3</td>\n",
       "      <td>26.0</td>\n",
       "      <td>138840.067835</td>\n",
       "      <td>0</td>\n",
       "      <td>0</td>\n",
       "      <td>1</td>\n",
       "      <td>29557.496541</td>\n",
       "      <td>2</td>\n",
       "    </tr>\n",
       "    <tr>\n",
       "      <th>14247</th>\n",
       "      <td>46200.00</td>\n",
       "      <td>17.25</td>\n",
       "      <td>10.0</td>\n",
       "      <td>6520.0</td>\n",
       "      <td>60.4</td>\n",
       "      <td>17.0</td>\n",
       "      <td>138840.067835</td>\n",
       "      <td>0</td>\n",
       "      <td>0</td>\n",
       "      <td>1</td>\n",
       "      <td>29557.496541</td>\n",
       "      <td>4</td>\n",
       "    </tr>\n",
       "    <tr>\n",
       "      <th>223314</th>\n",
       "      <td>65000.00</td>\n",
       "      <td>6.26</td>\n",
       "      <td>13.0</td>\n",
       "      <td>3388.0</td>\n",
       "      <td>6.4</td>\n",
       "      <td>35.0</td>\n",
       "      <td>138840.067835</td>\n",
       "      <td>0</td>\n",
       "      <td>1</td>\n",
       "      <td>0</td>\n",
       "      <td>29557.496541</td>\n",
       "      <td>1</td>\n",
       "    </tr>\n",
       "    <tr>\n",
       "      <th>437341</th>\n",
       "      <td>75000.00</td>\n",
       "      <td>11.45</td>\n",
       "      <td>12.0</td>\n",
       "      <td>8367.0</td>\n",
       "      <td>31.1</td>\n",
       "      <td>37.0</td>\n",
       "      <td>170331.000000</td>\n",
       "      <td>0</td>\n",
       "      <td>1</td>\n",
       "      <td>0</td>\n",
       "      <td>26900.000000</td>\n",
       "      <td>4</td>\n",
       "    </tr>\n",
       "    <tr>\n",
       "      <th>455447</th>\n",
       "      <td>40000.00</td>\n",
       "      <td>26.76</td>\n",
       "      <td>12.0</td>\n",
       "      <td>16924.0</td>\n",
       "      <td>51.9</td>\n",
       "      <td>30.0</td>\n",
       "      <td>46876.000000</td>\n",
       "      <td>1</td>\n",
       "      <td>0</td>\n",
       "      <td>0</td>\n",
       "      <td>32600.000000</td>\n",
       "      <td>2</td>\n",
       "    </tr>\n",
       "    <tr>\n",
       "      <th>101155</th>\n",
       "      <td>100000.00</td>\n",
       "      <td>2.26</td>\n",
       "      <td>16.0</td>\n",
       "      <td>11863.0</td>\n",
       "      <td>7.0</td>\n",
       "      <td>29.0</td>\n",
       "      <td>11863.000000</td>\n",
       "      <td>1</td>\n",
       "      <td>0</td>\n",
       "      <td>0</td>\n",
       "      <td>262642.000000</td>\n",
       "      <td>1</td>\n",
       "    </tr>\n",
       "    <tr>\n",
       "      <th>175952</th>\n",
       "      <td>100000.00</td>\n",
       "      <td>13.03</td>\n",
       "      <td>17.0</td>\n",
       "      <td>23090.0</td>\n",
       "      <td>69.9</td>\n",
       "      <td>22.0</td>\n",
       "      <td>27716.000000</td>\n",
       "      <td>1</td>\n",
       "      <td>0</td>\n",
       "      <td>0</td>\n",
       "      <td>33025.000000</td>\n",
       "      <td>2</td>\n",
       "    </tr>\n",
       "    <tr>\n",
       "      <th>3431</th>\n",
       "      <td>100000.00</td>\n",
       "      <td>15.55</td>\n",
       "      <td>8.0</td>\n",
       "      <td>24403.0</td>\n",
       "      <td>94.6</td>\n",
       "      <td>17.0</td>\n",
       "      <td>138840.067835</td>\n",
       "      <td>1</td>\n",
       "      <td>0</td>\n",
       "      <td>0</td>\n",
       "      <td>29557.496541</td>\n",
       "      <td>3</td>\n",
       "    </tr>\n",
       "    <tr>\n",
       "      <th>450538</th>\n",
       "      <td>57000.00</td>\n",
       "      <td>22.76</td>\n",
       "      <td>12.0</td>\n",
       "      <td>19738.0</td>\n",
       "      <td>37.3</td>\n",
       "      <td>24.0</td>\n",
       "      <td>180192.000000</td>\n",
       "      <td>0</td>\n",
       "      <td>1</td>\n",
       "      <td>0</td>\n",
       "      <td>52900.000000</td>\n",
       "      <td>2</td>\n",
       "    </tr>\n",
       "    <tr>\n",
       "      <th>194195</th>\n",
       "      <td>89000.00</td>\n",
       "      <td>9.57</td>\n",
       "      <td>6.0</td>\n",
       "      <td>178.0</td>\n",
       "      <td>2.3</td>\n",
       "      <td>10.0</td>\n",
       "      <td>85617.000000</td>\n",
       "      <td>0</td>\n",
       "      <td>1</td>\n",
       "      <td>0</td>\n",
       "      <td>7800.000000</td>\n",
       "      <td>1</td>\n",
       "    </tr>\n",
       "    <tr>\n",
       "      <th>867176</th>\n",
       "      <td>141000.00</td>\n",
       "      <td>15.69</td>\n",
       "      <td>19.0</td>\n",
       "      <td>11882.0</td>\n",
       "      <td>30.8</td>\n",
       "      <td>34.0</td>\n",
       "      <td>251409.000000</td>\n",
       "      <td>0</td>\n",
       "      <td>1</td>\n",
       "      <td>0</td>\n",
       "      <td>38600.000000</td>\n",
       "      <td>2</td>\n",
       "    </tr>\n",
       "    <tr>\n",
       "      <th>518499</th>\n",
       "      <td>114800.00</td>\n",
       "      <td>25.63</td>\n",
       "      <td>11.0</td>\n",
       "      <td>16788.0</td>\n",
       "      <td>62.2</td>\n",
       "      <td>29.0</td>\n",
       "      <td>419128.000000</td>\n",
       "      <td>0</td>\n",
       "      <td>1</td>\n",
       "      <td>0</td>\n",
       "      <td>27000.000000</td>\n",
       "      <td>6</td>\n",
       "    </tr>\n",
       "    <tr>\n",
       "      <th>451171</th>\n",
       "      <td>90000.00</td>\n",
       "      <td>4.03</td>\n",
       "      <td>2.0</td>\n",
       "      <td>8758.0</td>\n",
       "      <td>46.3</td>\n",
       "      <td>11.0</td>\n",
       "      <td>8758.000000</td>\n",
       "      <td>0</td>\n",
       "      <td>1</td>\n",
       "      <td>0</td>\n",
       "      <td>18900.000000</td>\n",
       "      <td>5</td>\n",
       "    </tr>\n",
       "    <tr>\n",
       "      <th>733197</th>\n",
       "      <td>90000.00</td>\n",
       "      <td>22.73</td>\n",
       "      <td>8.0</td>\n",
       "      <td>4217.0</td>\n",
       "      <td>75.3</td>\n",
       "      <td>18.0</td>\n",
       "      <td>148541.000000</td>\n",
       "      <td>0</td>\n",
       "      <td>1</td>\n",
       "      <td>0</td>\n",
       "      <td>5600.000000</td>\n",
       "      <td>2</td>\n",
       "    </tr>\n",
       "    <tr>\n",
       "      <th>119788</th>\n",
       "      <td>130000.00</td>\n",
       "      <td>11.80</td>\n",
       "      <td>12.0</td>\n",
       "      <td>36657.0</td>\n",
       "      <td>86.0</td>\n",
       "      <td>22.0</td>\n",
       "      <td>301050.000000</td>\n",
       "      <td>0</td>\n",
       "      <td>1</td>\n",
       "      <td>0</td>\n",
       "      <td>42639.000000</td>\n",
       "      <td>2</td>\n",
       "    </tr>\n",
       "    <tr>\n",
       "      <th>749837</th>\n",
       "      <td>52305.00</td>\n",
       "      <td>30.89</td>\n",
       "      <td>15.0</td>\n",
       "      <td>12578.0</td>\n",
       "      <td>33.1</td>\n",
       "      <td>46.0</td>\n",
       "      <td>54484.000000</td>\n",
       "      <td>1</td>\n",
       "      <td>0</td>\n",
       "      <td>0</td>\n",
       "      <td>38000.000000</td>\n",
       "      <td>3</td>\n",
       "    </tr>\n",
       "    <tr>\n",
       "      <th>813757</th>\n",
       "      <td>59695.00</td>\n",
       "      <td>13.25</td>\n",
       "      <td>9.0</td>\n",
       "      <td>8490.0</td>\n",
       "      <td>43.1</td>\n",
       "      <td>24.0</td>\n",
       "      <td>124302.000000</td>\n",
       "      <td>0</td>\n",
       "      <td>1</td>\n",
       "      <td>0</td>\n",
       "      <td>19700.000000</td>\n",
       "      <td>4</td>\n",
       "    </tr>\n",
       "    <tr>\n",
       "      <th>18576</th>\n",
       "      <td>87360.00</td>\n",
       "      <td>6.36</td>\n",
       "      <td>3.0</td>\n",
       "      <td>5102.0</td>\n",
       "      <td>72.9</td>\n",
       "      <td>6.0</td>\n",
       "      <td>138840.067835</td>\n",
       "      <td>0</td>\n",
       "      <td>1</td>\n",
       "      <td>0</td>\n",
       "      <td>29557.496541</td>\n",
       "      <td>2</td>\n",
       "    </tr>\n",
       "    <tr>\n",
       "      <th>123589</th>\n",
       "      <td>70000.00</td>\n",
       "      <td>7.51</td>\n",
       "      <td>11.0</td>\n",
       "      <td>1994.0</td>\n",
       "      <td>40.7</td>\n",
       "      <td>33.0</td>\n",
       "      <td>229903.000000</td>\n",
       "      <td>0</td>\n",
       "      <td>1</td>\n",
       "      <td>0</td>\n",
       "      <td>4900.000000</td>\n",
       "      <td>4</td>\n",
       "    </tr>\n",
       "    <tr>\n",
       "      <th>228274</th>\n",
       "      <td>48200.00</td>\n",
       "      <td>21.88</td>\n",
       "      <td>7.0</td>\n",
       "      <td>18657.0</td>\n",
       "      <td>74.3</td>\n",
       "      <td>16.0</td>\n",
       "      <td>138840.067835</td>\n",
       "      <td>0</td>\n",
       "      <td>1</td>\n",
       "      <td>0</td>\n",
       "      <td>29557.496541</td>\n",
       "      <td>1</td>\n",
       "    </tr>\n",
       "    <tr>\n",
       "      <th>375236</th>\n",
       "      <td>62500.00</td>\n",
       "      <td>14.36</td>\n",
       "      <td>10.0</td>\n",
       "      <td>25430.0</td>\n",
       "      <td>49.8</td>\n",
       "      <td>30.0</td>\n",
       "      <td>228096.000000</td>\n",
       "      <td>1</td>\n",
       "      <td>0</td>\n",
       "      <td>0</td>\n",
       "      <td>51100.000000</td>\n",
       "      <td>6</td>\n",
       "    </tr>\n",
       "    <tr>\n",
       "      <th>113325</th>\n",
       "      <td>70000.00</td>\n",
       "      <td>27.94</td>\n",
       "      <td>15.0</td>\n",
       "      <td>36010.0</td>\n",
       "      <td>85.3</td>\n",
       "      <td>36.0</td>\n",
       "      <td>63548.000000</td>\n",
       "      <td>1</td>\n",
       "      <td>0</td>\n",
       "      <td>0</td>\n",
       "      <td>42200.000000</td>\n",
       "      <td>5</td>\n",
       "    </tr>\n",
       "    <tr>\n",
       "      <th>35594</th>\n",
       "      <td>50000.00</td>\n",
       "      <td>22.66</td>\n",
       "      <td>13.0</td>\n",
       "      <td>16643.0</td>\n",
       "      <td>63.8</td>\n",
       "      <td>20.0</td>\n",
       "      <td>138840.067835</td>\n",
       "      <td>0</td>\n",
       "      <td>1</td>\n",
       "      <td>0</td>\n",
       "      <td>29557.496541</td>\n",
       "      <td>3</td>\n",
       "    </tr>\n",
       "    <tr>\n",
       "      <th>169663</th>\n",
       "      <td>28000.00</td>\n",
       "      <td>24.51</td>\n",
       "      <td>9.0</td>\n",
       "      <td>18042.0</td>\n",
       "      <td>83.1</td>\n",
       "      <td>16.0</td>\n",
       "      <td>59496.000000</td>\n",
       "      <td>1</td>\n",
       "      <td>0</td>\n",
       "      <td>0</td>\n",
       "      <td>21700.000000</td>\n",
       "      <td>3</td>\n",
       "    </tr>\n",
       "    <tr>\n",
       "      <th>126168</th>\n",
       "      <td>65000.00</td>\n",
       "      <td>24.72</td>\n",
       "      <td>15.0</td>\n",
       "      <td>18636.0</td>\n",
       "      <td>63.2</td>\n",
       "      <td>23.0</td>\n",
       "      <td>322924.000000</td>\n",
       "      <td>0</td>\n",
       "      <td>1</td>\n",
       "      <td>0</td>\n",
       "      <td>29500.000000</td>\n",
       "      <td>2</td>\n",
       "    </tr>\n",
       "    <tr>\n",
       "      <th>143611</th>\n",
       "      <td>52000.00</td>\n",
       "      <td>27.58</td>\n",
       "      <td>7.0</td>\n",
       "      <td>12905.0</td>\n",
       "      <td>53.5</td>\n",
       "      <td>24.0</td>\n",
       "      <td>36490.000000</td>\n",
       "      <td>1</td>\n",
       "      <td>0</td>\n",
       "      <td>0</td>\n",
       "      <td>24100.000000</td>\n",
       "      <td>2</td>\n",
       "    </tr>\n",
       "    <tr>\n",
       "      <th>201759</th>\n",
       "      <td>40000.00</td>\n",
       "      <td>24.87</td>\n",
       "      <td>6.0</td>\n",
       "      <td>13612.0</td>\n",
       "      <td>71.3</td>\n",
       "      <td>9.0</td>\n",
       "      <td>23421.000000</td>\n",
       "      <td>1</td>\n",
       "      <td>0</td>\n",
       "      <td>0</td>\n",
       "      <td>19100.000000</td>\n",
       "      <td>5</td>\n",
       "    </tr>\n",
       "  </tbody>\n",
       "</table>\n",
       "</div>"
      ],
      "text/plain": [
       "        annual_inc    dti  open_acc  revol_bal  revol_util  total_acc  \\\n",
       "741760    60000.00  15.10      23.0    15742.0        66.4       66.0   \n",
       "368818    65000.00  19.57      21.0    14434.0        26.4       50.0   \n",
       "850419    15000.00  34.16       7.0     3601.0        27.3        9.0   \n",
       "387043    57000.00  21.71      14.0    12541.0        51.0       17.0   \n",
       "308058    50000.00   2.50       4.0     3947.0        62.7        6.0   \n",
       "265842    38000.00  19.60      13.0     3420.0        17.2       37.0   \n",
       "459329   122000.00  15.58      18.0     6862.0        23.9       33.0   \n",
       "106651    42000.00  19.86       9.0     6448.0        37.9       27.0   \n",
       "223963    26046.97  11.66       4.0     9036.0        80.7        6.0   \n",
       "828108    50000.00  30.10      19.0    28248.0        39.6       37.0   \n",
       "120854    31200.00  22.31      10.0     4714.0        45.8       12.0   \n",
       "699357   120000.00  18.50       9.0    37957.0        95.6       15.0   \n",
       "748122    72000.00  10.13       9.0     5315.0        27.5       35.0   \n",
       "3700      53000.00  14.29       9.0     9657.0        60.7       35.0   \n",
       "450354    47000.00  25.28      12.0    21100.0        58.4       29.0   \n",
       "364090    90000.00   7.82       9.0    19649.0        53.1       16.0   \n",
       "815159    41172.00  28.21      10.0     6821.0        40.8       28.0   \n",
       "12343     45000.00   5.23       5.0     3387.0        84.7       11.0   \n",
       "39947    100000.00  14.92      11.0    38774.0        84.5       21.0   \n",
       "55369     75000.00  22.90      11.0     9120.0        56.6       19.0   \n",
       "277870   180000.00  13.18      12.0    80544.0        68.8       39.0   \n",
       "126411    50000.00   2.50       7.0     4311.0        64.3       27.0   \n",
       "171300   204000.00   4.65      10.0    32785.0        25.4       23.0   \n",
       "219573    67000.00  10.33       8.0    26554.0        87.3       26.0   \n",
       "14247     46200.00  17.25      10.0     6520.0        60.4       17.0   \n",
       "223314    65000.00   6.26      13.0     3388.0         6.4       35.0   \n",
       "437341    75000.00  11.45      12.0     8367.0        31.1       37.0   \n",
       "455447    40000.00  26.76      12.0    16924.0        51.9       30.0   \n",
       "101155   100000.00   2.26      16.0    11863.0         7.0       29.0   \n",
       "175952   100000.00  13.03      17.0    23090.0        69.9       22.0   \n",
       "3431     100000.00  15.55       8.0    24403.0        94.6       17.0   \n",
       "450538    57000.00  22.76      12.0    19738.0        37.3       24.0   \n",
       "194195    89000.00   9.57       6.0      178.0         2.3       10.0   \n",
       "867176   141000.00  15.69      19.0    11882.0        30.8       34.0   \n",
       "518499   114800.00  25.63      11.0    16788.0        62.2       29.0   \n",
       "451171    90000.00   4.03       2.0     8758.0        46.3       11.0   \n",
       "733197    90000.00  22.73       8.0     4217.0        75.3       18.0   \n",
       "119788   130000.00  11.80      12.0    36657.0        86.0       22.0   \n",
       "749837    52305.00  30.89      15.0    12578.0        33.1       46.0   \n",
       "813757    59695.00  13.25       9.0     8490.0        43.1       24.0   \n",
       "18576     87360.00   6.36       3.0     5102.0        72.9        6.0   \n",
       "123589    70000.00   7.51      11.0     1994.0        40.7       33.0   \n",
       "228274    48200.00  21.88       7.0    18657.0        74.3       16.0   \n",
       "375236    62500.00  14.36      10.0    25430.0        49.8       30.0   \n",
       "113325    70000.00  27.94      15.0    36010.0        85.3       36.0   \n",
       "35594     50000.00  22.66      13.0    16643.0        63.8       20.0   \n",
       "169663    28000.00  24.51       9.0    18042.0        83.1       16.0   \n",
       "126168    65000.00  24.72      15.0    18636.0        63.2       23.0   \n",
       "143611    52000.00  27.58       7.0    12905.0        53.5       24.0   \n",
       "201759    40000.00  24.87       6.0    13612.0        71.3        9.0   \n",
       "\n",
       "          tot_cur_bal  home_RENT  home_MORTGAGE  home_OWN  total_rev_hi_lim  \\\n",
       "741760   28418.000000          1              0         0      23800.000000   \n",
       "368818   36249.000000          0              0         1      54600.000000   \n",
       "850419   11320.000000          1              0         0      13200.000000   \n",
       "387043  132669.000000          0              0         1      24600.000000   \n",
       "308058  262972.000000          0              1         0       6300.000000   \n",
       "265842   18151.000000          1              0         0      19900.000000   \n",
       "459329  291099.000000          0              1         0      28700.000000   \n",
       "106651   31326.000000          1              0         0      17000.000000   \n",
       "223963  138840.067835          1              0         0      29557.496541   \n",
       "828108   70974.000000          0              1         0      71300.000000   \n",
       "120854   17939.000000          1              0         0      10300.000000   \n",
       "699357   62281.000000          0              0         1      39700.000000   \n",
       "748122   32480.000000          0              0         1      19300.000000   \n",
       "3700    138840.067835          0              0         1      29557.496541   \n",
       "450354  132543.000000          0              1         0      36100.000000   \n",
       "364090  253912.000000          0              1         0      37000.000000   \n",
       "815159   80751.000000          0              1         0      16700.000000   \n",
       "12343   138840.067835          0              1         0      29557.496541   \n",
       "39947   138840.067835          0              1         0      29557.496541   \n",
       "55369   214383.000000          0              1         0      16100.000000   \n",
       "277870  334606.000000          0              1         0     101200.000000   \n",
       "126411    4311.000000          1              0         0       6700.000000   \n",
       "171300  301962.000000          0              1         0     129000.000000   \n",
       "219573  138840.067835          0              0         1      29557.496541   \n",
       "14247   138840.067835          0              0         1      29557.496541   \n",
       "223314  138840.067835          0              1         0      29557.496541   \n",
       "437341  170331.000000          0              1         0      26900.000000   \n",
       "455447   46876.000000          1              0         0      32600.000000   \n",
       "101155   11863.000000          1              0         0     262642.000000   \n",
       "175952   27716.000000          1              0         0      33025.000000   \n",
       "3431    138840.067835          1              0         0      29557.496541   \n",
       "450538  180192.000000          0              1         0      52900.000000   \n",
       "194195   85617.000000          0              1         0       7800.000000   \n",
       "867176  251409.000000          0              1         0      38600.000000   \n",
       "518499  419128.000000          0              1         0      27000.000000   \n",
       "451171    8758.000000          0              1         0      18900.000000   \n",
       "733197  148541.000000          0              1         0       5600.000000   \n",
       "119788  301050.000000          0              1         0      42639.000000   \n",
       "749837   54484.000000          1              0         0      38000.000000   \n",
       "813757  124302.000000          0              1         0      19700.000000   \n",
       "18576   138840.067835          0              1         0      29557.496541   \n",
       "123589  229903.000000          0              1         0       4900.000000   \n",
       "228274  138840.067835          0              1         0      29557.496541   \n",
       "375236  228096.000000          1              0         0      51100.000000   \n",
       "113325   63548.000000          1              0         0      42200.000000   \n",
       "35594   138840.067835          0              1         0      29557.496541   \n",
       "169663   59496.000000          1              0         0      21700.000000   \n",
       "126168  322924.000000          0              1         0      29500.000000   \n",
       "143611   36490.000000          1              0         0      24100.000000   \n",
       "201759   23421.000000          1              0         0      19100.000000   \n",
       "\n",
       "        grade_ord  \n",
       "741760          5  \n",
       "368818          2  \n",
       "850419          5  \n",
       "387043          2  \n",
       "308058          1  \n",
       "265842          2  \n",
       "459329          1  \n",
       "106651          2  \n",
       "223963          1  \n",
       "828108          3  \n",
       "120854          3  \n",
       "699357          1  \n",
       "748122          3  \n",
       "3700            1  \n",
       "450354          1  \n",
       "364090          6  \n",
       "815159          3  \n",
       "12343           2  \n",
       "39947           4  \n",
       "55369           4  \n",
       "277870          1  \n",
       "126411          4  \n",
       "171300          1  \n",
       "219573          2  \n",
       "14247           4  \n",
       "223314          1  \n",
       "437341          4  \n",
       "455447          2  \n",
       "101155          1  \n",
       "175952          2  \n",
       "3431            3  \n",
       "450538          2  \n",
       "194195          1  \n",
       "867176          2  \n",
       "518499          6  \n",
       "451171          5  \n",
       "733197          2  \n",
       "119788          2  \n",
       "749837          3  \n",
       "813757          4  \n",
       "18576           2  \n",
       "123589          4  \n",
       "228274          1  \n",
       "375236          6  \n",
       "113325          5  \n",
       "35594           3  \n",
       "169663          3  \n",
       "126168          2  \n",
       "143611          2  \n",
       "201759          5  "
      ]
     },
     "execution_count": 154,
     "metadata": {},
     "output_type": "execute_result"
    }
   ],
   "source": [
    "X.sample(50)"
   ]
  },
  {
   "cell_type": "code",
   "execution_count": null,
   "metadata": {
    "collapsed": true
   },
   "outputs": [],
   "source": []
  }
 ],
 "metadata": {
  "anaconda-cloud": {},
  "kernelspec": {
   "display_name": "Python [conda root]",
   "language": "python",
   "name": "conda-root-py"
  },
  "language_info": {
   "codemirror_mode": {
    "name": "ipython",
    "version": 2
   },
   "file_extension": ".py",
   "mimetype": "text/x-python",
   "name": "python",
   "nbconvert_exporter": "python",
   "pygments_lexer": "ipython2",
   "version": "2.7.12"
  }
 },
 "nbformat": 4,
 "nbformat_minor": 1
}
