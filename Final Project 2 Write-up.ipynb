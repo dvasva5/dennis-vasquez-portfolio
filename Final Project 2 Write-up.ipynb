{
 "cells": [
  {
   "cell_type": "markdown",
   "metadata": {},
   "source": [
    "# Final Project 2\n",
    "# *Running a Logistic Regression to Predict Loan Performance*\n"
   ]
  },
  {
   "cell_type": "markdown",
   "metadata": {},
   "source": [
    "### Problem and Hypothesis"
   ]
  },
  {
   "cell_type": "markdown",
   "metadata": {},
   "source": [
    "We're on a mission to explore the massive LendingClub loan dataset and ultimately build a logistic regression model in an attempt to predict the likelihood of loan defaults. Logistic regression is an obvious and often-used choice of machine learning algorithms to deploy on such a task due to several favorable features. Loan data can be classified into a binary outcome of \"bad loan\" and \"good loan\" with respect to its performance, logistic regression can assign the odds to an outcome - also interpreted as the probability of a loan's performance, as well as being a simple and reliable learner that doesn't require a lot of runtime or computing power.\n",
    "\n",
    "Simply put, our task is as follows:\n",
    ">Given a set of loan application variables and borrower information, can we separate high from low risk borrowers and ultimately predict loan performance?\n",
    "\n",
    "I think that employing a classification algorithm such as logistic regression, we can classify a loan into a binary category of either being a “bad loan” or “good loan”, ultimately predicting loan performance from a predefined set of loan application features."
   ]
  },
  {
   "cell_type": "markdown",
   "metadata": {},
   "source": [
    "### Dataset"
   ]
  },
  {
   "cell_type": "markdown",
   "metadata": {},
   "source": [
    "LendingClub has provided its rich dataset via Kaggle.com and it is vast with more than 800,000 rows or loan application files and more than 75 columns or descriptive features that includes the current loan status for each loan. Some notable features of the dataset are:\n",
    "* Borrower info (very limited demographics) \n",
    "* Borrower credit history (income, debts, credit account performance, etc.)\n",
    "* Loan info (terms, rates, payments, etc.)\n",
    "* Loan performance (collections, PIF, or defaulted, etc.)\n",
    "\n",
    "Additionally, LendingClub has provided a comprehensive data dictionary explaining the more than 75 columns of loan characteristics."
   ]
  },
  {
   "cell_type": "markdown",
   "metadata": {},
   "source": [
    "### Domain Knowledge"
   ]
  },
  {
   "cell_type": "markdown",
   "metadata": {},
   "source": [
    "During my usual day-to-day duties I underwrite consumer loans while following company credit guidelines and working with proprietary data and metrics to evaluate a borrower's credit history while seeking to improve and streamline our lending process. Naturally, I was not only intrigued but excited to find out that LendingClub has opened its loan data to the public. Having worked in the growing online-lending industry for the past 4 years I think it's vital to work with large datasets to gain a top-down perspective, to complement my usual functions.\n",
    "\n",
    "As a result, before engaging in any data cleaning I have reviewed and narrowed the 75+ columns to 27 columns that I believe are useful and hopefully predictive in performing a logistic regression analysis."
   ]
  },
  {
   "cell_type": "markdown",
   "metadata": {},
   "source": [
    "### Project Concerns"
   ]
  },
  {
   "cell_type": "markdown",
   "metadata": {},
   "source": [
    "Some caveats and general points of concern regarding this analysis is my use of python code and the robustness of the logistic regression model. I may not have used the cleanest and simplest code to arrive at the result, as I 'am used to only the most obvious, albeit cumbersome route to arrive at the intended results. \n",
    "\n",
    "Python code and its many powerful libraries, most notably SciPy has made it incredibly easy to load, fit, test, and predict through complex machine learning algorithms. Easy enough that even I can do it. So, although the data cleaning and wrangling process is crucial and might encompass 80% of anyone's efforts in performing a rigorous data analysis task, simply typing a couple lines of code in python does not require the practitioner to have a background in the underlying math, statistics, or computer science theory that is used to run such complex algorithms. So, although I 'am  diligent in learning the intricacies of running a logistic regression model, I 'am also just as susceptible to selecting a wrong parameter or misinterpreting the data that is entered.\n",
    "\n",
    "To assuage any concerns, this notebook walk-through will outline every step I take in arriving at the model's output and most importantly highlight any steps potentially overlooked."
   ]
  },
  {
   "cell_type": "markdown",
   "metadata": {},
   "source": [
    "### Outcomes"
   ]
  },
  {
   "cell_type": "markdown",
   "metadata": {},
   "source": [
    "A successful logistic regression model should include not only thoughtful selection of certain parameters and features throughout the analysis, but most importantly should result in a reasonable and rational conclusion in predicting loan performance. \n",
    "\n",
    "Through our large training set I would consider achieving an accuracy score of 75% or greater to be satisfactory in predicting loan performance. The ability in having a lending platform that screens and selects favorable borrowers 3 out of 4 times seems like very profitable venture, after incurring customer acquisition costs.\n",
    "\n",
    "If done right, I expect the model to provide some insight into selecting useful and possibly predictive features to include in a loan application process to help gauge a borrower's propensity to repay, as well as insights into building an improved sound credit scoring predictive model."
   ]
  }
 ],
 "metadata": {
  "kernelspec": {
   "display_name": "Python [conda root]",
   "language": "python",
   "name": "conda-root-py"
  },
  "language_info": {
   "codemirror_mode": {
    "name": "ipython",
    "version": 2
   },
   "file_extension": ".py",
   "mimetype": "text/x-python",
   "name": "python",
   "nbconvert_exporter": "python",
   "pygments_lexer": "ipython2",
   "version": "2.7.12"
  }
 },
 "nbformat": 4,
 "nbformat_minor": 1
}
