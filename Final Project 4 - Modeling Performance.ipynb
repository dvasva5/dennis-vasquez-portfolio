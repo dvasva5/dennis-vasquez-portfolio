{
 "cells": [
  {
   "cell_type": "markdown",
   "metadata": {},
   "source": [
    "# Final Project 4 - Modeling Performance"
   ]
  },
  {
   "cell_type": "markdown",
   "metadata": {},
   "source": [
    "The Lending Club's dataset originally contained 74 columns. After inspecting the relevance of each feature in predicting loan performance, more than half the columns were discarded. The types of columns discarded fell into a category of being either \"applicant identifier, categorical\" or \"processed/decisioned application features\". Examples of the first irrelevant category were \"member ID\", \"State\", or \"reasons seeking a loan\" columns, to name a few. The latter group were columns that were already decisioned by Lending Club, i.e. \"interest rates\", \"loan amounts\", and \"grade\" of the loan - all features that already include correlated features of ultimate loan performance.\n",
    "\n",
    "The current dataset only contains columns that include prior credit history, ultimately a credit profile of each applicant to include in our learning models in helping to determine any predictive capabilities pre-funding a loan."
   ]
  },
  {
   "cell_type": "markdown",
   "metadata": {},
   "source": [
    "### Importing packages and dataset"
   ]
  },
  {
   "cell_type": "code",
   "execution_count": 1,
   "metadata": {
    "collapsed": true
   },
   "outputs": [],
   "source": [
    "import pandas as pd\n",
    "import numpy as np\n",
    "import matplotlib.pyplot as plt\n",
    "import seaborn as sns\n",
    "%matplotlib inline"
   ]
  },
  {
   "cell_type": "code",
   "execution_count": 2,
   "metadata": {
    "collapsed": false,
    "scrolled": true
   },
   "outputs": [
    {
     "data": {
      "text/html": [
       "<div>\n",
       "<table border=\"1\" class=\"dataframe\">\n",
       "  <thead>\n",
       "    <tr style=\"text-align: right;\">\n",
       "      <th></th>\n",
       "      <th>loan_amnt</th>\n",
       "      <th>emp_length</th>\n",
       "      <th>home_ownership</th>\n",
       "      <th>annual_inc</th>\n",
       "      <th>loan_status</th>\n",
       "      <th>dti</th>\n",
       "      <th>delinq_2yrs</th>\n",
       "      <th>inq_last_6mths</th>\n",
       "      <th>mths_since_last_delinq</th>\n",
       "      <th>open_acc</th>\n",
       "      <th>...</th>\n",
       "      <th>open_il_6m</th>\n",
       "      <th>total_bal_il</th>\n",
       "      <th>il_util</th>\n",
       "      <th>open_rv_12m</th>\n",
       "      <th>max_bal_bc</th>\n",
       "      <th>all_util</th>\n",
       "      <th>total_rev_hi_lim</th>\n",
       "      <th>inq_fi</th>\n",
       "      <th>total_cu_tl</th>\n",
       "      <th>inq_last_12m</th>\n",
       "    </tr>\n",
       "  </thead>\n",
       "  <tbody>\n",
       "    <tr>\n",
       "      <th>532156</th>\n",
       "      <td>30000.0</td>\n",
       "      <td>10+ years</td>\n",
       "      <td>OWN</td>\n",
       "      <td>200000.0</td>\n",
       "      <td>Current</td>\n",
       "      <td>5.80</td>\n",
       "      <td>0.0</td>\n",
       "      <td>0.0</td>\n",
       "      <td>38.0</td>\n",
       "      <td>9.0</td>\n",
       "      <td>...</td>\n",
       "      <td>NaN</td>\n",
       "      <td>NaN</td>\n",
       "      <td>NaN</td>\n",
       "      <td>NaN</td>\n",
       "      <td>NaN</td>\n",
       "      <td>NaN</td>\n",
       "      <td>99900.0</td>\n",
       "      <td>NaN</td>\n",
       "      <td>NaN</td>\n",
       "      <td>NaN</td>\n",
       "    </tr>\n",
       "    <tr>\n",
       "      <th>407703</th>\n",
       "      <td>16000.0</td>\n",
       "      <td>8 years</td>\n",
       "      <td>MORTGAGE</td>\n",
       "      <td>84000.0</td>\n",
       "      <td>In Grace Period</td>\n",
       "      <td>14.10</td>\n",
       "      <td>3.0</td>\n",
       "      <td>1.0</td>\n",
       "      <td>6.0</td>\n",
       "      <td>23.0</td>\n",
       "      <td>...</td>\n",
       "      <td>NaN</td>\n",
       "      <td>NaN</td>\n",
       "      <td>NaN</td>\n",
       "      <td>NaN</td>\n",
       "      <td>NaN</td>\n",
       "      <td>NaN</td>\n",
       "      <td>36600.0</td>\n",
       "      <td>NaN</td>\n",
       "      <td>NaN</td>\n",
       "      <td>NaN</td>\n",
       "    </tr>\n",
       "    <tr>\n",
       "      <th>873376</th>\n",
       "      <td>5600.0</td>\n",
       "      <td>3 years</td>\n",
       "      <td>RENT</td>\n",
       "      <td>53000.0</td>\n",
       "      <td>Current</td>\n",
       "      <td>23.60</td>\n",
       "      <td>0.0</td>\n",
       "      <td>1.0</td>\n",
       "      <td>31.0</td>\n",
       "      <td>27.0</td>\n",
       "      <td>...</td>\n",
       "      <td>NaN</td>\n",
       "      <td>NaN</td>\n",
       "      <td>NaN</td>\n",
       "      <td>NaN</td>\n",
       "      <td>NaN</td>\n",
       "      <td>NaN</td>\n",
       "      <td>17600.0</td>\n",
       "      <td>NaN</td>\n",
       "      <td>NaN</td>\n",
       "      <td>NaN</td>\n",
       "    </tr>\n",
       "    <tr>\n",
       "      <th>755292</th>\n",
       "      <td>6000.0</td>\n",
       "      <td>9 years</td>\n",
       "      <td>RENT</td>\n",
       "      <td>111000.0</td>\n",
       "      <td>Current</td>\n",
       "      <td>16.29</td>\n",
       "      <td>0.0</td>\n",
       "      <td>0.0</td>\n",
       "      <td>NaN</td>\n",
       "      <td>8.0</td>\n",
       "      <td>...</td>\n",
       "      <td>NaN</td>\n",
       "      <td>NaN</td>\n",
       "      <td>NaN</td>\n",
       "      <td>NaN</td>\n",
       "      <td>NaN</td>\n",
       "      <td>NaN</td>\n",
       "      <td>45900.0</td>\n",
       "      <td>NaN</td>\n",
       "      <td>NaN</td>\n",
       "      <td>NaN</td>\n",
       "    </tr>\n",
       "    <tr>\n",
       "      <th>323883</th>\n",
       "      <td>13000.0</td>\n",
       "      <td>7 years</td>\n",
       "      <td>MORTGAGE</td>\n",
       "      <td>76000.0</td>\n",
       "      <td>Current</td>\n",
       "      <td>4.50</td>\n",
       "      <td>0.0</td>\n",
       "      <td>1.0</td>\n",
       "      <td>NaN</td>\n",
       "      <td>8.0</td>\n",
       "      <td>...</td>\n",
       "      <td>NaN</td>\n",
       "      <td>NaN</td>\n",
       "      <td>NaN</td>\n",
       "      <td>NaN</td>\n",
       "      <td>NaN</td>\n",
       "      <td>NaN</td>\n",
       "      <td>38600.0</td>\n",
       "      <td>NaN</td>\n",
       "      <td>NaN</td>\n",
       "      <td>NaN</td>\n",
       "    </tr>\n",
       "  </tbody>\n",
       "</table>\n",
       "<p>5 rows × 28 columns</p>\n",
       "</div>"
      ],
      "text/plain": [
       "        loan_amnt emp_length home_ownership  annual_inc      loan_status  \\\n",
       "532156    30000.0  10+ years            OWN    200000.0          Current   \n",
       "407703    16000.0    8 years       MORTGAGE     84000.0  In Grace Period   \n",
       "873376     5600.0    3 years           RENT     53000.0          Current   \n",
       "755292     6000.0    9 years           RENT    111000.0          Current   \n",
       "323883    13000.0    7 years       MORTGAGE     76000.0          Current   \n",
       "\n",
       "          dti  delinq_2yrs  inq_last_6mths  mths_since_last_delinq  open_acc  \\\n",
       "532156   5.80          0.0             0.0                    38.0       9.0   \n",
       "407703  14.10          3.0             1.0                     6.0      23.0   \n",
       "873376  23.60          0.0             1.0                    31.0      27.0   \n",
       "755292  16.29          0.0             0.0                     NaN       8.0   \n",
       "323883   4.50          0.0             1.0                     NaN       8.0   \n",
       "\n",
       "            ...       open_il_6m  total_bal_il  il_util  open_rv_12m  \\\n",
       "532156      ...              NaN           NaN      NaN          NaN   \n",
       "407703      ...              NaN           NaN      NaN          NaN   \n",
       "873376      ...              NaN           NaN      NaN          NaN   \n",
       "755292      ...              NaN           NaN      NaN          NaN   \n",
       "323883      ...              NaN           NaN      NaN          NaN   \n",
       "\n",
       "        max_bal_bc  all_util  total_rev_hi_lim  inq_fi  total_cu_tl  \\\n",
       "532156         NaN       NaN           99900.0     NaN          NaN   \n",
       "407703         NaN       NaN           36600.0     NaN          NaN   \n",
       "873376         NaN       NaN           17600.0     NaN          NaN   \n",
       "755292         NaN       NaN           45900.0     NaN          NaN   \n",
       "323883         NaN       NaN           38600.0     NaN          NaN   \n",
       "\n",
       "        inq_last_12m  \n",
       "532156           NaN  \n",
       "407703           NaN  \n",
       "873376           NaN  \n",
       "755292           NaN  \n",
       "323883           NaN  \n",
       "\n",
       "[5 rows x 28 columns]"
      ]
     },
     "execution_count": 2,
     "metadata": {},
     "output_type": "execute_result"
    }
   ],
   "source": [
    "lend = pd.read_csv('/Users/dennisvasquez/Downloads/lending-club-loan-data/loan.csv', \n",
    "                   usecols=['loan_amnt','emp_length','home_ownership','annual_inc','loan_status','dti',\n",
    "                            'delinq_2yrs','inq_last_6mths','mths_since_last_delinq','open_acc','pub_rec',\n",
    "                            'revol_bal','revol_util','total_acc','annual_inc_joint','dti_joint','tot_cur_bal',\n",
    "                            'open_acc_6m','open_il_6m','total_bal_il','il_util','open_rv_12m','max_bal_bc',\n",
    "                            'all_util','total_rev_hi_lim','inq_fi','total_cu_tl','inq_last_12m'], low_memory=False);\n",
    "lend.sample(5)"
   ]
  },
  {
   "cell_type": "code",
   "execution_count": 3,
   "metadata": {
    "collapsed": false
   },
   "outputs": [
    {
     "data": {
      "text/plain": [
       "(887379, 28)"
      ]
     },
     "execution_count": 3,
     "metadata": {},
     "output_type": "execute_result"
    }
   ],
   "source": [
    "# Number of rows by columns\n",
    "lend.shape"
   ]
  },
  {
   "cell_type": "code",
   "execution_count": 4,
   "metadata": {
    "collapsed": false
   },
   "outputs": [
    {
     "name": "stdout",
     "output_type": "stream",
     "text": [
      "13093511950.0\n"
     ]
    }
   ],
   "source": [
    "# $13,093,511,950 Total loan portfolio, includes loans from 2007 - 2015\n",
    "print(sum(lend.loan_amnt))"
   ]
  },
  {
   "cell_type": "markdown",
   "metadata": {},
   "source": [
    "## Cleaning the dataset"
   ]
  },
  {
   "cell_type": "markdown",
   "metadata": {},
   "source": [
    "### Making a dummy variable for the 'home_ownership' field"
   ]
  },
  {
   "cell_type": "code",
   "execution_count": 5,
   "metadata": {
    "collapsed": false
   },
   "outputs": [
    {
     "data": {
      "text/plain": [
       "array(['RENT', 'OWN', 'MORTGAGE', 'OTHER', 'NONE', 'ANY'], dtype=object)"
      ]
     },
     "execution_count": 5,
     "metadata": {},
     "output_type": "execute_result"
    }
   ],
   "source": [
    "lend.home_ownership.unique()"
   ]
  },
  {
   "cell_type": "code",
   "execution_count": 6,
   "metadata": {
    "collapsed": false
   },
   "outputs": [
    {
     "data": {
      "text/plain": [
       "MORTGAGE    443557\n",
       "RENT        356117\n",
       "OWN          87470\n",
       "OTHER          182\n",
       "NONE            50\n",
       "ANY              3\n",
       "Name: home_ownership, dtype: int64"
      ]
     },
     "execution_count": 6,
     "metadata": {},
     "output_type": "execute_result"
    }
   ],
   "source": [
    "lend.home_ownership.value_counts()"
   ]
  },
  {
   "cell_type": "code",
   "execution_count": 7,
   "metadata": {
    "collapsed": true
   },
   "outputs": [],
   "source": [
    "# Deleting the 'OTHER', 'NONE', and 'ANY' home ownership columns to reduce noise in data since they're smaller amounts\n",
    "lend = lend[lend.home_ownership != 'OTHER']\n",
    "lend = lend[lend.home_ownership != 'NONE']\n",
    "lend = lend[lend.home_ownership != 'ANY']"
   ]
  },
  {
   "cell_type": "code",
   "execution_count": 8,
   "metadata": {
    "collapsed": false
   },
   "outputs": [],
   "source": [
    "# Calling the get_dummies function then adding the new dummy columns into the dataset\n",
    "lend_reside = pd.get_dummies(lend['home_ownership'],prefix='home',drop_first=True)\n",
    "lend = pd.concat([lend, lend_reside], axis=1)\n",
    "lend = lend.drop('home_ownership', axis=1);"
   ]
  },
  {
   "cell_type": "code",
   "execution_count": 9,
   "metadata": {
    "collapsed": false
   },
   "outputs": [
    {
     "data": {
      "text/html": [
       "<div>\n",
       "<table border=\"1\" class=\"dataframe\">\n",
       "  <thead>\n",
       "    <tr style=\"text-align: right;\">\n",
       "      <th></th>\n",
       "      <th>loan_amnt</th>\n",
       "      <th>emp_length</th>\n",
       "      <th>annual_inc</th>\n",
       "      <th>loan_status</th>\n",
       "      <th>dti</th>\n",
       "      <th>delinq_2yrs</th>\n",
       "      <th>inq_last_6mths</th>\n",
       "      <th>mths_since_last_delinq</th>\n",
       "      <th>open_acc</th>\n",
       "      <th>pub_rec</th>\n",
       "      <th>...</th>\n",
       "      <th>il_util</th>\n",
       "      <th>open_rv_12m</th>\n",
       "      <th>max_bal_bc</th>\n",
       "      <th>all_util</th>\n",
       "      <th>total_rev_hi_lim</th>\n",
       "      <th>inq_fi</th>\n",
       "      <th>total_cu_tl</th>\n",
       "      <th>inq_last_12m</th>\n",
       "      <th>home_OWN</th>\n",
       "      <th>home_RENT</th>\n",
       "    </tr>\n",
       "  </thead>\n",
       "  <tbody>\n",
       "    <tr>\n",
       "      <th>737036</th>\n",
       "      <td>33000.0</td>\n",
       "      <td>10+ years</td>\n",
       "      <td>118000.0</td>\n",
       "      <td>Current</td>\n",
       "      <td>24.17</td>\n",
       "      <td>1.0</td>\n",
       "      <td>0.0</td>\n",
       "      <td>21.0</td>\n",
       "      <td>25.0</td>\n",
       "      <td>0.0</td>\n",
       "      <td>...</td>\n",
       "      <td>NaN</td>\n",
       "      <td>NaN</td>\n",
       "      <td>NaN</td>\n",
       "      <td>NaN</td>\n",
       "      <td>76600.0</td>\n",
       "      <td>NaN</td>\n",
       "      <td>NaN</td>\n",
       "      <td>NaN</td>\n",
       "      <td>0</td>\n",
       "      <td>0</td>\n",
       "    </tr>\n",
       "    <tr>\n",
       "      <th>140758</th>\n",
       "      <td>7500.0</td>\n",
       "      <td>6 years</td>\n",
       "      <td>37500.0</td>\n",
       "      <td>Current</td>\n",
       "      <td>20.32</td>\n",
       "      <td>0.0</td>\n",
       "      <td>0.0</td>\n",
       "      <td>NaN</td>\n",
       "      <td>9.0</td>\n",
       "      <td>2.0</td>\n",
       "      <td>...</td>\n",
       "      <td>NaN</td>\n",
       "      <td>NaN</td>\n",
       "      <td>NaN</td>\n",
       "      <td>NaN</td>\n",
       "      <td>15900.0</td>\n",
       "      <td>NaN</td>\n",
       "      <td>NaN</td>\n",
       "      <td>NaN</td>\n",
       "      <td>0</td>\n",
       "      <td>1</td>\n",
       "    </tr>\n",
       "    <tr>\n",
       "      <th>565992</th>\n",
       "      <td>14675.0</td>\n",
       "      <td>10+ years</td>\n",
       "      <td>79000.0</td>\n",
       "      <td>Current</td>\n",
       "      <td>6.06</td>\n",
       "      <td>0.0</td>\n",
       "      <td>2.0</td>\n",
       "      <td>NaN</td>\n",
       "      <td>5.0</td>\n",
       "      <td>1.0</td>\n",
       "      <td>...</td>\n",
       "      <td>NaN</td>\n",
       "      <td>NaN</td>\n",
       "      <td>NaN</td>\n",
       "      <td>NaN</td>\n",
       "      <td>5900.0</td>\n",
       "      <td>NaN</td>\n",
       "      <td>NaN</td>\n",
       "      <td>NaN</td>\n",
       "      <td>0</td>\n",
       "      <td>0</td>\n",
       "    </tr>\n",
       "    <tr>\n",
       "      <th>483467</th>\n",
       "      <td>9300.0</td>\n",
       "      <td>10+ years</td>\n",
       "      <td>73000.0</td>\n",
       "      <td>Current</td>\n",
       "      <td>5.33</td>\n",
       "      <td>0.0</td>\n",
       "      <td>0.0</td>\n",
       "      <td>57.0</td>\n",
       "      <td>9.0</td>\n",
       "      <td>0.0</td>\n",
       "      <td>...</td>\n",
       "      <td>NaN</td>\n",
       "      <td>1.0</td>\n",
       "      <td>4287.0</td>\n",
       "      <td>33.6</td>\n",
       "      <td>42500.0</td>\n",
       "      <td>0.0</td>\n",
       "      <td>2.0</td>\n",
       "      <td>1.0</td>\n",
       "      <td>0</td>\n",
       "      <td>1</td>\n",
       "    </tr>\n",
       "    <tr>\n",
       "      <th>330469</th>\n",
       "      <td>22000.0</td>\n",
       "      <td>8 years</td>\n",
       "      <td>55000.0</td>\n",
       "      <td>Current</td>\n",
       "      <td>13.42</td>\n",
       "      <td>0.0</td>\n",
       "      <td>1.0</td>\n",
       "      <td>NaN</td>\n",
       "      <td>12.0</td>\n",
       "      <td>0.0</td>\n",
       "      <td>...</td>\n",
       "      <td>NaN</td>\n",
       "      <td>NaN</td>\n",
       "      <td>NaN</td>\n",
       "      <td>NaN</td>\n",
       "      <td>22800.0</td>\n",
       "      <td>NaN</td>\n",
       "      <td>NaN</td>\n",
       "      <td>NaN</td>\n",
       "      <td>0</td>\n",
       "      <td>0</td>\n",
       "    </tr>\n",
       "  </tbody>\n",
       "</table>\n",
       "<p>5 rows × 29 columns</p>\n",
       "</div>"
      ],
      "text/plain": [
       "        loan_amnt emp_length  annual_inc loan_status    dti  delinq_2yrs  \\\n",
       "737036    33000.0  10+ years    118000.0     Current  24.17          1.0   \n",
       "140758     7500.0    6 years     37500.0     Current  20.32          0.0   \n",
       "565992    14675.0  10+ years     79000.0     Current   6.06          0.0   \n",
       "483467     9300.0  10+ years     73000.0     Current   5.33          0.0   \n",
       "330469    22000.0    8 years     55000.0     Current  13.42          0.0   \n",
       "\n",
       "        inq_last_6mths  mths_since_last_delinq  open_acc  pub_rec    ...      \\\n",
       "737036             0.0                    21.0      25.0      0.0    ...       \n",
       "140758             0.0                     NaN       9.0      2.0    ...       \n",
       "565992             2.0                     NaN       5.0      1.0    ...       \n",
       "483467             0.0                    57.0       9.0      0.0    ...       \n",
       "330469             1.0                     NaN      12.0      0.0    ...       \n",
       "\n",
       "        il_util  open_rv_12m  max_bal_bc  all_util  total_rev_hi_lim  inq_fi  \\\n",
       "737036      NaN          NaN         NaN       NaN           76600.0     NaN   \n",
       "140758      NaN          NaN         NaN       NaN           15900.0     NaN   \n",
       "565992      NaN          NaN         NaN       NaN            5900.0     NaN   \n",
       "483467      NaN          1.0      4287.0      33.6           42500.0     0.0   \n",
       "330469      NaN          NaN         NaN       NaN           22800.0     NaN   \n",
       "\n",
       "        total_cu_tl  inq_last_12m  home_OWN  home_RENT  \n",
       "737036          NaN           NaN         0          0  \n",
       "140758          NaN           NaN         0          1  \n",
       "565992          NaN           NaN         0          0  \n",
       "483467          2.0           1.0         0          1  \n",
       "330469          NaN           NaN         0          0  \n",
       "\n",
       "[5 rows x 29 columns]"
      ]
     },
     "execution_count": 9,
     "metadata": {},
     "output_type": "execute_result"
    }
   ],
   "source": [
    "lend.sample(5)"
   ]
  },
  {
   "cell_type": "markdown",
   "metadata": {},
   "source": [
    "### Cleaning the \"emp_length\" column"
   ]
  },
  {
   "cell_type": "code",
   "execution_count": 10,
   "metadata": {
    "collapsed": false
   },
   "outputs": [],
   "source": [
    "# Truncating and converting the 'emp_lenght' or employment length column into a float variable\n",
    "lend.loc[:, 'emp_length'] = lend['emp_length'].str.split('years').apply(lambda x: x[0])\n",
    "lend.loc[:, 'emp_length'] = lend['emp_length'].str.split('year').apply(lambda x: x[0])\n",
    "lend.emp_length = lend.emp_length.replace('< 1 ', 1)\n",
    "lend.emp_length = lend.emp_length.replace('10+ ', 10)\n",
    "lend = lend[lend.emp_length != 'n/a']\n",
    "lend['emp_length'] = lend['emp_length'].astype(int)"
   ]
  },
  {
   "cell_type": "markdown",
   "metadata": {},
   "source": [
    "### Cleaning the \"loan_status\" column\n",
    "#### The \"loan_status\" field is the dependent variable or y column that we will try to predict"
   ]
  },
  {
   "cell_type": "code",
   "execution_count": 11,
   "metadata": {
    "collapsed": false
   },
   "outputs": [
    {
     "data": {
      "text/plain": [
       "Current                                                568679\n",
       "Fully Paid                                             200203\n",
       "Charged Off                                             42690\n",
       "Late (31-120 days)                                      10872\n",
       "Issued                                                   7829\n",
       "In Grace Period                                          6015\n",
       "Late (16-30 days)                                        2215\n",
       "Does not meet the credit policy. Status:Fully Paid       1938\n",
       "Default                                                  1148\n",
       "Does not meet the credit policy. Status:Charged Off       734\n",
       "Name: loan_status, dtype: int64"
      ]
     },
     "execution_count": 11,
     "metadata": {},
     "output_type": "execute_result"
    }
   ],
   "source": [
    "# Display frequency table of all the loan status\n",
    "lend.loan_status.value_counts()"
   ]
  },
  {
   "cell_type": "code",
   "execution_count": 12,
   "metadata": {
    "collapsed": false
   },
   "outputs": [
    {
     "data": {
      "text/plain": [
       "(265815, 29)"
      ]
     },
     "execution_count": 12,
     "metadata": {},
     "output_type": "execute_result"
    }
   ],
   "source": [
    "# Delete 'Current' and 'Issued' status, as it is not indicative in determing the FINAL performance status of the loan\n",
    "# Note the reduction in rows\n",
    "lend = lend[lend.loan_status != 'Current']\n",
    "lend = lend[lend.loan_status != 'Issued']\n",
    "lend.shape"
   ]
  },
  {
   "cell_type": "code",
   "execution_count": 17,
   "metadata": {
    "collapsed": false,
    "scrolled": true
   },
   "outputs": [
    {
     "data": {
      "text/html": [
       "<div>\n",
       "<table border=\"1\" class=\"dataframe\">\n",
       "  <thead>\n",
       "    <tr style=\"text-align: right;\">\n",
       "      <th></th>\n",
       "      <th>loan_status</th>\n",
       "      <th>status_group</th>\n",
       "    </tr>\n",
       "  </thead>\n",
       "  <tbody>\n",
       "    <tr>\n",
       "      <th>210584</th>\n",
       "      <td>Fully Paid</td>\n",
       "      <td>0</td>\n",
       "    </tr>\n",
       "    <tr>\n",
       "      <th>279119</th>\n",
       "      <td>Fully Paid</td>\n",
       "      <td>0</td>\n",
       "    </tr>\n",
       "    <tr>\n",
       "      <th>42550</th>\n",
       "      <td>Late (31-120 days)</td>\n",
       "      <td>1</td>\n",
       "    </tr>\n",
       "    <tr>\n",
       "      <th>248748</th>\n",
       "      <td>Charged Off</td>\n",
       "      <td>1</td>\n",
       "    </tr>\n",
       "    <tr>\n",
       "      <th>359508</th>\n",
       "      <td>Fully Paid</td>\n",
       "      <td>0</td>\n",
       "    </tr>\n",
       "  </tbody>\n",
       "</table>\n",
       "</div>"
      ],
      "text/plain": [
       "               loan_status  status_group\n",
       "210584          Fully Paid             0\n",
       "279119          Fully Paid             0\n",
       "42550   Late (31-120 days)             1\n",
       "248748         Charged Off             1\n",
       "359508          Fully Paid             0"
      ]
     },
     "execution_count": 17,
     "metadata": {},
     "output_type": "execute_result"
    }
   ],
   "source": [
    "# Create binary dummy variables of the loan status column into a new column, \"status_group\"\n",
    "# Bad performing loans: 1, paid in full loans: 0\n",
    "lend['status_group'] = lend.loan_status.map({'Fully Paid': 0,\n",
    "                                             'Charged Off': 1, \n",
    "                                             'Late (31-120 days)': 1,\n",
    "                                             'In Grace Period': 1,\n",
    "                                             'Late (16-30 days)': 1,\n",
    "                                             'Does not meet the credit policy. Status:Fully Paid': 0,\n",
    "                                             'Default': 1,\n",
    "                                             'Does not meet the credit policy. Status:Charged Off': 1})\n",
    "\n",
    "lend[['loan_status','status_group']].sample(5)"
   ]
  },
  {
   "cell_type": "markdown",
   "metadata": {},
   "source": [
    "### This is our overall base rate that we will compare our learning model scores against:"
   ]
  },
  {
   "cell_type": "code",
   "execution_count": 15,
   "metadata": {
    "collapsed": false
   },
   "outputs": [
    {
     "data": {
      "text/plain": [
       "0    202141\n",
       "1     63674\n",
       "Name: status_group, dtype: int64"
      ]
     },
     "execution_count": 15,
     "metadata": {},
     "output_type": "execute_result"
    }
   ],
   "source": [
    "# 0.314997947 or 0.685002053 split of fully paid to bad performing loans \n",
    "# 68.5% of the dataset are loans paid in full\n",
    "lend.status_group.value_counts()"
   ]
  },
  {
   "cell_type": "markdown",
   "metadata": {},
   "source": [
    "### Replacing NaN values in the dataset"
   ]
  },
  {
   "cell_type": "code",
   "execution_count": 18,
   "metadata": {
    "collapsed": true
   },
   "outputs": [],
   "source": [
    "# Replacing all 'NaN' fields with '0' throughout the entire dataset\n",
    "lend = lend.replace('NaN', 0)"
   ]
  },
  {
   "cell_type": "code",
   "execution_count": 19,
   "metadata": {
    "collapsed": false
   },
   "outputs": [
    {
     "data": {
      "text/html": [
       "<div>\n",
       "<table border=\"1\" class=\"dataframe\">\n",
       "  <thead>\n",
       "    <tr style=\"text-align: right;\">\n",
       "      <th></th>\n",
       "      <th>loan_amnt</th>\n",
       "      <th>emp_length</th>\n",
       "      <th>annual_inc</th>\n",
       "      <th>loan_status</th>\n",
       "      <th>dti</th>\n",
       "      <th>delinq_2yrs</th>\n",
       "      <th>inq_last_6mths</th>\n",
       "      <th>mths_since_last_delinq</th>\n",
       "      <th>open_acc</th>\n",
       "      <th>pub_rec</th>\n",
       "      <th>...</th>\n",
       "      <th>open_rv_12m</th>\n",
       "      <th>max_bal_bc</th>\n",
       "      <th>all_util</th>\n",
       "      <th>total_rev_hi_lim</th>\n",
       "      <th>inq_fi</th>\n",
       "      <th>total_cu_tl</th>\n",
       "      <th>inq_last_12m</th>\n",
       "      <th>home_OWN</th>\n",
       "      <th>home_RENT</th>\n",
       "      <th>status_group</th>\n",
       "    </tr>\n",
       "  </thead>\n",
       "  <tbody>\n",
       "    <tr>\n",
       "      <th>368562</th>\n",
       "      <td>9475.0</td>\n",
       "      <td>1</td>\n",
       "      <td>150000.0</td>\n",
       "      <td>Fully Paid</td>\n",
       "      <td>7.14</td>\n",
       "      <td>1.0</td>\n",
       "      <td>0.0</td>\n",
       "      <td>6.0</td>\n",
       "      <td>6.0</td>\n",
       "      <td>0.0</td>\n",
       "      <td>...</td>\n",
       "      <td>0.0</td>\n",
       "      <td>0.0</td>\n",
       "      <td>0.0</td>\n",
       "      <td>17700.0</td>\n",
       "      <td>0.0</td>\n",
       "      <td>0.0</td>\n",
       "      <td>0.0</td>\n",
       "      <td>0</td>\n",
       "      <td>1</td>\n",
       "      <td>0</td>\n",
       "    </tr>\n",
       "    <tr>\n",
       "      <th>39605</th>\n",
       "      <td>4900.0</td>\n",
       "      <td>10</td>\n",
       "      <td>44000.0</td>\n",
       "      <td>Charged Off</td>\n",
       "      <td>15.30</td>\n",
       "      <td>3.0</td>\n",
       "      <td>1.0</td>\n",
       "      <td>7.0</td>\n",
       "      <td>4.0</td>\n",
       "      <td>0.0</td>\n",
       "      <td>...</td>\n",
       "      <td>0.0</td>\n",
       "      <td>0.0</td>\n",
       "      <td>0.0</td>\n",
       "      <td>0.0</td>\n",
       "      <td>0.0</td>\n",
       "      <td>0.0</td>\n",
       "      <td>0.0</td>\n",
       "      <td>0</td>\n",
       "      <td>1</td>\n",
       "      <td>1</td>\n",
       "    </tr>\n",
       "    <tr>\n",
       "      <th>113267</th>\n",
       "      <td>10000.0</td>\n",
       "      <td>8</td>\n",
       "      <td>100000.0</td>\n",
       "      <td>Fully Paid</td>\n",
       "      <td>12.82</td>\n",
       "      <td>0.0</td>\n",
       "      <td>1.0</td>\n",
       "      <td>0.0</td>\n",
       "      <td>8.0</td>\n",
       "      <td>1.0</td>\n",
       "      <td>...</td>\n",
       "      <td>0.0</td>\n",
       "      <td>0.0</td>\n",
       "      <td>0.0</td>\n",
       "      <td>15800.0</td>\n",
       "      <td>0.0</td>\n",
       "      <td>0.0</td>\n",
       "      <td>0.0</td>\n",
       "      <td>0</td>\n",
       "      <td>0</td>\n",
       "      <td>0</td>\n",
       "    </tr>\n",
       "    <tr>\n",
       "      <th>154627</th>\n",
       "      <td>3000.0</td>\n",
       "      <td>5</td>\n",
       "      <td>59000.0</td>\n",
       "      <td>Fully Paid</td>\n",
       "      <td>5.82</td>\n",
       "      <td>0.0</td>\n",
       "      <td>0.0</td>\n",
       "      <td>0.0</td>\n",
       "      <td>6.0</td>\n",
       "      <td>0.0</td>\n",
       "      <td>...</td>\n",
       "      <td>0.0</td>\n",
       "      <td>0.0</td>\n",
       "      <td>0.0</td>\n",
       "      <td>27600.0</td>\n",
       "      <td>0.0</td>\n",
       "      <td>0.0</td>\n",
       "      <td>0.0</td>\n",
       "      <td>0</td>\n",
       "      <td>0</td>\n",
       "      <td>0</td>\n",
       "    </tr>\n",
       "    <tr>\n",
       "      <th>152194</th>\n",
       "      <td>15000.0</td>\n",
       "      <td>1</td>\n",
       "      <td>73000.0</td>\n",
       "      <td>Fully Paid</td>\n",
       "      <td>7.12</td>\n",
       "      <td>0.0</td>\n",
       "      <td>1.0</td>\n",
       "      <td>0.0</td>\n",
       "      <td>6.0</td>\n",
       "      <td>0.0</td>\n",
       "      <td>...</td>\n",
       "      <td>0.0</td>\n",
       "      <td>0.0</td>\n",
       "      <td>0.0</td>\n",
       "      <td>18100.0</td>\n",
       "      <td>0.0</td>\n",
       "      <td>0.0</td>\n",
       "      <td>0.0</td>\n",
       "      <td>0</td>\n",
       "      <td>1</td>\n",
       "      <td>0</td>\n",
       "    </tr>\n",
       "  </tbody>\n",
       "</table>\n",
       "<p>5 rows × 30 columns</p>\n",
       "</div>"
      ],
      "text/plain": [
       "        loan_amnt  emp_length  annual_inc  loan_status    dti  delinq_2yrs  \\\n",
       "368562     9475.0           1    150000.0   Fully Paid   7.14          1.0   \n",
       "39605      4900.0          10     44000.0  Charged Off  15.30          3.0   \n",
       "113267    10000.0           8    100000.0   Fully Paid  12.82          0.0   \n",
       "154627     3000.0           5     59000.0   Fully Paid   5.82          0.0   \n",
       "152194    15000.0           1     73000.0   Fully Paid   7.12          0.0   \n",
       "\n",
       "        inq_last_6mths  mths_since_last_delinq  open_acc  pub_rec  \\\n",
       "368562             0.0                     6.0       6.0      0.0   \n",
       "39605              1.0                     7.0       4.0      0.0   \n",
       "113267             1.0                     0.0       8.0      1.0   \n",
       "154627             0.0                     0.0       6.0      0.0   \n",
       "152194             1.0                     0.0       6.0      0.0   \n",
       "\n",
       "            ...       open_rv_12m  max_bal_bc  all_util  total_rev_hi_lim  \\\n",
       "368562      ...               0.0         0.0       0.0           17700.0   \n",
       "39605       ...               0.0         0.0       0.0               0.0   \n",
       "113267      ...               0.0         0.0       0.0           15800.0   \n",
       "154627      ...               0.0         0.0       0.0           27600.0   \n",
       "152194      ...               0.0         0.0       0.0           18100.0   \n",
       "\n",
       "        inq_fi  total_cu_tl  inq_last_12m  home_OWN  home_RENT  status_group  \n",
       "368562     0.0          0.0           0.0         0          1             0  \n",
       "39605      0.0          0.0           0.0         0          1             1  \n",
       "113267     0.0          0.0           0.0         0          0             0  \n",
       "154627     0.0          0.0           0.0         0          0             0  \n",
       "152194     0.0          0.0           0.0         0          1             0  \n",
       "\n",
       "[5 rows x 30 columns]"
      ]
     },
     "execution_count": 19,
     "metadata": {},
     "output_type": "execute_result"
    }
   ],
   "source": [
    "# Modified dataset sample\n",
    "lend.sample(5)"
   ]
  },
  {
   "cell_type": "markdown",
   "metadata": {
    "collapsed": true
   },
   "source": [
    "## Cleaning specific fields of outliers"
   ]
  },
  {
   "cell_type": "markdown",
   "metadata": {},
   "source": [
    "### Cleaning the \"annual_inc\" column of typo values"
   ]
  },
  {
   "cell_type": "code",
   "execution_count": 21,
   "metadata": {
    "collapsed": false
   },
   "outputs": [
    {
     "data": {
      "text/plain": [
       "count    2.658150e+05\n",
       "mean     7.350731e+04\n",
       "std      6.143433e+04\n",
       "min      1.896000e+03\n",
       "25%      4.500000e+04\n",
       "50%      6.300000e+04\n",
       "75%      8.830000e+04\n",
       "max      8.900060e+06\n",
       "Name: annual_inc, dtype: float64"
      ]
     },
     "execution_count": 21,
     "metadata": {},
     "output_type": "execute_result"
    }
   ],
   "source": [
    "lend.annual_inc.describe()"
   ]
  },
  {
   "cell_type": "code",
   "execution_count": 22,
   "metadata": {
    "collapsed": false
   },
   "outputs": [
    {
     "data": {
      "text/plain": [
       "714064    2146496.0\n",
       "29708     3900000.0\n",
       "306811    4900000.0\n",
       "180080    5000000.0\n",
       "30176     6000000.0\n",
       "675609    6000000.0\n",
       "169235    6100000.0\n",
       "177182    7141778.0\n",
       "866973    8706582.0\n",
       "684000    8900060.0\n",
       "Name: annual_inc, dtype: float64"
      ]
     },
     "execution_count": 22,
     "metadata": {},
     "output_type": "execute_result"
    }
   ],
   "source": [
    "# Shows the last 10 outliers greater than $3MM in the annual income field\n",
    "lend.annual_inc.sort_values().tail(10)"
   ]
  },
  {
   "cell_type": "code",
   "execution_count": 23,
   "metadata": {
    "collapsed": true
   },
   "outputs": [],
   "source": [
    "# Keeps all values <= 3,000,000 in the \"annual income\" column, deletes any rows > 3,000,000\n",
    "lend = lend[lend['annual_inc'] <= 3000000]"
   ]
  },
  {
   "cell_type": "markdown",
   "metadata": {},
   "source": [
    "### Cleaning the \"revol_util\" column of typo values"
   ]
  },
  {
   "cell_type": "code",
   "execution_count": 24,
   "metadata": {
    "collapsed": false
   },
   "outputs": [
    {
     "data": {
      "text/plain": [
       "count    265806.000000\n",
       "mean         54.718567\n",
       "std          24.795509\n",
       "min           0.000000\n",
       "25%          36.800000\n",
       "50%          56.280000\n",
       "75%          74.300000\n",
       "max         892.300000\n",
       "Name: revol_util, dtype: float64"
      ]
     },
     "execution_count": 24,
     "metadata": {},
     "output_type": "execute_result"
    }
   ],
   "source": [
    "# Revolving account credit utilization rate column\n",
    "# Shows inaccurate typo values greater than 100 (i.e. 829., 366., 153., etc.)\n",
    "# Instead of correcting and dividing these rows by 10, I simply delete them from the set\n",
    "lend.revol_util.describe()"
   ]
  },
  {
   "cell_type": "code",
   "execution_count": 25,
   "metadata": {
    "collapsed": false
   },
   "outputs": [
    {
     "data": {
      "text/plain": [
       "array([ 106.4,  101.8,  104.3,  104.2,  108.8,  106.1,  106.2,  100.5,\n",
       "        101.4,  103.9,  102.8,  100.7,  105.2,  106.5,  103.1,  100.6,\n",
       "        102.7,  103.2,  101.5,  119. ,  103.5,  105.3,  105.7,  104.5,\n",
       "        100.4,  103.6,  102. ,  105.8,  103.3,  100.9,  100.1,  100.2,\n",
       "        107.7,  101.1,  101.2,  101.3,  104.1,  101. ,  112.9,  100.8,\n",
       "        106.9,  103.7,  101.6,  109.9,  102.5,  102.4,  100.3,  102.2,\n",
       "        104.4,  128.1,  101.9,  127.6,  120.2,  109.1,  101.7,  102.6,\n",
       "        105.1,  102.3,  115.3,  102.1,  122.5,  112.7,  103.4,  103.8,\n",
       "        107. ,  104.9,  110.3,  107.3,  103. ,  129.5,  112.5,  118.9,\n",
       "        107.2,  114.9,  109.7,  129.4,  105.5,  112.1,  130.2,  111. ,\n",
       "        113.4,  106.3,  146.1,  108.2,  106.6,  108.3,  127.4,  123.2,\n",
       "        107.8,  113.1,  109.3,  108.4,  104.6,  109.5,  366.6,  115.1,\n",
       "        105.4,  111.4,  148. ,  150.7,  892.3,  109.8,  153. ,  110.1,\n",
       "        110.6,  108.9,  112.2,  111.3,  113. ,  105.9,  141.8,  110. ,\n",
       "        113.7,  104. ,  117.6,  108.5,  109. ,  102.9,  130.4,  107.6,\n",
       "        141.1,  126.1,  117.7,  109.4,  132.1,  111.1,  104.8,  117.2,\n",
       "        116.4,  112. ,  127.1,  126.3,  114.5,  106.8,  117.9])"
      ]
     },
     "execution_count": 25,
     "metadata": {},
     "output_type": "execute_result"
    }
   ],
   "source": [
    "# Shows which and how many innacurate or typo values are present, shown as greater than 100\n",
    "rev = lend[(lend.revol_util > 100)].revol_util.unique()\n",
    "rev"
   ]
  },
  {
   "cell_type": "code",
   "execution_count": 26,
   "metadata": {
    "collapsed": false
   },
   "outputs": [],
   "source": [
    "# Keeps all values <= 100 in the \"revol_util\" column, deletes any rows > 100\n",
    "lend = lend[lend['revol_util'] <= 100]"
   ]
  },
  {
   "cell_type": "markdown",
   "metadata": {},
   "source": [
    "## Visualizing the features and their correlations"
   ]
  },
  {
   "cell_type": "code",
   "execution_count": 27,
   "metadata": {
    "collapsed": false
   },
   "outputs": [
    {
     "data": {
      "image/png": "[encoded data removed]",
      "text/plain": [
       "<matplotlib.figure.Figure at 0x114eef990>"
      ]
     },
     "metadata": {},
     "output_type": "display_data"
    }
   ],
   "source": [
    "# Displaying boxplots of binary loan status (0 = good loan perfomance vs 1 = bad) against dti (debt-to-income ratios) \n",
    "sns.boxplot(x='status_group', y='dti', data = lend);"
   ]
  },
  {
   "cell_type": "code",
   "execution_count": 28,
   "metadata": {
    "collapsed": false
   },
   "outputs": [
    {
     "data": {
      "image/png": "[encoded data removed]",
      "text/plain": [
       "<matplotlib.figure.Figure at 0x114f17690>"
      ]
     },
     "metadata": {},
     "output_type": "display_data"
    }
   ],
   "source": [
    "# Displaying boxplots of binary loan status against revol_util (revolving utilization rate) \n",
    "sns.boxplot(x='status_group', y='revol_util', data = lend);"
   ]
  },
  {
   "cell_type": "code",
   "execution_count": 425,
   "metadata": {
    "collapsed": false
   },
   "outputs": [
    {
     "data": {
      "text/html": [
       "<div>\n",
       "<table border=\"1\" class=\"dataframe\">\n",
       "  <thead>\n",
       "    <tr style=\"text-align: right;\">\n",
       "      <th></th>\n",
       "      <th>loan_amnt</th>\n",
       "      <th>emp_length</th>\n",
       "      <th>annual_inc</th>\n",
       "      <th>dti</th>\n",
       "      <th>delinq_2yrs</th>\n",
       "      <th>inq_last_6mths</th>\n",
       "      <th>mths_since_last_delinq</th>\n",
       "      <th>open_acc</th>\n",
       "      <th>pub_rec</th>\n",
       "      <th>revol_bal</th>\n",
       "      <th>...</th>\n",
       "      <th>open_rv_12m</th>\n",
       "      <th>max_bal_bc</th>\n",
       "      <th>all_util</th>\n",
       "      <th>total_rev_hi_lim</th>\n",
       "      <th>inq_fi</th>\n",
       "      <th>total_cu_tl</th>\n",
       "      <th>inq_last_12m</th>\n",
       "      <th>home_OWN</th>\n",
       "      <th>home_RENT</th>\n",
       "      <th>status_group</th>\n",
       "    </tr>\n",
       "  </thead>\n",
       "  <tbody>\n",
       "    <tr>\n",
       "      <th>loan_amnt</th>\n",
       "      <td>1.000000</td>\n",
       "      <td>0.118407</td>\n",
       "      <td>0.400826</td>\n",
       "      <td>0.057679</td>\n",
       "      <td>0.011295</td>\n",
       "      <td>-0.008971</td>\n",
       "      <td>-0.020583</td>\n",
       "      <td>0.198466</td>\n",
       "      <td>-0.065661</td>\n",
       "      <td>0.317892</td>\n",
       "      <td>...</td>\n",
       "      <td>0.003653</td>\n",
       "      <td>0.010464</td>\n",
       "      <td>0.004717</td>\n",
       "      <td>0.338665</td>\n",
       "      <td>0.004581</td>\n",
       "      <td>0.009005</td>\n",
       "      <td>0.004364</td>\n",
       "      <td>-0.015280</td>\n",
       "      <td>-0.178751</td>\n",
       "      <td>0.087057</td>\n",
       "    </tr>\n",
       "    <tr>\n",
       "      <th>emp_length</th>\n",
       "      <td>0.118407</td>\n",
       "      <td>1.000000</td>\n",
       "      <td>0.087804</td>\n",
       "      <td>0.052252</td>\n",
       "      <td>0.030833</td>\n",
       "      <td>-0.014172</td>\n",
       "      <td>0.043332</td>\n",
       "      <td>0.053370</td>\n",
       "      <td>0.046388</td>\n",
       "      <td>0.093626</td>\n",
       "      <td>...</td>\n",
       "      <td>0.000227</td>\n",
       "      <td>0.002623</td>\n",
       "      <td>0.002521</td>\n",
       "      <td>0.109118</td>\n",
       "      <td>0.001231</td>\n",
       "      <td>0.004749</td>\n",
       "      <td>0.001559</td>\n",
       "      <td>0.014894</td>\n",
       "      <td>-0.215598</td>\n",
       "      <td>-0.001582</td>\n",
       "    </tr>\n",
       "    <tr>\n",
       "      <th>annual_inc</th>\n",
       "      <td>0.400826</td>\n",
       "      <td>0.087804</td>\n",
       "      <td>1.000000</td>\n",
       "      <td>-0.202067</td>\n",
       "      <td>0.061980</td>\n",
       "      <td>0.060761</td>\n",
       "      <td>0.023310</td>\n",
       "      <td>0.165669</td>\n",
       "      <td>-0.011504</td>\n",
       "      <td>0.348993</td>\n",
       "      <td>...</td>\n",
       "      <td>0.003528</td>\n",
       "      <td>0.007581</td>\n",
       "      <td>0.003337</td>\n",
       "      <td>0.300529</td>\n",
       "      <td>0.003537</td>\n",
       "      <td>0.006334</td>\n",
       "      <td>0.003583</td>\n",
       "      <td>-0.035681</td>\n",
       "      <td>-0.186689</td>\n",
       "      <td>-0.057098</td>\n",
       "    </tr>\n",
       "    <tr>\n",
       "      <th>dti</th>\n",
       "      <td>0.057679</td>\n",
       "      <td>0.052252</td>\n",
       "      <td>-0.202067</td>\n",
       "      <td>1.000000</td>\n",
       "      <td>0.001340</td>\n",
       "      <td>-0.010600</td>\n",
       "      <td>-0.001920</td>\n",
       "      <td>0.314569</td>\n",
       "      <td>-0.033082</td>\n",
       "      <td>0.146565</td>\n",
       "      <td>...</td>\n",
       "      <td>0.004918</td>\n",
       "      <td>0.005978</td>\n",
       "      <td>0.007084</td>\n",
       "      <td>0.127643</td>\n",
       "      <td>0.004669</td>\n",
       "      <td>0.008068</td>\n",
       "      <td>0.006519</td>\n",
       "      <td>0.021966</td>\n",
       "      <td>-0.004739</td>\n",
       "      <td>0.141321</td>\n",
       "    </tr>\n",
       "    <tr>\n",
       "      <th>delinq_2yrs</th>\n",
       "      <td>0.011295</td>\n",
       "      <td>0.030833</td>\n",
       "      <td>0.061980</td>\n",
       "      <td>0.001340</td>\n",
       "      <td>1.000000</td>\n",
       "      <td>0.019926</td>\n",
       "      <td>-0.053354</td>\n",
       "      <td>0.057180</td>\n",
       "      <td>-0.002493</td>\n",
       "      <td>-0.033186</td>\n",
       "      <td>...</td>\n",
       "      <td>0.001371</td>\n",
       "      <td>-0.000695</td>\n",
       "      <td>0.002067</td>\n",
       "      <td>0.000723</td>\n",
       "      <td>0.001787</td>\n",
       "      <td>0.003420</td>\n",
       "      <td>0.003229</td>\n",
       "      <td>-0.000023</td>\n",
       "      <td>-0.044150</td>\n",
       "      <td>0.043654</td>\n",
       "    </tr>\n",
       "    <tr>\n",
       "      <th>inq_last_6mths</th>\n",
       "      <td>-0.008971</td>\n",
       "      <td>-0.014172</td>\n",
       "      <td>0.060761</td>\n",
       "      <td>-0.010600</td>\n",
       "      <td>0.019926</td>\n",
       "      <td>1.000000</td>\n",
       "      <td>0.029088</td>\n",
       "      <td>0.102542</td>\n",
       "      <td>0.046335</td>\n",
       "      <td>-0.005659</td>\n",
       "      <td>...</td>\n",
       "      <td>0.004165</td>\n",
       "      <td>-0.003911</td>\n",
       "      <td>-0.004545</td>\n",
       "      <td>-0.003988</td>\n",
       "      <td>0.003326</td>\n",
       "      <td>0.000474</td>\n",
       "      <td>0.008691</td>\n",
       "      <td>-0.001236</td>\n",
       "      <td>-0.055943</td>\n",
       "      <td>0.046896</td>\n",
       "    </tr>\n",
       "    <tr>\n",
       "      <th>mths_since_last_delinq</th>\n",
       "      <td>-0.020583</td>\n",
       "      <td>0.043332</td>\n",
       "      <td>0.023310</td>\n",
       "      <td>-0.001920</td>\n",
       "      <td>-0.053354</td>\n",
       "      <td>0.029088</td>\n",
       "      <td>1.000000</td>\n",
       "      <td>0.037612</td>\n",
       "      <td>0.069721</td>\n",
       "      <td>-0.063796</td>\n",
       "      <td>...</td>\n",
       "      <td>0.003498</td>\n",
       "      <td>-0.000044</td>\n",
       "      <td>0.003050</td>\n",
       "      <td>-0.040858</td>\n",
       "      <td>0.000551</td>\n",
       "      <td>-0.000152</td>\n",
       "      <td>0.002065</td>\n",
       "      <td>0.000316</td>\n",
       "      <td>-0.021914</td>\n",
       "      <td>0.004815</td>\n",
       "    </tr>\n",
       "    <tr>\n",
       "      <th>open_acc</th>\n",
       "      <td>0.198466</td>\n",
       "      <td>0.053370</td>\n",
       "      <td>0.165669</td>\n",
       "      <td>0.314569</td>\n",
       "      <td>0.057180</td>\n",
       "      <td>0.102542</td>\n",
       "      <td>0.037612</td>\n",
       "      <td>1.000000</td>\n",
       "      <td>-0.006028</td>\n",
       "      <td>0.223225</td>\n",
       "      <td>...</td>\n",
       "      <td>0.014441</td>\n",
       "      <td>0.006125</td>\n",
       "      <td>0.007293</td>\n",
       "      <td>0.344517</td>\n",
       "      <td>0.009677</td>\n",
       "      <td>0.008448</td>\n",
       "      <td>0.012454</td>\n",
       "      <td>-0.002676</td>\n",
       "      <td>-0.137275</td>\n",
       "      <td>0.034298</td>\n",
       "    </tr>\n",
       "    <tr>\n",
       "      <th>pub_rec</th>\n",
       "      <td>-0.065661</td>\n",
       "      <td>0.046388</td>\n",
       "      <td>-0.011504</td>\n",
       "      <td>-0.033082</td>\n",
       "      <td>-0.002493</td>\n",
       "      <td>0.046335</td>\n",
       "      <td>0.069721</td>\n",
       "      <td>-0.006028</td>\n",
       "      <td>1.000000</td>\n",
       "      <td>-0.098517</td>\n",
       "      <td>...</td>\n",
       "      <td>0.005754</td>\n",
       "      <td>-0.001274</td>\n",
       "      <td>0.002217</td>\n",
       "      <td>-0.048796</td>\n",
       "      <td>0.003702</td>\n",
       "      <td>0.000630</td>\n",
       "      <td>0.006147</td>\n",
       "      <td>0.005602</td>\n",
       "      <td>-0.007609</td>\n",
       "      <td>0.022721</td>\n",
       "    </tr>\n",
       "    <tr>\n",
       "      <th>revol_bal</th>\n",
       "      <td>0.317892</td>\n",
       "      <td>0.093626</td>\n",
       "      <td>0.348993</td>\n",
       "      <td>0.146565</td>\n",
       "      <td>-0.033186</td>\n",
       "      <td>-0.005659</td>\n",
       "      <td>-0.063796</td>\n",
       "      <td>0.223225</td>\n",
       "      <td>-0.098517</td>\n",
       "      <td>1.000000</td>\n",
       "      <td>...</td>\n",
       "      <td>0.001475</td>\n",
       "      <td>0.011017</td>\n",
       "      <td>0.001826</td>\n",
       "      <td>0.665128</td>\n",
       "      <td>-0.001946</td>\n",
       "      <td>0.004321</td>\n",
       "      <td>-0.001647</td>\n",
       "      <td>-0.002787</td>\n",
       "      <td>-0.162122</td>\n",
       "      <td>0.001090</td>\n",
       "    </tr>\n",
       "    <tr>\n",
       "      <th>revol_util</th>\n",
       "      <td>0.102955</td>\n",
       "      <td>0.045442</td>\n",
       "      <td>0.026666</td>\n",
       "      <td>0.219252</td>\n",
       "      <td>-0.018352</td>\n",
       "      <td>-0.088467</td>\n",
       "      <td>0.004338</td>\n",
       "      <td>-0.101757</td>\n",
       "      <td>-0.063431</td>\n",
       "      <td>0.226314</td>\n",
       "      <td>...</td>\n",
       "      <td>-0.007399</td>\n",
       "      <td>0.004270</td>\n",
       "      <td>-0.000735</td>\n",
       "      <td>-0.082252</td>\n",
       "      <td>-0.005055</td>\n",
       "      <td>-0.001326</td>\n",
       "      <td>-0.006418</td>\n",
       "      <td>-0.041566</td>\n",
       "      <td>0.018866</td>\n",
       "      <td>0.102319</td>\n",
       "    </tr>\n",
       "    <tr>\n",
       "      <th>total_acc</th>\n",
       "      <td>0.232809</td>\n",
       "      <td>0.137176</td>\n",
       "      <td>0.249366</td>\n",
       "      <td>0.235439</td>\n",
       "      <td>0.129249</td>\n",
       "      <td>0.125088</td>\n",
       "      <td>0.121877</td>\n",
       "      <td>0.674927</td>\n",
       "      <td>0.030044</td>\n",
       "      <td>0.204279</td>\n",
       "      <td>...</td>\n",
       "      <td>0.010572</td>\n",
       "      <td>0.003902</td>\n",
       "      <td>0.003738</td>\n",
       "      <td>0.277179</td>\n",
       "      <td>0.007450</td>\n",
       "      <td>0.010272</td>\n",
       "      <td>0.009539</td>\n",
       "      <td>-0.009745</td>\n",
       "      <td>-0.230325</td>\n",
       "      <td>-0.021509</td>\n",
       "    </tr>\n",
       "    <tr>\n",
       "      <th>annual_inc_joint</th>\n",
       "      <td>0.005692</td>\n",
       "      <td>-0.000803</td>\n",
       "      <td>-0.001737</td>\n",
       "      <td>0.010590</td>\n",
       "      <td>0.005436</td>\n",
       "      <td>-0.000136</td>\n",
       "      <td>-0.001979</td>\n",
       "      <td>0.002362</td>\n",
       "      <td>-0.001350</td>\n",
       "      <td>-0.000943</td>\n",
       "      <td>...</td>\n",
       "      <td>0.014013</td>\n",
       "      <td>-0.000088</td>\n",
       "      <td>0.026134</td>\n",
       "      <td>0.001028</td>\n",
       "      <td>-0.000067</td>\n",
       "      <td>0.027560</td>\n",
       "      <td>0.039239</td>\n",
       "      <td>-0.001262</td>\n",
       "      <td>-0.000864</td>\n",
       "      <td>0.006631</td>\n",
       "    </tr>\n",
       "    <tr>\n",
       "      <th>dti_joint</th>\n",
       "      <td>0.004609</td>\n",
       "      <td>-0.001236</td>\n",
       "      <td>-0.002041</td>\n",
       "      <td>0.013197</td>\n",
       "      <td>0.007041</td>\n",
       "      <td>0.000633</td>\n",
       "      <td>-0.001727</td>\n",
       "      <td>0.000546</td>\n",
       "      <td>-0.001331</td>\n",
       "      <td>-0.001456</td>\n",
       "      <td>...</td>\n",
       "      <td>0.017241</td>\n",
       "      <td>-0.000086</td>\n",
       "      <td>0.032143</td>\n",
       "      <td>-0.000288</td>\n",
       "      <td>-0.000066</td>\n",
       "      <td>0.033883</td>\n",
       "      <td>0.048237</td>\n",
       "      <td>-0.001244</td>\n",
       "      <td>0.000424</td>\n",
       "      <td>0.005659</td>\n",
       "    </tr>\n",
       "    <tr>\n",
       "      <th>tot_cur_bal</th>\n",
       "      <td>0.311943</td>\n",
       "      <td>0.122432</td>\n",
       "      <td>0.422343</td>\n",
       "      <td>0.058443</td>\n",
       "      <td>0.087228</td>\n",
       "      <td>0.023913</td>\n",
       "      <td>0.028740</td>\n",
       "      <td>0.247927</td>\n",
       "      <td>-0.013525</td>\n",
       "      <td>0.348873</td>\n",
       "      <td>...</td>\n",
       "      <td>0.008500</td>\n",
       "      <td>0.011349</td>\n",
       "      <td>0.010884</td>\n",
       "      <td>0.510452</td>\n",
       "      <td>0.007190</td>\n",
       "      <td>0.011650</td>\n",
       "      <td>0.007660</td>\n",
       "      <td>-0.045616</td>\n",
       "      <td>-0.411007</td>\n",
       "      <td>-0.018166</td>\n",
       "    </tr>\n",
       "    <tr>\n",
       "      <th>open_acc_6m</th>\n",
       "      <td>0.003694</td>\n",
       "      <td>0.003706</td>\n",
       "      <td>0.003524</td>\n",
       "      <td>0.006008</td>\n",
       "      <td>-0.000323</td>\n",
       "      <td>0.005214</td>\n",
       "      <td>0.003069</td>\n",
       "      <td>0.015352</td>\n",
       "      <td>0.004433</td>\n",
       "      <td>0.000688</td>\n",
       "      <td>...</td>\n",
       "      <td>0.785202</td>\n",
       "      <td>0.488168</td>\n",
       "      <td>0.673902</td>\n",
       "      <td>0.010963</td>\n",
       "      <td>0.515177</td>\n",
       "      <td>0.419594</td>\n",
       "      <td>0.557611</td>\n",
       "      <td>0.004816</td>\n",
       "      <td>-0.001401</td>\n",
       "      <td>0.003411</td>\n",
       "    </tr>\n",
       "    <tr>\n",
       "      <th>open_il_6m</th>\n",
       "      <td>0.005892</td>\n",
       "      <td>0.001502</td>\n",
       "      <td>0.003008</td>\n",
       "      <td>0.011218</td>\n",
       "      <td>0.003607</td>\n",
       "      <td>-0.000501</td>\n",
       "      <td>0.002612</td>\n",
       "      <td>0.019773</td>\n",
       "      <td>-0.000625</td>\n",
       "      <td>0.000996</td>\n",
       "      <td>...</td>\n",
       "      <td>0.535819</td>\n",
       "      <td>0.522031</td>\n",
       "      <td>0.757153</td>\n",
       "      <td>0.007738</td>\n",
       "      <td>0.503404</td>\n",
       "      <td>0.408833</td>\n",
       "      <td>0.491826</td>\n",
       "      <td>0.008782</td>\n",
       "      <td>-0.002872</td>\n",
       "      <td>0.005309</td>\n",
       "    </tr>\n",
       "    <tr>\n",
       "      <th>total_bal_il</th>\n",
       "      <td>0.006210</td>\n",
       "      <td>0.002210</td>\n",
       "      <td>0.006113</td>\n",
       "      <td>0.011599</td>\n",
       "      <td>0.002623</td>\n",
       "      <td>-0.001789</td>\n",
       "      <td>0.002908</td>\n",
       "      <td>0.016535</td>\n",
       "      <td>0.000165</td>\n",
       "      <td>0.002064</td>\n",
       "      <td>...</td>\n",
       "      <td>0.555914</td>\n",
       "      <td>0.555948</td>\n",
       "      <td>0.769332</td>\n",
       "      <td>0.009245</td>\n",
       "      <td>0.475659</td>\n",
       "      <td>0.449658</td>\n",
       "      <td>0.471359</td>\n",
       "      <td>0.008093</td>\n",
       "      <td>-0.004146</td>\n",
       "      <td>0.005901</td>\n",
       "    </tr>\n",
       "    <tr>\n",
       "      <th>il_util</th>\n",
       "      <td>0.004310</td>\n",
       "      <td>0.003450</td>\n",
       "      <td>0.003485</td>\n",
       "      <td>0.008594</td>\n",
       "      <td>0.002323</td>\n",
       "      <td>-0.003296</td>\n",
       "      <td>0.003199</td>\n",
       "      <td>0.010443</td>\n",
       "      <td>0.003089</td>\n",
       "      <td>0.000333</td>\n",
       "      <td>...</td>\n",
       "      <td>0.687479</td>\n",
       "      <td>0.673876</td>\n",
       "      <td>0.938872</td>\n",
       "      <td>0.008920</td>\n",
       "      <td>0.594205</td>\n",
       "      <td>0.479826</td>\n",
       "      <td>0.559909</td>\n",
       "      <td>0.009854</td>\n",
       "      <td>-0.003946</td>\n",
       "      <td>0.008082</td>\n",
       "    </tr>\n",
       "    <tr>\n",
       "      <th>open_rv_12m</th>\n",
       "      <td>0.003653</td>\n",
       "      <td>0.000227</td>\n",
       "      <td>0.003528</td>\n",
       "      <td>0.004918</td>\n",
       "      <td>0.001371</td>\n",
       "      <td>0.004165</td>\n",
       "      <td>0.003498</td>\n",
       "      <td>0.014441</td>\n",
       "      <td>0.005754</td>\n",
       "      <td>0.001475</td>\n",
       "      <td>...</td>\n",
       "      <td>1.000000</td>\n",
       "      <td>0.538828</td>\n",
       "      <td>0.673170</td>\n",
       "      <td>0.010886</td>\n",
       "      <td>0.527133</td>\n",
       "      <td>0.369587</td>\n",
       "      <td>0.628384</td>\n",
       "      <td>0.005920</td>\n",
       "      <td>-0.003263</td>\n",
       "      <td>0.003541</td>\n",
       "    </tr>\n",
       "    <tr>\n",
       "      <th>max_bal_bc</th>\n",
       "      <td>0.010464</td>\n",
       "      <td>0.002623</td>\n",
       "      <td>0.007581</td>\n",
       "      <td>0.005978</td>\n",
       "      <td>-0.000695</td>\n",
       "      <td>-0.003911</td>\n",
       "      <td>-0.000044</td>\n",
       "      <td>0.006125</td>\n",
       "      <td>-0.001274</td>\n",
       "      <td>0.011017</td>\n",
       "      <td>...</td>\n",
       "      <td>0.538828</td>\n",
       "      <td>1.000000</td>\n",
       "      <td>0.753758</td>\n",
       "      <td>0.016269</td>\n",
       "      <td>0.317582</td>\n",
       "      <td>0.372560</td>\n",
       "      <td>0.318499</td>\n",
       "      <td>0.008580</td>\n",
       "      <td>-0.002999</td>\n",
       "      <td>0.007057</td>\n",
       "    </tr>\n",
       "    <tr>\n",
       "      <th>all_util</th>\n",
       "      <td>0.004717</td>\n",
       "      <td>0.002521</td>\n",
       "      <td>0.003337</td>\n",
       "      <td>0.007084</td>\n",
       "      <td>0.002067</td>\n",
       "      <td>-0.004545</td>\n",
       "      <td>0.003050</td>\n",
       "      <td>0.007293</td>\n",
       "      <td>0.002217</td>\n",
       "      <td>0.001826</td>\n",
       "      <td>...</td>\n",
       "      <td>0.673170</td>\n",
       "      <td>0.753758</td>\n",
       "      <td>1.000000</td>\n",
       "      <td>0.008077</td>\n",
       "      <td>0.575124</td>\n",
       "      <td>0.492532</td>\n",
       "      <td>0.538732</td>\n",
       "      <td>0.009725</td>\n",
       "      <td>-0.003410</td>\n",
       "      <td>0.009205</td>\n",
       "    </tr>\n",
       "    <tr>\n",
       "      <th>total_rev_hi_lim</th>\n",
       "      <td>0.338665</td>\n",
       "      <td>0.109118</td>\n",
       "      <td>0.300529</td>\n",
       "      <td>0.127643</td>\n",
       "      <td>0.000723</td>\n",
       "      <td>-0.003988</td>\n",
       "      <td>-0.040858</td>\n",
       "      <td>0.344517</td>\n",
       "      <td>-0.048796</td>\n",
       "      <td>0.665128</td>\n",
       "      <td>...</td>\n",
       "      <td>0.010886</td>\n",
       "      <td>0.016269</td>\n",
       "      <td>0.008077</td>\n",
       "      <td>1.000000</td>\n",
       "      <td>0.003851</td>\n",
       "      <td>0.008973</td>\n",
       "      <td>0.004485</td>\n",
       "      <td>0.025259</td>\n",
       "      <td>-0.170969</td>\n",
       "      <td>0.000086</td>\n",
       "    </tr>\n",
       "    <tr>\n",
       "      <th>inq_fi</th>\n",
       "      <td>0.004581</td>\n",
       "      <td>0.001231</td>\n",
       "      <td>0.003537</td>\n",
       "      <td>0.004669</td>\n",
       "      <td>0.001787</td>\n",
       "      <td>0.003326</td>\n",
       "      <td>0.000551</td>\n",
       "      <td>0.009677</td>\n",
       "      <td>0.003702</td>\n",
       "      <td>-0.001946</td>\n",
       "      <td>...</td>\n",
       "      <td>0.527133</td>\n",
       "      <td>0.317582</td>\n",
       "      <td>0.575124</td>\n",
       "      <td>0.003851</td>\n",
       "      <td>1.000000</td>\n",
       "      <td>0.414526</td>\n",
       "      <td>0.746913</td>\n",
       "      <td>0.008026</td>\n",
       "      <td>-0.004688</td>\n",
       "      <td>0.004631</td>\n",
       "    </tr>\n",
       "    <tr>\n",
       "      <th>total_cu_tl</th>\n",
       "      <td>0.009005</td>\n",
       "      <td>0.004749</td>\n",
       "      <td>0.006334</td>\n",
       "      <td>0.008068</td>\n",
       "      <td>0.003420</td>\n",
       "      <td>0.000474</td>\n",
       "      <td>-0.000152</td>\n",
       "      <td>0.008448</td>\n",
       "      <td>0.000630</td>\n",
       "      <td>0.004321</td>\n",
       "      <td>...</td>\n",
       "      <td>0.369587</td>\n",
       "      <td>0.372560</td>\n",
       "      <td>0.492532</td>\n",
       "      <td>0.008973</td>\n",
       "      <td>0.414526</td>\n",
       "      <td>1.000000</td>\n",
       "      <td>0.381905</td>\n",
       "      <td>0.008993</td>\n",
       "      <td>-0.006555</td>\n",
       "      <td>0.004683</td>\n",
       "    </tr>\n",
       "    <tr>\n",
       "      <th>inq_last_12m</th>\n",
       "      <td>0.004364</td>\n",
       "      <td>0.001559</td>\n",
       "      <td>0.003583</td>\n",
       "      <td>0.006519</td>\n",
       "      <td>0.003229</td>\n",
       "      <td>0.008691</td>\n",
       "      <td>0.002065</td>\n",
       "      <td>0.012454</td>\n",
       "      <td>0.006147</td>\n",
       "      <td>-0.001647</td>\n",
       "      <td>...</td>\n",
       "      <td>0.628384</td>\n",
       "      <td>0.318499</td>\n",
       "      <td>0.538732</td>\n",
       "      <td>0.004485</td>\n",
       "      <td>0.746913</td>\n",
       "      <td>0.381905</td>\n",
       "      <td>1.000000</td>\n",
       "      <td>0.005229</td>\n",
       "      <td>-0.005015</td>\n",
       "      <td>0.005095</td>\n",
       "    </tr>\n",
       "    <tr>\n",
       "      <th>home_OWN</th>\n",
       "      <td>-0.015280</td>\n",
       "      <td>0.014894</td>\n",
       "      <td>-0.035681</td>\n",
       "      <td>0.021966</td>\n",
       "      <td>-0.000023</td>\n",
       "      <td>-0.001236</td>\n",
       "      <td>0.000316</td>\n",
       "      <td>-0.002676</td>\n",
       "      <td>0.005602</td>\n",
       "      <td>-0.002787</td>\n",
       "      <td>...</td>\n",
       "      <td>0.005920</td>\n",
       "      <td>0.008580</td>\n",
       "      <td>0.009725</td>\n",
       "      <td>0.025259</td>\n",
       "      <td>0.008026</td>\n",
       "      <td>0.008993</td>\n",
       "      <td>0.005229</td>\n",
       "      <td>1.000000</td>\n",
       "      <td>-0.261008</td>\n",
       "      <td>0.009360</td>\n",
       "    </tr>\n",
       "    <tr>\n",
       "      <th>home_RENT</th>\n",
       "      <td>-0.178751</td>\n",
       "      <td>-0.215598</td>\n",
       "      <td>-0.186689</td>\n",
       "      <td>-0.004739</td>\n",
       "      <td>-0.044150</td>\n",
       "      <td>-0.055943</td>\n",
       "      <td>-0.021914</td>\n",
       "      <td>-0.137275</td>\n",
       "      <td>-0.007609</td>\n",
       "      <td>-0.162122</td>\n",
       "      <td>...</td>\n",
       "      <td>-0.003263</td>\n",
       "      <td>-0.002999</td>\n",
       "      <td>-0.003410</td>\n",
       "      <td>-0.170969</td>\n",
       "      <td>-0.004688</td>\n",
       "      <td>-0.006555</td>\n",
       "      <td>-0.005015</td>\n",
       "      <td>-0.261008</td>\n",
       "      <td>1.000000</td>\n",
       "      <td>0.049036</td>\n",
       "    </tr>\n",
       "    <tr>\n",
       "      <th>status_group</th>\n",
       "      <td>0.087057</td>\n",
       "      <td>-0.001582</td>\n",
       "      <td>-0.057098</td>\n",
       "      <td>0.141321</td>\n",
       "      <td>0.043654</td>\n",
       "      <td>0.046896</td>\n",
       "      <td>0.004815</td>\n",
       "      <td>0.034298</td>\n",
       "      <td>0.022721</td>\n",
       "      <td>0.001090</td>\n",
       "      <td>...</td>\n",
       "      <td>0.003541</td>\n",
       "      <td>0.007057</td>\n",
       "      <td>0.009205</td>\n",
       "      <td>0.000086</td>\n",
       "      <td>0.004631</td>\n",
       "      <td>0.004683</td>\n",
       "      <td>0.005095</td>\n",
       "      <td>0.009360</td>\n",
       "      <td>0.049036</td>\n",
       "      <td>1.000000</td>\n",
       "    </tr>\n",
       "  </tbody>\n",
       "</table>\n",
       "<p>29 rows × 29 columns</p>\n",
       "</div>"
      ],
      "text/plain": [
       "                        loan_amnt  emp_length  annual_inc       dti  \\\n",
       "loan_amnt                1.000000    0.118407    0.400826  0.057679   \n",
       "emp_length               0.118407    1.000000    0.087804  0.052252   \n",
       "annual_inc               0.400826    0.087804    1.000000 -0.202067   \n",
       "dti                      0.057679    0.052252   -0.202067  1.000000   \n",
       "delinq_2yrs              0.011295    0.030833    0.061980  0.001340   \n",
       "inq_last_6mths          -0.008971   -0.014172    0.060761 -0.010600   \n",
       "mths_since_last_delinq  -0.020583    0.043332    0.023310 -0.001920   \n",
       "open_acc                 0.198466    0.053370    0.165669  0.314569   \n",
       "pub_rec                 -0.065661    0.046388   -0.011504 -0.033082   \n",
       "revol_bal                0.317892    0.093626    0.348993  0.146565   \n",
       "revol_util               0.102955    0.045442    0.026666  0.219252   \n",
       "total_acc                0.232809    0.137176    0.249366  0.235439   \n",
       "annual_inc_joint         0.005692   -0.000803   -0.001737  0.010590   \n",
       "dti_joint                0.004609   -0.001236   -0.002041  0.013197   \n",
       "tot_cur_bal              0.311943    0.122432    0.422343  0.058443   \n",
       "open_acc_6m              0.003694    0.003706    0.003524  0.006008   \n",
       "open_il_6m               0.005892    0.001502    0.003008  0.011218   \n",
       "total_bal_il             0.006210    0.002210    0.006113  0.011599   \n",
       "il_util                  0.004310    0.003450    0.003485  0.008594   \n",
       "open_rv_12m              0.003653    0.000227    0.003528  0.004918   \n",
       "max_bal_bc               0.010464    0.002623    0.007581  0.005978   \n",
       "all_util                 0.004717    0.002521    0.003337  0.007084   \n",
       "total_rev_hi_lim         0.338665    0.109118    0.300529  0.127643   \n",
       "inq_fi                   0.004581    0.001231    0.003537  0.004669   \n",
       "total_cu_tl              0.009005    0.004749    0.006334  0.008068   \n",
       "inq_last_12m             0.004364    0.001559    0.003583  0.006519   \n",
       "home_OWN                -0.015280    0.014894   -0.035681  0.021966   \n",
       "home_RENT               -0.178751   -0.215598   -0.186689 -0.004739   \n",
       "status_group             0.087057   -0.001582   -0.057098  0.141321   \n",
       "\n",
       "                        delinq_2yrs  inq_last_6mths  mths_since_last_delinq  \\\n",
       "loan_amnt                  0.011295       -0.008971               -0.020583   \n",
       "emp_length                 0.030833       -0.014172                0.043332   \n",
       "annual_inc                 0.061980        0.060761                0.023310   \n",
       "dti                        0.001340       -0.010600               -0.001920   \n",
       "delinq_2yrs                1.000000        0.019926               -0.053354   \n",
       "inq_last_6mths             0.019926        1.000000                0.029088   \n",
       "mths_since_last_delinq    -0.053354        0.029088                1.000000   \n",
       "open_acc                   0.057180        0.102542                0.037612   \n",
       "pub_rec                   -0.002493        0.046335                0.069721   \n",
       "revol_bal                 -0.033186       -0.005659               -0.063796   \n",
       "revol_util                -0.018352       -0.088467                0.004338   \n",
       "total_acc                  0.129249        0.125088                0.121877   \n",
       "annual_inc_joint           0.005436       -0.000136               -0.001979   \n",
       "dti_joint                  0.007041        0.000633               -0.001727   \n",
       "tot_cur_bal                0.087228        0.023913                0.028740   \n",
       "open_acc_6m               -0.000323        0.005214                0.003069   \n",
       "open_il_6m                 0.003607       -0.000501                0.002612   \n",
       "total_bal_il               0.002623       -0.001789                0.002908   \n",
       "il_util                    0.002323       -0.003296                0.003199   \n",
       "open_rv_12m                0.001371        0.004165                0.003498   \n",
       "max_bal_bc                -0.000695       -0.003911               -0.000044   \n",
       "all_util                   0.002067       -0.004545                0.003050   \n",
       "total_rev_hi_lim           0.000723       -0.003988               -0.040858   \n",
       "inq_fi                     0.001787        0.003326                0.000551   \n",
       "total_cu_tl                0.003420        0.000474               -0.000152   \n",
       "inq_last_12m               0.003229        0.008691                0.002065   \n",
       "home_OWN                  -0.000023       -0.001236                0.000316   \n",
       "home_RENT                 -0.044150       -0.055943               -0.021914   \n",
       "status_group               0.043654        0.046896                0.004815   \n",
       "\n",
       "                        open_acc   pub_rec  revol_bal      ...       \\\n",
       "loan_amnt               0.198466 -0.065661   0.317892      ...        \n",
       "emp_length              0.053370  0.046388   0.093626      ...        \n",
       "annual_inc              0.165669 -0.011504   0.348993      ...        \n",
       "dti                     0.314569 -0.033082   0.146565      ...        \n",
       "delinq_2yrs             0.057180 -0.002493  -0.033186      ...        \n",
       "inq_last_6mths          0.102542  0.046335  -0.005659      ...        \n",
       "mths_since_last_delinq  0.037612  0.069721  -0.063796      ...        \n",
       "open_acc                1.000000 -0.006028   0.223225      ...        \n",
       "pub_rec                -0.006028  1.000000  -0.098517      ...        \n",
       "revol_bal               0.223225 -0.098517   1.000000      ...        \n",
       "revol_util             -0.101757 -0.063431   0.226314      ...        \n",
       "total_acc               0.674927  0.030044   0.204279      ...        \n",
       "annual_inc_joint        0.002362 -0.001350  -0.000943      ...        \n",
       "dti_joint               0.000546 -0.001331  -0.001456      ...        \n",
       "tot_cur_bal             0.247927 -0.013525   0.348873      ...        \n",
       "open_acc_6m             0.015352  0.004433   0.000688      ...        \n",
       "open_il_6m              0.019773 -0.000625   0.000996      ...        \n",
       "total_bal_il            0.016535  0.000165   0.002064      ...        \n",
       "il_util                 0.010443  0.003089   0.000333      ...        \n",
       "open_rv_12m             0.014441  0.005754   0.001475      ...        \n",
       "max_bal_bc              0.006125 -0.001274   0.011017      ...        \n",
       "all_util                0.007293  0.002217   0.001826      ...        \n",
       "total_rev_hi_lim        0.344517 -0.048796   0.665128      ...        \n",
       "inq_fi                  0.009677  0.003702  -0.001946      ...        \n",
       "total_cu_tl             0.008448  0.000630   0.004321      ...        \n",
       "inq_last_12m            0.012454  0.006147  -0.001647      ...        \n",
       "home_OWN               -0.002676  0.005602  -0.002787      ...        \n",
       "home_RENT              -0.137275 -0.007609  -0.162122      ...        \n",
       "status_group            0.034298  0.022721   0.001090      ...        \n",
       "\n",
       "                        open_rv_12m  max_bal_bc  all_util  total_rev_hi_lim  \\\n",
       "loan_amnt                  0.003653    0.010464  0.004717          0.338665   \n",
       "emp_length                 0.000227    0.002623  0.002521          0.109118   \n",
       "annual_inc                 0.003528    0.007581  0.003337          0.300529   \n",
       "dti                        0.004918    0.005978  0.007084          0.127643   \n",
       "delinq_2yrs                0.001371   -0.000695  0.002067          0.000723   \n",
       "inq_last_6mths             0.004165   -0.003911 -0.004545         -0.003988   \n",
       "mths_since_last_delinq     0.003498   -0.000044  0.003050         -0.040858   \n",
       "open_acc                   0.014441    0.006125  0.007293          0.344517   \n",
       "pub_rec                    0.005754   -0.001274  0.002217         -0.048796   \n",
       "revol_bal                  0.001475    0.011017  0.001826          0.665128   \n",
       "revol_util                -0.007399    0.004270 -0.000735         -0.082252   \n",
       "total_acc                  0.010572    0.003902  0.003738          0.277179   \n",
       "annual_inc_joint           0.014013   -0.000088  0.026134          0.001028   \n",
       "dti_joint                  0.017241   -0.000086  0.032143         -0.000288   \n",
       "tot_cur_bal                0.008500    0.011349  0.010884          0.510452   \n",
       "open_acc_6m                0.785202    0.488168  0.673902          0.010963   \n",
       "open_il_6m                 0.535819    0.522031  0.757153          0.007738   \n",
       "total_bal_il               0.555914    0.555948  0.769332          0.009245   \n",
       "il_util                    0.687479    0.673876  0.938872          0.008920   \n",
       "open_rv_12m                1.000000    0.538828  0.673170          0.010886   \n",
       "max_bal_bc                 0.538828    1.000000  0.753758          0.016269   \n",
       "all_util                   0.673170    0.753758  1.000000          0.008077   \n",
       "total_rev_hi_lim           0.010886    0.016269  0.008077          1.000000   \n",
       "inq_fi                     0.527133    0.317582  0.575124          0.003851   \n",
       "total_cu_tl                0.369587    0.372560  0.492532          0.008973   \n",
       "inq_last_12m               0.628384    0.318499  0.538732          0.004485   \n",
       "home_OWN                   0.005920    0.008580  0.009725          0.025259   \n",
       "home_RENT                 -0.003263   -0.002999 -0.003410         -0.170969   \n",
       "status_group               0.003541    0.007057  0.009205          0.000086   \n",
       "\n",
       "                          inq_fi  total_cu_tl  inq_last_12m  home_OWN  \\\n",
       "loan_amnt               0.004581     0.009005      0.004364 -0.015280   \n",
       "emp_length              0.001231     0.004749      0.001559  0.014894   \n",
       "annual_inc              0.003537     0.006334      0.003583 -0.035681   \n",
       "dti                     0.004669     0.008068      0.006519  0.021966   \n",
       "delinq_2yrs             0.001787     0.003420      0.003229 -0.000023   \n",
       "inq_last_6mths          0.003326     0.000474      0.008691 -0.001236   \n",
       "mths_since_last_delinq  0.000551    -0.000152      0.002065  0.000316   \n",
       "open_acc                0.009677     0.008448      0.012454 -0.002676   \n",
       "pub_rec                 0.003702     0.000630      0.006147  0.005602   \n",
       "revol_bal              -0.001946     0.004321     -0.001647 -0.002787   \n",
       "revol_util             -0.005055    -0.001326     -0.006418 -0.041566   \n",
       "total_acc               0.007450     0.010272      0.009539 -0.009745   \n",
       "annual_inc_joint       -0.000067     0.027560      0.039239 -0.001262   \n",
       "dti_joint              -0.000066     0.033883      0.048237 -0.001244   \n",
       "tot_cur_bal             0.007190     0.011650      0.007660 -0.045616   \n",
       "open_acc_6m             0.515177     0.419594      0.557611  0.004816   \n",
       "open_il_6m              0.503404     0.408833      0.491826  0.008782   \n",
       "total_bal_il            0.475659     0.449658      0.471359  0.008093   \n",
       "il_util                 0.594205     0.479826      0.559909  0.009854   \n",
       "open_rv_12m             0.527133     0.369587      0.628384  0.005920   \n",
       "max_bal_bc              0.317582     0.372560      0.318499  0.008580   \n",
       "all_util                0.575124     0.492532      0.538732  0.009725   \n",
       "total_rev_hi_lim        0.003851     0.008973      0.004485  0.025259   \n",
       "inq_fi                  1.000000     0.414526      0.746913  0.008026   \n",
       "total_cu_tl             0.414526     1.000000      0.381905  0.008993   \n",
       "inq_last_12m            0.746913     0.381905      1.000000  0.005229   \n",
       "home_OWN                0.008026     0.008993      0.005229  1.000000   \n",
       "home_RENT              -0.004688    -0.006555     -0.005015 -0.261008   \n",
       "status_group            0.004631     0.004683      0.005095  0.009360   \n",
       "\n",
       "                        home_RENT  status_group  \n",
       "loan_amnt               -0.178751      0.087057  \n",
       "emp_length              -0.215598     -0.001582  \n",
       "annual_inc              -0.186689     -0.057098  \n",
       "dti                     -0.004739      0.141321  \n",
       "delinq_2yrs             -0.044150      0.043654  \n",
       "inq_last_6mths          -0.055943      0.046896  \n",
       "mths_since_last_delinq  -0.021914      0.004815  \n",
       "open_acc                -0.137275      0.034298  \n",
       "pub_rec                 -0.007609      0.022721  \n",
       "revol_bal               -0.162122      0.001090  \n",
       "revol_util               0.018866      0.102319  \n",
       "total_acc               -0.230325     -0.021509  \n",
       "annual_inc_joint        -0.000864      0.006631  \n",
       "dti_joint                0.000424      0.005659  \n",
       "tot_cur_bal             -0.411007     -0.018166  \n",
       "open_acc_6m             -0.001401      0.003411  \n",
       "open_il_6m              -0.002872      0.005309  \n",
       "total_bal_il            -0.004146      0.005901  \n",
       "il_util                 -0.003946      0.008082  \n",
       "open_rv_12m             -0.003263      0.003541  \n",
       "max_bal_bc              -0.002999      0.007057  \n",
       "all_util                -0.003410      0.009205  \n",
       "total_rev_hi_lim        -0.170969      0.000086  \n",
       "inq_fi                  -0.004688      0.004631  \n",
       "total_cu_tl             -0.006555      0.004683  \n",
       "inq_last_12m            -0.005015      0.005095  \n",
       "home_OWN                -0.261008      0.009360  \n",
       "home_RENT                1.000000      0.049036  \n",
       "status_group             0.049036      1.000000  \n",
       "\n",
       "[29 rows x 29 columns]"
      ]
     },
     "execution_count": 425,
     "metadata": {},
     "output_type": "execute_result"
    }
   ],
   "source": [
    "# Correlation matrix\n",
    "corr = lend.corr()\n",
    "corr"
   ]
  },
  {
   "cell_type": "code",
   "execution_count": 424,
   "metadata": {
    "collapsed": false
   },
   "outputs": [
    {
     "data": {
      "image/png": "[encoded data removed]",
      "text/plain": [
       "<matplotlib.figure.Figure at 0x118214850>"
      ]
     },
     "metadata": {},
     "output_type": "display_data"
    }
   ],
   "source": [
    "sns.lmplot('all_util', 'max_bal_bc', data=lend, fit_reg=True);"
   ]
  },
  {
   "cell_type": "code",
   "execution_count": 423,
   "metadata": {
    "collapsed": false
   },
   "outputs": [
    {
     "data": {
      "image/png": "[encoded data removed]",
      "text/plain": [
       "<matplotlib.figure.Figure at 0x11740aa50>"
      ]
     },
     "metadata": {},
     "output_type": "display_data"
    }
   ],
   "source": [
    "sns.lmplot('all_util', 'il_util', data=lend, fit_reg=True);"
   ]
  },
  {
   "cell_type": "code",
   "execution_count": 31,
   "metadata": {
    "collapsed": false
   },
   "outputs": [
    {
     "data": {
      "image/png": "[encoded data removed]",
      "text/plain": [
       "<matplotlib.figure.Figure at 0x1167a5790>"
      ]
     },
     "metadata": {},
     "output_type": "display_data"
    }
   ],
   "source": [
    "# Correlation matrix heatmap of columns\n",
    "sns.set(style=\"white\")\n",
    "\n",
    "mask = np.zeros_like(corr, dtype=np.bool)\n",
    "mask[np.triu_indices_from(mask)] = True\n",
    "\n",
    "f, ax = plt.subplots(figsize=(7, 7))\n",
    "\n",
    "cmap = sns.diverging_palette(220, 10, as_cmap=True)\n",
    "\n",
    "sns.heatmap(corr, mask=mask, cmap=cmap, vmax=1,\n",
    "            square=True, xticklabels=2, yticklabels=2,\n",
    "            linewidths=.5, cbar_kws={\"shrink\": .5}, ax=ax);"
   ]
  },
  {
   "cell_type": "code",
   "execution_count": 32,
   "metadata": {
    "collapsed": false
   },
   "outputs": [
    {
     "data": {
      "image/png": "[encoded data removed]",
      "text/plain": [
       "<matplotlib.figure.Figure at 0x114f540d0>"
      ]
     },
     "metadata": {},
     "output_type": "display_data"
    }
   ],
   "source": [
    "# Covariance matrix heatmap of columns\n",
    "cov = lend.cov()\n",
    "sns.set(style=\"white\")\n",
    "\n",
    "# Generate a mask for the upper triangle\n",
    "mask = np.zeros_like(cov, dtype=np.bool)\n",
    "mask[np.triu_indices_from(mask)] = True\n",
    "\n",
    "f, ax = plt.subplots(figsize=(7, 7))\n",
    "\n",
    "cmap = sns.diverging_palette(220, 10, as_cmap=True)\n",
    "\n",
    "sns.heatmap(cov, mask=mask, cmap=cmap, vmax=1,\n",
    "            square=True, xticklabels=2, yticklabels=2,\n",
    "            linewidths=.5, cbar_kws={\"shrink\": .5}, ax=ax);"
   ]
  },
  {
   "cell_type": "markdown",
   "metadata": {
    "collapsed": true
   },
   "source": [
    "## Applying the Learning Models"
   ]
  },
  {
   "cell_type": "markdown",
   "metadata": {},
   "source": [
    "### Logistic Regression Model"
   ]
  },
  {
   "cell_type": "code",
   "execution_count": 426,
   "metadata": {
    "collapsed": false
   },
   "outputs": [
    {
     "data": {
      "text/plain": [
       "Index([u'loan_amnt', u'emp_length', u'annual_inc', u'loan_status', u'dti',\n",
       "       u'delinq_2yrs', u'inq_last_6mths', u'mths_since_last_delinq',\n",
       "       u'open_acc', u'pub_rec', u'revol_bal', u'revol_util', u'total_acc',\n",
       "       u'annual_inc_joint', u'dti_joint', u'tot_cur_bal', u'open_acc_6m',\n",
       "       u'open_il_6m', u'total_bal_il', u'il_util', u'open_rv_12m',\n",
       "       u'max_bal_bc', u'all_util', u'total_rev_hi_lim', u'inq_fi',\n",
       "       u'total_cu_tl', u'inq_last_12m', u'home_OWN', u'home_RENT',\n",
       "       u'status_group'],\n",
       "      dtype='object')"
      ]
     },
     "execution_count": 426,
     "metadata": {},
     "output_type": "execute_result"
    }
   ],
   "source": [
    "lend.columns"
   ]
  },
  {
   "cell_type": "code",
   "execution_count": 427,
   "metadata": {
    "collapsed": true
   },
   "outputs": [],
   "source": [
    "# assigning the independent and dependent variables. \n",
    "# Excludes the original 'loan_amnt', emp_length' & 'home_ownership' columns\n",
    "\n",
    "features = ['emp_length','annual_inc','dti','delinq_2yrs','inq_last_6mths','mths_since_last_delinq',\n",
    "            'open_acc','pub_rec','revol_bal','revol_util','total_acc','annual_inc_joint','dti_joint',\n",
    "            'tot_cur_bal','open_acc_6m','open_il_6m','total_bal_il','il_util','open_rv_12m','max_bal_bc',\n",
    "            'all_util','total_rev_hi_lim','inq_fi','total_cu_tl','inq_last_12m','home_OWN','home_RENT']\n",
    "\n",
    "X = lend[features]\n",
    "y = lend.status_group"
   ]
  },
  {
   "cell_type": "code",
   "execution_count": 428,
   "metadata": {
    "collapsed": false
   },
   "outputs": [],
   "source": [
    "# Split data into train/test sets\n",
    "from sklearn.model_selection import train_test_split\n",
    "\n",
    "X_train, X_test, y_train, y_test = train_test_split(X, y)"
   ]
  },
  {
   "cell_type": "code",
   "execution_count": 429,
   "metadata": {
    "collapsed": false
   },
   "outputs": [],
   "source": [
    "from sklearn.preprocessing import StandardScaler\n",
    "\n",
    "scale = StandardScaler()\n",
    "# transform our training features\n",
    "X_train_scale = scale.fit_transform(X_train)\n",
    "\n",
    "# transform the testing features in the same way\n",
    "X_test_scale = scale.transform(X_test)"
   ]
  },
  {
   "cell_type": "code",
   "execution_count": 430,
   "metadata": {
    "collapsed": false
   },
   "outputs": [],
   "source": [
    "# Calling the logistic regression model function\n",
    "from sklearn.linear_model import LogisticRegression\n",
    "\n",
    "logreg = LogisticRegression(penalty='l1', C=0.1)"
   ]
  },
  {
   "cell_type": "code",
   "execution_count": 431,
   "metadata": {
    "collapsed": false
   },
   "outputs": [
    {
     "data": {
      "text/plain": [
       "LogisticRegression(C=0.1, class_weight=None, dual=False, fit_intercept=True,\n",
       "          intercept_scaling=1, max_iter=100, multi_class='ovr', n_jobs=1,\n",
       "          penalty='l1', random_state=None, solver='liblinear', tol=0.0001,\n",
       "          verbose=0, warm_start=False)"
      ]
     },
     "execution_count": 431,
     "metadata": {},
     "output_type": "execute_result"
    }
   ],
   "source": [
    "# Fitting the data to the logistic regression model\n",
    "logreg.fit(X_train_scale, y_train)"
   ]
  },
  {
   "cell_type": "code",
   "execution_count": 388,
   "metadata": {
    "collapsed": false
   },
   "outputs": [
    {
     "data": {
      "text/plain": [
       "[('emp_length', 0.016436093151666338),\n",
       " ('annual_inc', -0.064150881751307287),\n",
       " ('dti', 0.28051132393672168),\n",
       " ('delinq_2yrs', 0.12541189821571969),\n",
       " ('inq_last_6mths', 0.14423178683227134),\n",
       " ('mths_since_last_delinq', 0.028756252740477797),\n",
       " ('open_acc', 0.15983239312858721),\n",
       " ('pub_rec', 0.074678686058139224),\n",
       " ('revol_bal', -0.13081381327342917),\n",
       " ('revol_util', 0.25944835736481603),\n",
       " ('total_acc', -0.21939441971380802),\n",
       " ('annual_inc_joint', 0.034636980174223508),\n",
       " ('dti_joint', -0.024712245784827117),\n",
       " ('tot_cur_bal', -0.023816647569725576),\n",
       " ('open_acc_6m', -0.018323283230681373),\n",
       " ('open_il_6m', -0.0027571618902745647),\n",
       " ('total_bal_il', -0.0039869222091442396),\n",
       " ('il_util', 0.0079274735277084628),\n",
       " ('open_rv_12m', -0.0018921614931236954),\n",
       " ('max_bal_bc', 0.0039183702393543506),\n",
       " ('all_util', 0.024866896070659547),\n",
       " ('total_rev_hi_lim', 0.13031248563796999),\n",
       " ('inq_fi', -0.00074577351965595285),\n",
       " ('total_cu_tl', 0.0085045042610710341),\n",
       " ('inq_last_12m', -0.0037594634873433517),\n",
       " ('home_OWN', 0.045023928228749982),\n",
       " ('home_RENT', 0.096933657036828061)]"
      ]
     },
     "execution_count": 388,
     "metadata": {},
     "output_type": "execute_result"
    }
   ],
   "source": [
    "# Showing the features and corresponding coefficients\n",
    "zip(features, logreg.coef_[0])"
   ]
  },
  {
   "cell_type": "code",
   "execution_count": 432,
   "metadata": {
    "collapsed": false
   },
   "outputs": [],
   "source": [
    "# Make accuracy predictions on test set\n",
    "y_pred_class = logreg.predict(X_test_scale)"
   ]
  },
  {
   "cell_type": "code",
   "execution_count": 433,
   "metadata": {
    "collapsed": false
   },
   "outputs": [
    {
     "name": "stdout",
     "output_type": "stream",
     "text": [
      "0.756798358132\n"
     ]
    }
   ],
   "source": [
    "# The accuracy or predicted class divided by the test class\n",
    "from sklearn import metrics\n",
    "\n",
    "print metrics.accuracy_score(y_test, y_pred_class)"
   ]
  },
  {
   "cell_type": "code",
   "execution_count": 434,
   "metadata": {
    "collapsed": false
   },
   "outputs": [
    {
     "name": "stdout",
     "output_type": "stream",
     "text": [
      "Confusion matrix:\n",
      "[[49977   196]\n",
      " [15920   173]]\n"
     ]
    }
   ],
   "source": [
    "from sklearn.metrics import confusion_matrix\n",
    "\n",
    "confusion = confusion_matrix(y_test, y_pred_class)\n",
    "print(\"Confusion matrix:\\n{}\".format(confusion))"
   ]
  },
  {
   "cell_type": "markdown",
   "metadata": {},
   "source": [
    "* TP: 173 = we predicted yes they are defaults (will perform bad), and they were actual defaults (performed bad).\n",
    "* TN: 49,977 = we predicted no they're not defaults (will perform good), and they were not defaults (performed good).\n",
    "* FP: 196 = we predicted yes they are defaults (will perform bad), but they were not actual defaults (performed good) (Type I error).\n",
    "* FN: 15,920 = we predicted no they're not defaults (will perform good), and they were defaults (they performed bad) (Type II error).\n",
    "\n",
    "**Specificity**: When it's actually not a default, how often does it predict a non-default?\n",
    "\n",
    "**Recall or Sensitivity**: When it's actually a default, how often does it predict a default?\n",
    "\n",
    "**Precision**: When it predicts a default, how often is it correct?\n",
    "\n",
    "**F1 Score** = 2*((precision * sensitivity)/(precision + sensitivity))"
   ]
  },
  {
   "cell_type": "code",
   "execution_count": 435,
   "metadata": {
    "collapsed": false
   },
   "outputs": [
    {
     "name": "stdout",
     "output_type": "stream",
     "text": [
      "             precision    recall  f1-score   support\n",
      "\n",
      "non-default       0.76      1.00      0.86     50173\n",
      "    default       0.47      0.01      0.02     16093\n",
      "\n",
      "avg / total       0.69      0.76      0.66     66266\n",
      "\n"
     ]
    }
   ],
   "source": [
    "from sklearn.metrics import classification_report\n",
    "\n",
    "print(classification_report(y_test, y_pred_class, target_names=[\"non-default\", \"default\"]))"
   ]
  },
  {
   "cell_type": "code",
   "execution_count": 436,
   "metadata": {
    "collapsed": false
   },
   "outputs": [
    {
     "name": "stdout",
     "output_type": "stream",
     "text": [
      "AUC for Logistic Regression: 0.637\n"
     ]
    }
   ],
   "source": [
    "# IMPORTANT: first argument is true values, second argument is predicted probabilities\n",
    "from sklearn.metrics import roc_auc_score\n",
    "logreg_auc = roc_auc_score(y_test, logreg.predict_proba(X_test_scale)[:, 1])\n",
    "print(\"AUC for Logistic Regression: {:.3f}\".format(logreg_auc))"
   ]
  },
  {
   "cell_type": "code",
   "execution_count": 437,
   "metadata": {
    "collapsed": false,
    "scrolled": false
   },
   "outputs": [
    {
     "data": {
      "image/png": "[encoded data removed]",
      "text/plain": [
       "<matplotlib.figure.Figure at 0x117e637d0>"
      ]
     },
     "metadata": {},
     "output_type": "display_data"
    }
   ],
   "source": [
    "from sklearn.metrics import roc_curve\n",
    "fpr, tpr, thresholds = metrics.roc_curve(y_test, logreg.predict_proba(X_test_scale)[:, 1])\n",
    "\n",
    "plt.plot(fpr, tpr, label='ROC Curve (area = %0.2f)' % logreg_auc)\n",
    "plt.plot([0, 1], [0, 1], 'k--')\n",
    "plt.xlim([0.0, 1.0])\n",
    "plt.ylim([0.0, 1.05])\n",
    "plt.xlabel(\"FPR\")\n",
    "plt.ylabel(\"TPR (recall)\")\n",
    "plt.title('ROC Curve')\n",
    "plt.legend(loc=4)\n",
    "plt.show()"
   ]
  },
  {
   "cell_type": "markdown",
   "metadata": {
    "collapsed": true
   },
   "source": [
    "### Random Forest Model"
   ]
  },
  {
   "cell_type": "code",
   "execution_count": 438,
   "metadata": {
    "collapsed": false
   },
   "outputs": [
    {
     "data": {
      "text/plain": [
       "RandomForestClassifier(bootstrap=True, class_weight=None, criterion='gini',\n",
       "            max_depth=None, max_features='sqrt', max_leaf_nodes=None,\n",
       "            min_impurity_split=1e-07, min_samples_leaf=1,\n",
       "            min_samples_split=2, min_weight_fraction_leaf=0.0,\n",
       "            n_estimators=20, n_jobs=1, oob_score=False, random_state=None,\n",
       "            verbose=0, warm_start=False)"
      ]
     },
     "execution_count": 438,
     "metadata": {},
     "output_type": "execute_result"
    }
   ],
   "source": [
    "from sklearn.ensemble import RandomForestClassifier\n",
    "    \n",
    "X_train, X_test, y_train, y_test = train_test_split(X, y)\n",
    "    \n",
    "rf = RandomForestClassifier(n_estimators = 20, max_features='sqrt')\n",
    "    \n",
    "rf.fit(X_train, y_train)"
   ]
  },
  {
   "cell_type": "code",
   "execution_count": 439,
   "metadata": {
    "collapsed": false,
    "scrolled": true
   },
   "outputs": [
    {
     "data": {
      "text/html": [
       "<div>\n",
       "<table border=\"1\" class=\"dataframe\">\n",
       "  <thead>\n",
       "    <tr style=\"text-align: right;\">\n",
       "      <th></th>\n",
       "      <th>Features</th>\n",
       "      <th>Importance Score</th>\n",
       "    </tr>\n",
       "  </thead>\n",
       "  <tbody>\n",
       "    <tr>\n",
       "      <th>2</th>\n",
       "      <td>dti</td>\n",
       "      <td>0.131159</td>\n",
       "    </tr>\n",
       "    <tr>\n",
       "      <th>9</th>\n",
       "      <td>revol_util</td>\n",
       "      <td>0.120784</td>\n",
       "    </tr>\n",
       "    <tr>\n",
       "      <th>8</th>\n",
       "      <td>revol_bal</td>\n",
       "      <td>0.113541</td>\n",
       "    </tr>\n",
       "    <tr>\n",
       "      <th>1</th>\n",
       "      <td>annual_inc</td>\n",
       "      <td>0.104676</td>\n",
       "    </tr>\n",
       "    <tr>\n",
       "      <th>13</th>\n",
       "      <td>tot_cur_bal</td>\n",
       "      <td>0.095897</td>\n",
       "    </tr>\n",
       "    <tr>\n",
       "      <th>21</th>\n",
       "      <td>total_rev_hi_lim</td>\n",
       "      <td>0.090632</td>\n",
       "    </tr>\n",
       "    <tr>\n",
       "      <th>10</th>\n",
       "      <td>total_acc</td>\n",
       "      <td>0.089865</td>\n",
       "    </tr>\n",
       "    <tr>\n",
       "      <th>6</th>\n",
       "      <td>open_acc</td>\n",
       "      <td>0.072599</td>\n",
       "    </tr>\n",
       "    <tr>\n",
       "      <th>5</th>\n",
       "      <td>mths_since_last_delinq</td>\n",
       "      <td>0.053142</td>\n",
       "    </tr>\n",
       "    <tr>\n",
       "      <th>0</th>\n",
       "      <td>emp_length</td>\n",
       "      <td>0.051717</td>\n",
       "    </tr>\n",
       "    <tr>\n",
       "      <th>4</th>\n",
       "      <td>inq_last_6mths</td>\n",
       "      <td>0.031520</td>\n",
       "    </tr>\n",
       "    <tr>\n",
       "      <th>3</th>\n",
       "      <td>delinq_2yrs</td>\n",
       "      <td>0.014209</td>\n",
       "    </tr>\n",
       "    <tr>\n",
       "      <th>7</th>\n",
       "      <td>pub_rec</td>\n",
       "      <td>0.013422</td>\n",
       "    </tr>\n",
       "    <tr>\n",
       "      <th>26</th>\n",
       "      <td>home_RENT</td>\n",
       "      <td>0.009114</td>\n",
       "    </tr>\n",
       "    <tr>\n",
       "      <th>25</th>\n",
       "      <td>home_OWN</td>\n",
       "      <td>0.006959</td>\n",
       "    </tr>\n",
       "    <tr>\n",
       "      <th>17</th>\n",
       "      <td>il_util</td>\n",
       "      <td>0.000103</td>\n",
       "    </tr>\n",
       "    <tr>\n",
       "      <th>20</th>\n",
       "      <td>all_util</td>\n",
       "      <td>0.000102</td>\n",
       "    </tr>\n",
       "    <tr>\n",
       "      <th>19</th>\n",
       "      <td>max_bal_bc</td>\n",
       "      <td>0.000093</td>\n",
       "    </tr>\n",
       "    <tr>\n",
       "      <th>16</th>\n",
       "      <td>total_bal_il</td>\n",
       "      <td>0.000082</td>\n",
       "    </tr>\n",
       "    <tr>\n",
       "      <th>15</th>\n",
       "      <td>open_il_6m</td>\n",
       "      <td>0.000079</td>\n",
       "    </tr>\n",
       "    <tr>\n",
       "      <th>24</th>\n",
       "      <td>inq_last_12m</td>\n",
       "      <td>0.000076</td>\n",
       "    </tr>\n",
       "    <tr>\n",
       "      <th>18</th>\n",
       "      <td>open_rv_12m</td>\n",
       "      <td>0.000066</td>\n",
       "    </tr>\n",
       "    <tr>\n",
       "      <th>22</th>\n",
       "      <td>inq_fi</td>\n",
       "      <td>0.000057</td>\n",
       "    </tr>\n",
       "    <tr>\n",
       "      <th>23</th>\n",
       "      <td>total_cu_tl</td>\n",
       "      <td>0.000038</td>\n",
       "    </tr>\n",
       "    <tr>\n",
       "      <th>14</th>\n",
       "      <td>open_acc_6m</td>\n",
       "      <td>0.000025</td>\n",
       "    </tr>\n",
       "    <tr>\n",
       "      <th>11</th>\n",
       "      <td>annual_inc_joint</td>\n",
       "      <td>0.000022</td>\n",
       "    </tr>\n",
       "    <tr>\n",
       "      <th>12</th>\n",
       "      <td>dti_joint</td>\n",
       "      <td>0.000019</td>\n",
       "    </tr>\n",
       "  </tbody>\n",
       "</table>\n",
       "</div>"
      ],
      "text/plain": [
       "                  Features  Importance Score\n",
       "2                      dti          0.131159\n",
       "9               revol_util          0.120784\n",
       "8                revol_bal          0.113541\n",
       "1               annual_inc          0.104676\n",
       "13             tot_cur_bal          0.095897\n",
       "21        total_rev_hi_lim          0.090632\n",
       "10               total_acc          0.089865\n",
       "6                 open_acc          0.072599\n",
       "5   mths_since_last_delinq          0.053142\n",
       "0               emp_length          0.051717\n",
       "4           inq_last_6mths          0.031520\n",
       "3              delinq_2yrs          0.014209\n",
       "7                  pub_rec          0.013422\n",
       "26               home_RENT          0.009114\n",
       "25                home_OWN          0.006959\n",
       "17                 il_util          0.000103\n",
       "20                all_util          0.000102\n",
       "19              max_bal_bc          0.000093\n",
       "16            total_bal_il          0.000082\n",
       "15              open_il_6m          0.000079\n",
       "24            inq_last_12m          0.000076\n",
       "18             open_rv_12m          0.000066\n",
       "22                  inq_fi          0.000057\n",
       "23             total_cu_tl          0.000038\n",
       "14             open_acc_6m          0.000025\n",
       "11        annual_inc_joint          0.000022\n",
       "12               dti_joint          0.000019"
      ]
     },
     "execution_count": 439,
     "metadata": {},
     "output_type": "execute_result"
    }
   ],
   "source": [
    "features = X.columns\n",
    "feature_importances = rf.feature_importances_\n",
    "\n",
    "features_df = pd.DataFrame({'Features': features, 'Importance Score': feature_importances})\n",
    "features_df.sort_values('Importance Score', inplace=True, ascending=False)\n",
    "\n",
    "features_df"
   ]
  },
  {
   "cell_type": "code",
   "execution_count": 440,
   "metadata": {
    "collapsed": true
   },
   "outputs": [],
   "source": [
    "y_pred_rf_class = rf.predict(X_test)"
   ]
  },
  {
   "cell_type": "code",
   "execution_count": 445,
   "metadata": {
    "collapsed": false,
    "scrolled": false
   },
   "outputs": [
    {
     "name": "stdout",
     "output_type": "stream",
     "text": [
      "CV Accuracy [ 0.75766218  0.74922471  0.74442583], Average Accuracy 0.750437575645\n"
     ]
    }
   ],
   "source": [
    "from sklearn.model_selection import cross_val_score\n",
    "scores = cross_val_score(rf, X, y, scoring='accuracy')\n",
    "print('CV Accuracy {}, Average Accuracy {}'.format(scores, scores.mean()))\n",
    "\n",
    "#for n_trees in range(1, 100, 25):\n",
    "    #model = RandomForestClassifier(n_estimators = n_trees)\n",
    "    #scores = cross_val_score(model, X, y, scoring='accuracy')\n",
    "    #print('n trees: {}, CV accuracy {}, Average accuracy {}'.format(n_trees, scores, scores.mean()))"
   ]
  },
  {
   "cell_type": "code",
   "execution_count": 441,
   "metadata": {
    "collapsed": false
   },
   "outputs": [
    {
     "name": "stdout",
     "output_type": "stream",
     "text": [
      "Confusion matrix:\n",
      "[[49045  1450]\n",
      " [14769  1002]]\n"
     ]
    }
   ],
   "source": [
    "confusion = confusion_matrix(y_test, y_pred_rf_class)\n",
    "print(\"Confusion matrix:\\n{}\".format(confusion))"
   ]
  },
  {
   "cell_type": "code",
   "execution_count": 442,
   "metadata": {
    "collapsed": false
   },
   "outputs": [
    {
     "name": "stdout",
     "output_type": "stream",
     "text": [
      "             precision    recall  f1-score   support\n",
      "\n",
      "non-default       0.77      0.97      0.86     50495\n",
      "    default       0.41      0.06      0.11     15771\n",
      "\n",
      "avg / total       0.68      0.76      0.68     66266\n",
      "\n"
     ]
    }
   ],
   "source": [
    "print(classification_report(y_test, y_pred_rf_class, target_names=[\"non-default\", \"default\"]))"
   ]
  },
  {
   "cell_type": "code",
   "execution_count": 443,
   "metadata": {
    "collapsed": false
   },
   "outputs": [
    {
     "name": "stdout",
     "output_type": "stream",
     "text": [
      "AUC for Random Forests: 0.610\n"
     ]
    }
   ],
   "source": [
    "from sklearn.metrics import roc_auc_score\n",
    "rf_auc = roc_auc_score(y_test, rf.predict_proba(X_test)[:,1])\n",
    "print(\"AUC for Random Forests: {:.3f}\".format(rf_auc))"
   ]
  },
  {
   "cell_type": "code",
   "execution_count": 444,
   "metadata": {
    "collapsed": false
   },
   "outputs": [
    {
     "data": {
      "image/png": "[encoded data removed]",
      "text/plain": [
       "<matplotlib.figure.Figure at 0x116775c90>"
      ]
     },
     "metadata": {},
     "output_type": "display_data"
    }
   ],
   "source": [
    "from sklearn.metrics import roc_curve\n",
    "fpr, tpr, thresholds = metrics.roc_curve(y_test, rf.predict_proba(X_test)[:,1])\n",
    "\n",
    "plt.plot(fpr, tpr, label='ROC Curve (area = %0.2f)' % rf_auc)\n",
    "plt.plot([0, 1], [0, 1], 'k--')\n",
    "plt.xlim([0.0, 1.0])\n",
    "plt.ylim([0.0, 1.05])\n",
    "plt.xlabel(\"FPR\")\n",
    "plt.ylabel(\"TPR (recall)\")\n",
    "plt.title('ROC Curve')\n",
    "plt.legend(loc=4)\n",
    "plt.show()"
   ]
  },
  {
   "cell_type": "code",
   "execution_count": null,
   "metadata": {
    "collapsed": true
   },
   "outputs": [],
   "source": []
  }
 ],
 "metadata": {
  "anaconda-cloud": {},
  "kernelspec": {
   "display_name": "Python [conda root]",
   "language": "python",
   "name": "conda-root-py"
  },
  "language_info": {
   "codemirror_mode": {
    "name": "ipython",
    "version": 2
   },
   "file_extension": ".py",
   "mimetype": "text/x-python",
   "name": "python",
   "nbconvert_exporter": "python",
   "pygments_lexer": "ipython2",
   "version": "2.7.12"
  }
 },
 "nbformat": 4,
 "nbformat_minor": 1
}
